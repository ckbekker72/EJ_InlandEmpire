{
 "cells": [
  {
   "cell_type": "markdown",
   "id": "5d98ed84-787f-4d25-b01a-83e4ccbc088a",
   "metadata": {},
   "source": [
    "# Data Wrangling: Getting and Cleaning Data, Creating Variables, and Preparing for Joins"
   ]
  },
  {
   "cell_type": "markdown",
   "id": "5092b18a-6e0c-4101-bf2d-8206f4628e3d",
   "metadata": {
    "tags": []
   },
   "source": [
    "## CalEnviroScreen4.0"
   ]
  },
  {
   "cell_type": "markdown",
   "id": "d4b4accf-a75a-4f76-9faf-1b30efb58253",
   "metadata": {},
   "source": [
    "Load data from CalEnviroScreen4.0"
   ]
  },
  {
   "cell_type": "code",
   "execution_count": 1,
   "id": "6b061fee-455d-4174-bab1-253ea31b0de1",
   "metadata": {},
   "outputs": [],
   "source": [
    "# Import os to change directory\n",
    "import os\n",
    "# Import pandas \n",
    "import pandas as pd\n",
    "# Import geopandas\n",
    "import geopandas as gpd\n",
    "# Import numpy\n",
    "import numpy as np\n",
    "# Get mapping to crop raster with shapefile\n",
    "from shapely.geometry import mapping\n",
    "# Importing excel reader\n",
    "import openpyxl"
   ]
  },
  {
   "cell_type": "code",
   "execution_count": 2,
   "id": "1a2e73f7-f84f-4a06-8b5b-1f845bb80745",
   "metadata": {},
   "outputs": [],
   "source": [
    "# Change directory to location of CalEnviroScreen data\n",
    "os.chdir('Data/CalEnviroScreen')"
   ]
  },
  {
   "cell_type": "code",
   "execution_count": 3,
   "id": "a1782e47-90d7-4741-8b1a-70069d133354",
   "metadata": {
    "tags": []
   },
   "outputs": [],
   "source": [
    "# Load in CalEnviroScreen Data\n",
    "esGdf = gpd.read_file('CES4 Final Shapefile.shp')"
   ]
  },
  {
   "cell_type": "code",
   "execution_count": 4,
   "id": "5226599e-abab-422e-82f9-9fffd0295489",
   "metadata": {},
   "outputs": [],
   "source": [
    "# Restrict census tracts to Riverside and San Bernardino Counties\n",
    "esGdf_InlandEmpire = esGdf[esGdf['County'].isin(['Riverside', 'San Bernardino'])]"
   ]
  },
  {
   "cell_type": "code",
   "execution_count": 5,
   "id": "215ada67-da13-43c7-80c3-86ac2477c59e",
   "metadata": {},
   "outputs": [
    {
     "name": "stderr",
     "output_type": "stream",
     "text": [
      "/Users/clairebekker/anaconda3/envs/uds/lib/python3.10/site-packages/geopandas/geodataframe.py:1443: SettingWithCopyWarning: \n",
      "A value is trying to be set on a copy of a slice from a DataFrame.\n",
      "Try using .loc[row_indexer,col_indexer] = value instead\n",
      "\n",
      "See the caveats in the documentation: https://pandas.pydata.org/pandas-docs/stable/user_guide/indexing.html#returning-a-view-versus-a-copy\n",
      "  super().__setitem__(key, value)\n"
     ]
    }
   ],
   "source": [
    "# Define disadvantaged communities as those with CalEnviroScreen score percentile ≥ 75\n",
    "esGdf_InlandEmpire['CalEnviroScreen_EJ'] = esGdf_InlandEmpire['CIscoreP'].apply(lambda x: True if x >= 75 else False) "
   ]
  },
  {
   "cell_type": "code",
   "execution_count": 6,
   "id": "a83e0b81-c927-4267-a102-db7879d99ac4",
   "metadata": {},
   "outputs": [],
   "source": [
    "# Use only raw scores as x-variables\n",
    "# List comprehension to exclude percentile columns and scores\n",
    "cols_to_exclude = [col for col in esGdf_InlandEmpire.columns if col.endswith('P') or col.endswith('score') or col.endswith('Sc')\n",
    "                   or col=='PollBurd' or col=='PopChar']\n",
    "esGdf_InlandEmpire_rawscores = [col for col in esGdf_InlandEmpire.columns if col not in cols_to_exclude]\n",
    "\n",
    "# Subset dataframe to only include raw scores\n",
    "esGdf_InlandEmpire= esGdf_InlandEmpire[esGdf_InlandEmpire_rawscores]\n",
    "\n",
    "# Edit tract number to match the GEOID in other datasets; add leading zero\n",
    "esGdf_InlandEmpire['GEOID'] = esGdf_InlandEmpire.Tract.astype(np.int64).astype(str).str.zfill(11)\n",
    "\n",
    "# Set GEOID as index to join with other datasets\n",
    "esGdf_InlandEmpire.set_index('GEOID', inplace=True)"
   ]
  },
  {
   "cell_type": "markdown",
   "id": "6f1d395f-380f-40f4-be24-a965e71ab939",
   "metadata": {},
   "source": [
    "## American Community Survey (2019)"
   ]
  },
  {
   "cell_type": "markdown",
   "id": "d08c1331-dd9b-4965-bf86-e2d61eca7e9c",
   "metadata": {},
   "source": [
    "Use API connection to get data from 2019 American Community Survey (ACS) "
   ]
  },
  {
   "cell_type": "code",
   "execution_count": 7,
   "id": "855d45af-a566-4ef0-aa9d-f8b734f5b065",
   "metadata": {},
   "outputs": [],
   "source": [
    "import cenpy\n",
    "from cenpy import products\n",
    "# create a connection to the American Community Survey\n",
    "acs = cenpy.products.ACS()"
   ]
  },
  {
   "cell_type": "code",
   "execution_count": 8,
   "id": "2a3c15e8-e3b0-4aa1-8c50-87df637d9f94",
   "metadata": {},
   "outputs": [],
   "source": [
    "census_var = ['B01001_001E', 'B01001_003E', 'B01001_027E', 'B01001_044E', 'B01001_045E', 'B01001_046E', 'B01001_047E', 'B01001_048E', 'B01001_049E', 'B01001_020E', 'B01001_021E', 'B01001_022E', 'B01001_023E', 'B01001_024E', 'B01001_025E',\n",
    "              'B19013_001E', 'B14005_001E', 'B14005_007E', 'B14005_021E', 'B28002_002E', 'B25040_010E', 'B25040_001E', 'B25014_001E', 'B25014_005E', 'B25014_006E', 'B25014_007E', 'B25014_011E', 'B25014_012E', 'B25014_013E', 'B02001_001E','B02001_002E', \n",
    "              'C18108_001E', 'C18108_003E', 'C18108_004E', 'C18108_007E','C18108_008E', 'C18108_011E', 'C18108_012E', 'B28002_001E', 'B28002_012E', 'B28002_013E', 'B25014H_003E', 'B25044_001E', 'B25044_003E', 'B25044_010E', 'B25044_004E', 'B25044_011E', \n",
    "              'B08301_001E', 'B08301_019E', 'B08301_018E', 'B08303_013E', 'B08303_001E'] \n",
    "# Total Population (used to scale for percentages): B01001_001E\n",
    "# Estimate!!Total:!!White alone = B02001_002E\n",
    "# Male under 5= B01001_003E, Female under 5= B01001_027E, \n",
    "# Older populations: Estimate!!Total:!!Female:!!65 and older = B01001_044E, B01001_045E, B01001_046E, B01001_047E, B01001_048E, B01001_049E\n",
    "# Estimate!!Total:!!Male:!!65 and older = B01001_020E, B01001_021E, B01001_022E, B01001_023E, B01001_024E, B01001_025E,\n",
    "# Median Household Income = B19013_001E,  \n",
    "# Estimate!!Total:!!Male:!!Not Enrolled in school: SEX BY SCHOOL ENROLLMENT BY EDUCATIONAL ATTAINMENT BY EMPLOYMENT STATUS FOR THE POPULATION 16 TO 19 YEARS = B14005_007E,\n",
    "# Estimate!!Total:!!Female:!!Not enrolled in school: SEX BY SCHOOL ENROLLMENT BY EDUCATIONAL ATTAINMENT BY EMPLOYMENT STATUS FOR THE POPULATION 16 TO 19 YEARS = B14005_021E, \n",
    "# Estimate!!Total: SEX BY SCHOOL ENROLLMENT BY EDUCATIONAL ATTAINMENT BY EMPLOYMENT STATUS FOR THE POPULATION 16 TO 19 YEARS = B14005_001E, \n",
    "# Estimate!!Total:!!No Internet access = B28002_013E,\n",
    "# Estimate!!Total:!!Internet access without a subscription = B28002_012E,\n",
    "# Estimate!!Total: PRESENCE AND TYPES OF INTERNET SUBSCRIPTIONS IN HOUSEHOLD = B28002_001E,\n",
    "# Estimate!!Total:!!Under 18 years:!!With one type of disability = C18108_003E\n",
    "# Estimate!!Total:!!Under 18 years:!!With one type of disability = C18108_004E\n",
    "# Estimate!!Total:!!18 to 64 years!!With one type of disability = C18108_007E\n",
    "# Estimate!!Total:!!18 to 64 years:!!With two or more disabilities = C18108_008E \n",
    "# Estimate!!Total:!!65 years and over:!!With one type of disability = C18108_011E\n",
    "# Estimate!!Total:!!65 years and over:!!With two or more disabilities = C18108_012E\n",
    "# Estimate!!Total!! AGE BY NUMBER OF DISABILITIES= C18108_001E\n",
    "# Estimate!!Total:!!No Internet access = B28002_013E\n",
    "# Estimate!!Total:!!1.01 or more occupants per room = B25014H_003E\n",
    "# Estimate!!Total!!Owner occupied!!No vehicle available = B25044_003E \n",
    "# Estimate!!Total!!Renter occupied!!No vehicle available = B25044_010E\n",
    "# Estimate!!Total!!Owner occupied!!1 vehicle available = B25044_004E\n",
    "# Estimate!!Total!!Renter occupied!!1 vehicle available = B25044_011E\n",
    "# Estimate!!Total: TENURE BY VEHICLES AVAILABLE = B25044_001E\n",
    "# Estimate!!Total!! means of transportation to work = B08301_001E\n",
    "# Estimate!!Total!!Walked = B08301_019E\n",
    "# Estimate!!Total!!Bicycle = B08301_018E\n",
    "# Estimate!!Total:!!90 or more minutes time to travel to work = B08303_013E\n",
    "# Estimate!!Total: TRAVEL TIME TO WORK = B08303_001E \n",
    "# Estimate!!Total:!!No fuel used = B25040_010E \n",
    "# Estimate!!Total: HOUSE HEATING FUEL = B25040_001E \n",
    "# Estimate!!Total:!!Owner occupied:!!1.01 to 1.50 occupants per room = B25014_005E, \n",
    "# Estimate!!Total:!!Owner occupied:!!1.51 to 2.00 occupants per room = B25014_006E,\n",
    "# Estimate!!Total:!!Owner occupied:!!2.01 or more occupants per room = B25014_007E, \n",
    "# Estimate!!Total:!!Renter occupied:!!1.01 to 1.50 occupants per room = B25014_011E,\n",
    "# Estimate!!Total:!!Renter occupied:!!1.51 to 2.00 occupants per room = B25014_012E,\n",
    "# Estimate!!Total:!!Renter occupied:!!2.01 or more occupants per room = B25014_013E, \n",
    "# Estimate!!Total: TENURE BY OCCUPANTS PER ROOM = B25014_001E"
   ]
  },
  {
   "cell_type": "code",
   "execution_count": 9,
   "id": "d1077770-1753-4677-b5d6-1c9422d2e1be",
   "metadata": {},
   "outputs": [
    {
     "name": "stderr",
     "output_type": "stream",
     "text": [
      "/Users/clairebekker/anaconda3/envs/uds/lib/python3.10/site-packages/cenpy/products.py:762: FutureWarning: The `op` parameter is deprecated and will be removed in a future release. Please use the `predicate` parameter instead.\n",
      "  return self._from_name(county, variables, level, \"Counties\", **kwargs)\n",
      "/Users/clairebekker/anaconda3/envs/uds/lib/python3.10/site-packages/cenpy/products.py:762: FutureWarning: The `op` parameter is deprecated and will be removed in a future release. Please use the `predicate` parameter instead.\n",
      "  return self._from_name(county, variables, level, \"Counties\", **kwargs)\n"
     ]
    }
   ],
   "source": [
    "# Get 2019 ACS for Riverside and San Bernardino counties\n",
    "censusDf_Riverside = products.ACS(2019).from_county('Riverside, CA', level='tract',\n",
    "                                        variables=census_var)\n",
    "censusDf_San_Bernardino = products.ACS(2019).from_county('San Bernardino, CA', level='tract',\n",
    "                                        variables=census_var)"
   ]
  },
  {
   "cell_type": "code",
   "execution_count": 10,
   "id": "94771c79-06eb-4a8b-a7ce-0cfa414a6525",
   "metadata": {},
   "outputs": [],
   "source": [
    "censusDf_IE = pd.concat((censusDf_Riverside, censusDf_San_Bernardino), axis=0)"
   ]
  },
  {
   "cell_type": "code",
   "execution_count": 11,
   "id": "976a7a75-81d6-4353-8caf-8e5ceafd52b9",
   "metadata": {},
   "outputs": [],
   "source": [
    "## SOCIOECONOMIC VULNERABILITY FACTORS ##\n",
    "## Age\n",
    "censusDf_IE['pct_youngchild'] = ((censusDf_IE['B01001_003E'] + censusDf_IE['B01001_027E'])/censusDf_IE['B01001_001E'])*100 # male under 5 + female under 5, divided by total population\n",
    "older_pop = ['B01001_044E', 'B01001_045E', 'B01001_046E', 'B01001_047E', 'B01001_048E', 'B01001_049E', 'B01001_020E', 'B01001_021E', 'B01001_022E', 'B01001_023E', 'B01001_024E', 'B01001_025E'] # All variables for male and female populations greater than 65\n",
    "censusDf_IE['pct_older'] = (censusDf_IE[older_pop].sum(axis=1)/censusDf_IE['B01001_001E'])*100 # Sum all counts of people 65+/total population\n",
    "## Disability\n",
    "disability= ['C18108_003E', 'C18108_004E', 'C18108_007E','C18108_008E', 'C18108_011E', 'C18108_012E']\n",
    "censusDf_IE['pct_disability'] = (censusDf_IE[disability].sum(axis=1)/censusDf_IE['C18108_001E'])*100 # sum number of estimated total of people in each range with one or more disabilities, divide by total polled population\n",
    "# Median Household Income\n",
    "censusDf_IE['med_income']= censusDf_IE['B19013_001E']\n",
    "# Disconnected Youth (16-19 year olds not in school) \n",
    "censusDf_IE['pct_disconnectedyouth']= ((censusDf_IE['B14005_007E'] + censusDf_IE['B14005_021E'])/censusDf_IE['B14005_001E'])*100 # sum number of 16-19 males and females not enrolled in school/population of 16-19 year olds\n",
    "# Internet Access (percentage of households without internet subscription)\n",
    "censusDf_IE['pct_woutinternet'] = ((censusDf_IE['B28002_013E'] + censusDf_IE['B28002_012E'])/censusDf_IE['B28002_001E'])*100 # number of households without any internet or internet subscription/total number of households polled"
   ]
  },
  {
   "cell_type": "code",
   "execution_count": 12,
   "id": "3315702d-8421-4148-9661-1ac3db1f129c",
   "metadata": {},
   "outputs": [],
   "source": [
    "## TRANSPORTION ##   \n",
    "# Vehicle ownership \n",
    "vehicles = ['B25044_003E', 'B25044_010E', 'B25044_004E', 'B25044_011E'] # all owner-occupied (0 or 1 cars) and rental (0 or 1 cars)                                     \n",
    "censusDf_IE['pct_lessthan2vehicles'] = ((censusDf_IE[vehicles].sum(axis=1))/censusDf_IE['B25044_001E'])*100 # sum number of owner-occupied or rental households with 0 or 1 cars/total households polled\n",
    "# Active Commute\n",
    "censusDf_IE['pct_activecommute'] = ((censusDf_IE['B08301_019E'] + censusDf_IE['B08301_018E'])/censusDf_IE['B08301_001E'])*100 # sum of walking and biking commuters/total number of commuters \n",
    "# Extreme Commutes \n",
    "censusDf_IE['pct_extremecommute'] = (censusDf_IE['B08303_013E']/censusDf_IE['B08303_001E'])*100 # proportion of commuters traveling 90+ minutes"
   ]
  },
  {
   "cell_type": "code",
   "execution_count": 13,
   "id": "979705ac-c720-454d-9ab5-1e8b112de1c7",
   "metadata": {},
   "outputs": [],
   "source": [
    "## HOUSING ##\n",
    "# House Heating\n",
    "censusDf_IE['pct_nofuel']= (censusDf_IE['B25040_010E']/censusDf_IE['B25040_001E'])*100 # number of households with no heating fuel/total households\n",
    "# Overcrowding\n",
    "occupants = ['B25014_005E', 'B25014_006E', 'B25014_007E', 'B25014_011E', 'B25014_012E', 'B25014_013E'] # owner and rent-occupied 1+ people per room \n",
    "censusDf_IE['pct_1+occupants']= (censusDf_IE[occupants].sum(axis=1)/censusDf_IE['B25014_001E'])*100 # sum of households with 1+ people per room/total households"
   ]
  },
  {
   "cell_type": "code",
   "execution_count": 14,
   "id": "3942733d-1732-48d8-a270-f57474858714",
   "metadata": {},
   "outputs": [],
   "source": [
    "# Drop all of the ACS variable names and keep variables we created \n",
    "censusDf_IE =censusDf_IE.drop(labels=['geometry','B01001_001E', 'B01001_003E', 'B01001_027E', 'B01001_044E', 'B01001_045E', 'B01001_046E', 'B01001_047E', 'B01001_048E', 'B01001_049E', 'B01001_020E', 'B01001_021E', 'B01001_022E', 'B01001_023E', 'B01001_024E', 'B01001_025E',\n",
    "              'B19013_001E', 'B14005_001E', 'B14005_007E', 'B14005_021E', 'B28002_002E', 'B25040_010E', 'B25040_001E', 'B25014_001E', 'B25014_005E', 'B25014_006E', 'B25014_007E', 'B25014_011E', 'B25014_012E', 'B25014_013E', 'B02001_002E', \n",
    "              'C18108_001E', 'C18108_003E', 'C18108_004E', 'C18108_007E','C18108_008E', 'C18108_011E', 'C18108_012E', 'B28002_001E', 'B28002_012E', 'B28002_013E', 'B25014H_003E', 'B25044_001E', 'B25044_003E', 'B25044_010E', 'B25044_004E', 'B25044_011E', \n",
    "              'B08301_001E', 'B08301_019E', 'B08301_018E', 'B08303_013E', 'B08303_001E'], axis=1)"
   ]
  },
  {
   "cell_type": "code",
   "execution_count": 15,
   "id": "1ef663de-fb17-4952-896d-97c592844925",
   "metadata": {},
   "outputs": [],
   "source": [
    "# Set index as GEOID to use for joining datasets \n",
    "censusDf_IE.set_index('GEOID', inplace=True)"
   ]
  },
  {
   "cell_type": "markdown",
   "id": "cedbcbac-0a05-4785-b825-26001c42ae53",
   "metadata": {},
   "source": [
    "## US Dept. of Housing and Urban Development (HUD)\n"
   ]
  },
  {
   "cell_type": "markdown",
   "id": "7fc26374-4c35-43a0-a3aa-2382725549a1",
   "metadata": {},
   "source": [
    "Pull in the data from HUD Comprehensive Housing Affordability Strategy (CHAS) 2015-2019\n"
   ]
  },
  {
   "cell_type": "code",
   "execution_count": 16,
   "id": "29ee0393-efab-4b2b-b522-08a75f95028d",
   "metadata": {},
   "outputs": [],
   "source": [
    "os.chdir('../HUD CHAS')\n",
    "hamfiDf = pd.read_csv('Table16.csv')\n",
    "len(hamfiDf)\n",
    "\n",
    "# Select HUD CHAS data for census tracts in the IE\n",
    "hamfiDfIE = hamfiDf[hamfiDf['name'].str.contains(\"Riverside\")|hamfiDf['name'].str.contains(\"San Bernardino\")].reset_index()"
   ]
  },
  {
   "cell_type": "markdown",
   "id": "64023512-a5ec-4244-9bef-a8a4fc615b47",
   "metadata": {},
   "source": [
    "Calculate percentage of households per tract that make 30% or less than the HUD Area Median Family Income (HAMFI)."
   ]
  },
  {
   "cell_type": "code",
   "execution_count": 17,
   "id": "b53b45ff-8933-4952-b120-5da8bbbda033",
   "metadata": {},
   "outputs": [],
   "source": [
    "# Identify percentage of households per tract that make 30% or less than the HUD Area Median Family Income (HAMFI).\n",
    "hamfiDfIE['HAMFI30'] = ((hamfiDf['T16_est3'] + hamfiDf['T16_est88'])/hamfiDf['T16_est1'])*100\n",
    "#hamfiDfIE.head()\n",
    "\n",
    "# Get GEOID for HUD Area Median Family Income data \n",
    "hamfiDfIE['GEOID'] = hamfiDfIE['geoid'].str[7:]\n",
    "\n",
    "# Subset dataframe to only include columns of interest\n",
    "hamfiDfIE= hamfiDfIE[['GEOID', 'HAMFI30']]\n",
    "\n",
    "# Set GEOID as index \n",
    "hamfiDfIE.set_index('GEOID', inplace=True)\n",
    "\n",
    "# Add name to HAMFI series so it can be joined with dataframes\n",
    "hamfiDfIE.name = 'HAMFI'"
   ]
  },
  {
   "cell_type": "markdown",
   "id": "c19e8e28-22b3-475f-829e-50dab3e546fe",
   "metadata": {},
   "source": [
    "## California Natural Resources Agency (CNRA) "
   ]
  },
  {
   "cell_type": "markdown",
   "id": "14e9e89e-dc89-4b5c-aad8-ff7aec1012d9",
   "metadata": {},
   "source": [
    "Pull in the California Natural Resources Agency (CNRA) California\n",
    "Heat Assessment Tool (CHAT) 2015 data"
   ]
  },
  {
   "cell_type": "code",
   "execution_count": 18,
   "id": "b9806c02-1a64-4508-8772-7b3eeacfb2b6",
   "metadata": {},
   "outputs": [],
   "source": [
    "os.chdir('../CHAT')\n",
    "CHATRiversideDf = pd.read_csv('CHAT-Riverside County-projected.csv')\n",
    "CHATSBDf = pd.read_csv('CHAT-San Bernardino County-projected.csv')\n",
    "\n",
    "# Concatenate Riverside and San Bernardino Data\n",
    "CHATIE = pd.concat((CHATRiversideDf, CHATSBDf), axis=0)"
   ]
  },
  {
   "cell_type": "markdown",
   "id": "65a7ed3f-448a-4241-b68a-c4092ec32404",
   "metadata": {},
   "source": [
    "Select time frame as 2021-2040 and time of year as June, July, and August for general population for the 50th percentile of models. Use the 'business as usual' emissions scenario.  "
   ]
  },
  {
   "cell_type": "code",
   "execution_count": 19,
   "id": "9ed7de5e-eca3-4f27-a105-25c4b8f84ae8",
   "metadata": {},
   "outputs": [
    {
     "name": "stderr",
     "output_type": "stream",
     "text": [
      "/var/folders/bt/zz9p33b12m55w8szgpmyprmr0000gn/T/ipykernel_1238/535864412.py:4: SettingWithCopyWarning: \n",
      "A value is trying to be set on a copy of a slice from a DataFrame.\n",
      "Try using .loc[row_indexer,col_indexer] = value instead\n",
      "\n",
      "See the caveats in the documentation: https://pandas.pydata.org/pandas-docs/stable/user_guide/indexing.html#returning-a-view-versus-a-copy\n",
      "  CHATIE_selected['GEOID'] = CHATIE_selected['geoid_long'].str[9:]\n"
     ]
    }
   ],
   "source": [
    "CHATIE_selected= CHATIE[(CHATIE['projections_time_frame'] == '2021-2040') & (CHATIE['rcp']== 'rcp85') & (CHATIE['socioeconomic_group'] == 'General') & (CHATIE['time_of_year']=='JJA') & (CHATIE['model_percentiles'] == 50)]\n",
    "\n",
    "# Get GEOID for CHAT  \n",
    "CHATIE_selected['GEOID'] = CHATIE_selected['geoid_long'].str[9:]\n",
    "\n",
    "# Select Heat Health Events Max Temperature\n",
    "CHATIE_maxtemp = CHATIE_selected[['proj_avg_tmax', 'GEOID']]\n",
    "\n",
    "# Set GEOID as index to join with other datasets\n",
    "CHATIE_maxtemp.set_index('GEOID', inplace=True)\n",
    "\n",
    "# Add name to CHAT series so it can be joined with dataframes\n",
    "CHATIE_maxtemp.name = 'Max_Temp'"
   ]
  },
  {
   "cell_type": "markdown",
   "id": "f4c1fd45-614f-454f-af87-9359ce0b6e37",
   "metadata": {},
   "source": [
    "Pull in the California Natural Resources Agency (CNRA) California Heat Assessment Tool (CHAT) 2015 Vulnerability data for Riverside and San Bernardino counties. This contains tree canopy coverage by census tract. "
   ]
  },
  {
   "cell_type": "code",
   "execution_count": 20,
   "id": "e3eedd12-8f15-4875-a508-fa53396a3609",
   "metadata": {},
   "outputs": [],
   "source": [
    "# Vulnerability Indicators for Heat-related Health Events\n",
    "CHATRiversideDf_tcc = pd.read_csv('CHAT-Riverside County-vulnerability-indicators(1).csv')\n",
    "CHATSBDf_tcc = pd.read_csv('CHAT-San Bernardino County-vulnerability-indicators.csv')"
   ]
  },
  {
   "cell_type": "code",
   "execution_count": 21,
   "id": "2006416d-322b-4b14-948c-83aa6be04a18",
   "metadata": {},
   "outputs": [],
   "source": [
    "# Concatenate Riverside and San Bernardino Data\n",
    "CHATIE_tcc = pd.concat((CHATRiversideDf_tcc, CHATSBDf_tcc), axis=0)"
   ]
  },
  {
   "cell_type": "code",
   "execution_count": 22,
   "id": "ea040ec9-03be-45ed-8431-e04c6fff8d57",
   "metadata": {},
   "outputs": [],
   "source": [
    "# Edit tract number to match the GEOID in other datasets\n",
    "CHATIE_tcc['census_tract'] = CHATIE_tcc.census_tract.astype(np.int64).astype(str).str.zfill(11)\n",
    "\n",
    "# Select percent no tree canopy \n",
    "CHATIE_tcc = CHATIE_tcc[['perc_no_tree_canopy', 'census_tract']]"
   ]
  },
  {
   "cell_type": "code",
   "execution_count": 23,
   "id": "c6eadfe2-92b9-4044-92ba-74e8cb61bf53",
   "metadata": {},
   "outputs": [],
   "source": [
    "# Set Census Tract as index \n",
    "CHATIE_tcc.set_index('census_tract', inplace=True)\n",
    "\n",
    "# Add name to series so it can be joined with dataframes\n",
    "CHATIE_tcc.name = 'Tree_Canopy'"
   ]
  },
  {
   "cell_type": "markdown",
   "id": "6873690c-93f0-44f8-b592-135840be1204",
   "metadata": {},
   "source": [
    "## Romitti et al. 2022: Probability of Residential Air Conditioning"
   ]
  },
  {
   "cell_type": "markdown",
   "id": "250725dd-7fec-4098-abac-2b8df2531389",
   "metadata": {},
   "source": [
    " Load data for probability of residential air conditioning from Romitti et al. csv"
   ]
  },
  {
   "cell_type": "code",
   "execution_count": 24,
   "id": "0aa608ce-b982-4961-83dc-c4473398e768",
   "metadata": {},
   "outputs": [],
   "source": [
    "# Change directory and read in data\n",
    "os.chdir('../AC')\n",
    "ac_data = pd.read_csv('US_metro_ac_prob-1.csv')\n",
    "\n",
    "# Restrict Census Tracts to Riverside and San Bernardino\n",
    "acdata_IE= ac_data[ac_data['NAME'].str.contains(\"Riverside\")|ac_data['NAME'].str.contains(\"San Bernardino\")].reset_index()\n",
    "\n",
    "# Take the inverse of the AC probability to use as a vulnerability metric\n",
    "acdata_IE['inverse_ac_prob']= 1/acdata_IE['ac_prob']\n",
    "\n",
    "# Add leading zero to TRACT_GEOID column to match the other GEOID codes \n",
    "acdata_IE['TRACT_GEOID']= acdata_IE.TRACT_GEOID.astype(str).str.zfill(11)\n",
    "\n",
    "# Select TRACT_GEOID and inverse of AC probability as relevant variables\n",
    "acdata_IE=acdata_IE[['TRACT_GEOID', 'inverse_ac_prob']]\n",
    "\n",
    "# Set TRACT_GEOID as index\n",
    "acdata_IE.set_index('TRACT_GEOID', inplace=True)\n",
    "\n",
    "# Add name to AC data series so it can be joined with dataframes\n",
    "acdata_IE.name = 'AC_Data'"
   ]
  },
  {
   "cell_type": "markdown",
   "id": "89f33ef2-7cba-4e63-baa5-0c5554dd8f69",
   "metadata": {
    "tags": []
   },
   "source": [
    "## USDA: Food Access Research Atlas 2019\n"
   ]
  },
  {
   "cell_type": "markdown",
   "id": "74d176b2-5e0d-4213-9ee3-7cd755f7b740",
   "metadata": {},
   "source": [
    "Load the Data from the Food Access Research Atlas, which has already been subset to San Bernardino and Riverside counties because the original excel file was too big to push to GitHub easily. "
   ]
  },
  {
   "cell_type": "code",
   "execution_count": 25,
   "id": "91c839e9-ee0b-4cb0-a67d-65a8dd2c48bb",
   "metadata": {},
   "outputs": [],
   "source": [
    "# Read in pickle that was subset to Riverside and San Bernardino Counties\n",
    "snap_dataIE = pd.read_pickle('../snap_dataIE.pandas')"
   ]
  },
  {
   "cell_type": "code",
   "execution_count": 26,
   "id": "295c6908-3e21-4edb-86fc-05808a6faf12",
   "metadata": {},
   "outputs": [],
   "source": [
    "# Create variable for percent of households receiving SNAP\n",
    "snap_dataIE['pct_SNAP']= (snap_dataIE['TractSNAP']/snap_dataIE['OHU2010'])*100\n",
    "\n",
    "# Subset the dataframe to include relevant columns\n",
    "snap_dataIE= snap_dataIE[['CensusTract', 'pct_SNAP']]\n",
    "\n",
    "# Add leading zero to TRACT_GEOID column to match the other GEOID codes \n",
    "snap_dataIE['CensusTract']= snap_dataIE.CensusTract.astype(str).str.zfill(11)\n",
    "\n",
    "# Set TRACT_GEOID as index\n",
    "snap_dataIE.set_index('CensusTract', inplace=True)\n",
    "\n",
    "# Add name to SNAP data series so it can be joined with dataframes\n",
    "snap_dataIE.name = 'SNAP_usage'"
   ]
  },
  {
   "cell_type": "code",
   "execution_count": 27,
   "id": "eeb9d789-2934-418b-a1fa-8efc9de60d79",
   "metadata": {},
   "outputs": [
    {
     "ename": "FileNotFoundError",
     "evalue": "[Errno 2] No such file or directory: '../NLCD'",
     "output_type": "error",
     "traceback": [
      "\u001b[0;31m---------------------------------------------------------------------------\u001b[0m",
      "\u001b[0;31mFileNotFoundError\u001b[0m                         Traceback (most recent call last)",
      "Cell \u001b[0;32mIn[27], line 5\u001b[0m\n\u001b[1;32m      3\u001b[0m \u001b[38;5;28;01mimport\u001b[39;00m \u001b[38;5;21;01mrasterio\u001b[39;00m\n\u001b[1;32m      4\u001b[0m \u001b[38;5;28;01mimport\u001b[39;00m \u001b[38;5;21;01mrioxarray\u001b[39;00m \u001b[38;5;28;01mas\u001b[39;00m \u001b[38;5;21;01mrxr\u001b[39;00m\n\u001b[0;32m----> 5\u001b[0m \u001b[43mos\u001b[49m\u001b[38;5;241;43m.\u001b[39;49m\u001b[43mchdir\u001b[49m\u001b[43m(\u001b[49m\u001b[38;5;124;43m'\u001b[39;49m\u001b[38;5;124;43m../NLCD\u001b[39;49m\u001b[38;5;124;43m'\u001b[39;49m\u001b[43m)\u001b[49m\n\u001b[1;32m      6\u001b[0m nlcd_trees\u001b[38;5;241m=\u001b[39m rxr\u001b[38;5;241m.\u001b[39mopen_rasterio(\u001b[38;5;124m'\u001b[39m\u001b[38;5;124mnlcd_tcc_CONUS_2019_v2021-4/nlcd_tcc_conus_2019_v2021-4.tif\u001b[39m\u001b[38;5;124m'\u001b[39m)\n",
      "\u001b[0;31mFileNotFoundError\u001b[0m: [Errno 2] No such file or directory: '../NLCD'"
     ]
    }
   ],
   "source": [
    "# Load geotiff of Tree Canopy Coverage \n",
    "# for 30m resolution \n",
    "import rasterio\n",
    "import rioxarray as rxr\n",
    "os.chdir('../NLCD')\n",
    "nlcd_trees= rxr.open_rasterio('nlcd_tcc_CONUS_2019_v2021-4/nlcd_tcc_conus_2019_v2021-4.tif')"
   ]
  },
  {
   "cell_type": "code",
   "execution_count": null,
   "id": "6824d823-357a-4079-ae61-fe31b99b84b3",
   "metadata": {
    "tags": []
   },
   "outputs": [],
   "source": [
    "nlcd_trees.rio.crs"
   ]
  },
  {
   "cell_type": "code",
   "execution_count": null,
   "id": "5fc87f55-69ee-4480-be21-95a2919b0e69",
   "metadata": {},
   "outputs": [],
   "source": [
    "# Crop NLCD tree canopy raster data by CalEnviroScreen4.0 for San Bernardino and Riverside counties \n",
    "nlcd_IE = nlcd_trees.rio.clip(esGdf_InlandEmpire.geometry.apply(mapping),\n",
    "                                      # This is needed if your GDF is in a diff CRS than the raster data\n",
    "                                     esGdf_InlandEmpire.crs)"
   ]
  },
  {
   "cell_type": "markdown",
   "id": "be85690e-2610-401a-bb0f-c60453a72ebb",
   "metadata": {},
   "source": [
    "# Joining Data Sources and Preparing for Modeling"
   ]
  },
  {
   "cell_type": "code",
   "execution_count": 28,
   "id": "8af5f18f-a2cd-4747-b99f-3060e76e77fc",
   "metadata": {},
   "outputs": [],
   "source": [
    "# Create list of all dataframes/Series to join \n",
    "dfs= [esGdf_InlandEmpire, censusDf_IE, hamfiDfIE, CHATIE_maxtemp, CHATIE_tcc, acdata_IE, snap_dataIE]\n",
    "# Perform join of all datasets by GEOID as index\n",
    "total_variables = dfs[0].join(dfs[1:])"
   ]
  },
  {
   "cell_type": "code",
   "execution_count": 29,
   "id": "c2dc1bce-ed03-46c5-9efb-e0df707c20af",
   "metadata": {},
   "outputs": [
    {
     "data": {
      "text/plain": [
       "Index(['Tract', 'County', 'ApproxLoc', 'TotPop19', 'Ozone', 'PM2_5',\n",
       "       'DieselPM', 'Pesticide', 'Tox_Rel', 'Traffic', 'DrinkWat', 'Lead',\n",
       "       'Cleanup', 'GWThreat', 'HazWaste', 'ImpWatBod', 'SolWaste', 'Asthma',\n",
       "       'LowBirtWt', 'Cardiovas', 'Educatn', 'Ling_Isol', 'Poverty', 'Unempl',\n",
       "       'HousBurd', 'Child_10', 'Pop_10_64', 'Elderly65', 'Hispanic', 'White',\n",
       "       'AfricanAm', 'NativeAm', 'OtherMult', 'Shape_Leng', 'Shape_Area',\n",
       "       'AAPI', 'geometry', 'CalEnviroScreen_EJ', 'B02001_001E', 'state',\n",
       "       'county', 'tract', 'NAME', 'pct_youngchild', 'pct_older',\n",
       "       'pct_disability', 'med_income', 'pct_disconnectedyouth',\n",
       "       'pct_woutinternet', 'pct_lessthan2vehicles', 'pct_activecommute',\n",
       "       'pct_extremecommute', 'pct_nofuel', 'pct_1+occupants', 'HAMFI30',\n",
       "       'proj_avg_tmax', 'perc_no_tree_canopy', 'inverse_ac_prob', 'pct_SNAP'],\n",
       "      dtype='object')"
      ]
     },
     "execution_count": 29,
     "metadata": {},
     "output_type": "execute_result"
    }
   ],
   "source": [
    "total_variables.columns"
   ]
  },
  {
   "cell_type": "code",
   "execution_count": 30,
   "id": "ef4d328b-4040-4836-856b-6e41659df666",
   "metadata": {},
   "outputs": [],
   "source": [
    "# Drop all non-relevant columns, the remaining columns are the variables for the ML model\n",
    "total_variables= total_variables.drop(labels=['Tract', 'County', 'ApproxLoc', 'TotPop19', 'White','Shape_Leng', 'Shape_Area','geometry', 'state', 'county', 'tract', 'NAME',], axis=1)"
   ]
  },
  {
   "cell_type": "markdown",
   "id": "4d608eb8-82ac-44cb-9ed9-328c46750b69",
   "metadata": {},
   "source": [
    "# RandomForest Model for Predicting EJ Communities"
   ]
  },
  {
   "cell_type": "code",
   "execution_count": 31,
   "id": "9891d247-c99f-45d0-87d0-a024235a1941",
   "metadata": {},
   "outputs": [],
   "source": [
    "from sklearn.model_selection import train_test_split"
   ]
  },
  {
   "cell_type": "code",
   "execution_count": 32,
   "id": "eaacbe68-3545-4f1d-b572-86ca74eab744",
   "metadata": {},
   "outputs": [],
   "source": [
    "xvars = [col for col in total_variables.columns if col != 'CalEnviroScreen_EJ']\n",
    "yvar = 'CalEnviroScreen_EJ'"
   ]
  },
  {
   "cell_type": "code",
   "execution_count": 33,
   "id": "0c273a83-e2b1-43ea-b4e8-8db50d7e570a",
   "metadata": {},
   "outputs": [
    {
     "name": "stdout",
     "output_type": "stream",
     "text": [
      "513 513\n",
      "172 172\n"
     ]
    }
   ],
   "source": [
    "# create a dataframe with no NaNs\n",
    "df_to_fit = total_variables[xvars+[yvar]].dropna()\n",
    "\n",
    "X_train, X_test, y_train, y_test = train_test_split(\n",
    "    df_to_fit[xvars], df_to_fit[yvar], test_size = 0.25, random_state = 1)\n",
    "\n",
    "# check we have a reasonable split\n",
    "print(len(X_train), len(y_train))\n",
    "print(len(X_test), len(y_test))"
   ]
  },
  {
   "cell_type": "code",
   "execution_count": 34,
   "id": "4ede7c7d-0846-4d80-bbbe-0e36729c6dc9",
   "metadata": {},
   "outputs": [
    {
     "data": {
      "text/html": [
       "<style>#sk-container-id-1 {color: black;background-color: white;}#sk-container-id-1 pre{padding: 0;}#sk-container-id-1 div.sk-toggleable {background-color: white;}#sk-container-id-1 label.sk-toggleable__label {cursor: pointer;display: block;width: 100%;margin-bottom: 0;padding: 0.3em;box-sizing: border-box;text-align: center;}#sk-container-id-1 label.sk-toggleable__label-arrow:before {content: \"▸\";float: left;margin-right: 0.25em;color: #696969;}#sk-container-id-1 label.sk-toggleable__label-arrow:hover:before {color: black;}#sk-container-id-1 div.sk-estimator:hover label.sk-toggleable__label-arrow:before {color: black;}#sk-container-id-1 div.sk-toggleable__content {max-height: 0;max-width: 0;overflow: hidden;text-align: left;background-color: #f0f8ff;}#sk-container-id-1 div.sk-toggleable__content pre {margin: 0.2em;color: black;border-radius: 0.25em;background-color: #f0f8ff;}#sk-container-id-1 input.sk-toggleable__control:checked~div.sk-toggleable__content {max-height: 200px;max-width: 100%;overflow: auto;}#sk-container-id-1 input.sk-toggleable__control:checked~label.sk-toggleable__label-arrow:before {content: \"▾\";}#sk-container-id-1 div.sk-estimator input.sk-toggleable__control:checked~label.sk-toggleable__label {background-color: #d4ebff;}#sk-container-id-1 div.sk-label input.sk-toggleable__control:checked~label.sk-toggleable__label {background-color: #d4ebff;}#sk-container-id-1 input.sk-hidden--visually {border: 0;clip: rect(1px 1px 1px 1px);clip: rect(1px, 1px, 1px, 1px);height: 1px;margin: -1px;overflow: hidden;padding: 0;position: absolute;width: 1px;}#sk-container-id-1 div.sk-estimator {font-family: monospace;background-color: #f0f8ff;border: 1px dotted black;border-radius: 0.25em;box-sizing: border-box;margin-bottom: 0.5em;}#sk-container-id-1 div.sk-estimator:hover {background-color: #d4ebff;}#sk-container-id-1 div.sk-parallel-item::after {content: \"\";width: 100%;border-bottom: 1px solid gray;flex-grow: 1;}#sk-container-id-1 div.sk-label:hover label.sk-toggleable__label {background-color: #d4ebff;}#sk-container-id-1 div.sk-serial::before {content: \"\";position: absolute;border-left: 1px solid gray;box-sizing: border-box;top: 0;bottom: 0;left: 50%;z-index: 0;}#sk-container-id-1 div.sk-serial {display: flex;flex-direction: column;align-items: center;background-color: white;padding-right: 0.2em;padding-left: 0.2em;position: relative;}#sk-container-id-1 div.sk-item {position: relative;z-index: 1;}#sk-container-id-1 div.sk-parallel {display: flex;align-items: stretch;justify-content: center;background-color: white;position: relative;}#sk-container-id-1 div.sk-item::before, #sk-container-id-1 div.sk-parallel-item::before {content: \"\";position: absolute;border-left: 1px solid gray;box-sizing: border-box;top: 0;bottom: 0;left: 50%;z-index: -1;}#sk-container-id-1 div.sk-parallel-item {display: flex;flex-direction: column;z-index: 1;position: relative;background-color: white;}#sk-container-id-1 div.sk-parallel-item:first-child::after {align-self: flex-end;width: 50%;}#sk-container-id-1 div.sk-parallel-item:last-child::after {align-self: flex-start;width: 50%;}#sk-container-id-1 div.sk-parallel-item:only-child::after {width: 0;}#sk-container-id-1 div.sk-dashed-wrapped {border: 1px dashed gray;margin: 0 0.4em 0.5em 0.4em;box-sizing: border-box;padding-bottom: 0.4em;background-color: white;}#sk-container-id-1 div.sk-label label {font-family: monospace;font-weight: bold;display: inline-block;line-height: 1.2em;}#sk-container-id-1 div.sk-label-container {text-align: center;}#sk-container-id-1 div.sk-container {/* jupyter's `normalize.less` sets `[hidden] { display: none; }` but bootstrap.min.css set `[hidden] { display: none !important; }` so we also need the `!important` here to be able to override the default hidden behavior on the sphinx rendered scikit-learn.org. See: https://github.com/scikit-learn/scikit-learn/issues/21755 */display: inline-block !important;position: relative;}#sk-container-id-1 div.sk-text-repr-fallback {display: none;}</style><div id=\"sk-container-id-1\" class=\"sk-top-container\"><div class=\"sk-text-repr-fallback\"><pre>RandomForestClassifier(random_state=1)</pre><b>In a Jupyter environment, please rerun this cell to show the HTML representation or trust the notebook. <br />On GitHub, the HTML representation is unable to render, please try loading this page with nbviewer.org.</b></div><div class=\"sk-container\" hidden><div class=\"sk-item\"><div class=\"sk-estimator sk-toggleable\"><input class=\"sk-toggleable__control sk-hidden--visually\" id=\"sk-estimator-id-1\" type=\"checkbox\" checked><label for=\"sk-estimator-id-1\" class=\"sk-toggleable__label sk-toggleable__label-arrow\">RandomForestClassifier</label><div class=\"sk-toggleable__content\"><pre>RandomForestClassifier(random_state=1)</pre></div></div></div></div></div>"
      ],
      "text/plain": [
       "RandomForestClassifier(random_state=1)"
      ]
     },
     "execution_count": 34,
     "metadata": {},
     "output_type": "execute_result"
    }
   ],
   "source": [
    "from sklearn.ensemble import RandomForestClassifier \n",
    "\n",
    "# initialize the random forest classifer object\n",
    "rf = RandomForestClassifier(n_estimators = 100, random_state = 1)\n",
    "\n",
    "# now fit the model\n",
    "rf.fit(X_train, y_train)"
   ]
  },
  {
   "cell_type": "code",
   "execution_count": 35,
   "id": "59564f7b-4e0f-4ace-b5b6-dc26cd6fda1d",
   "metadata": {},
   "outputs": [],
   "source": [
    "# Apply the predictions to the test dataset\n",
    "y_pred = rf.predict(X_test)"
   ]
  },
  {
   "cell_type": "code",
   "execution_count": 36,
   "id": "be00b14c-b931-49b5-9f72-3105de2b3dc8",
   "metadata": {},
   "outputs": [
    {
     "name": "stdout",
     "output_type": "stream",
     "text": [
      "Predicted fraction True: 0.2209. Actual fraction True: 0.2733\n"
     ]
    }
   ],
   "source": [
    "# Look at predicted true in each sample\n",
    "print('Predicted fraction True: {:.4f}. Actual fraction True: {:.4f}'.format(\n",
    "    y_pred.mean(), y_test.mean()))"
   ]
  },
  {
   "cell_type": "code",
   "execution_count": 37,
   "id": "4d1a87f4-791a-4356-afa0-95323d9d6261",
   "metadata": {},
   "outputs": [
    {
     "data": {
      "text/plain": [
       "<sklearn.metrics._plot.confusion_matrix.ConfusionMatrixDisplay at 0x7f79db2cd3f0>"
      ]
     },
     "execution_count": 37,
     "metadata": {},
     "output_type": "execute_result"
    },
    {
     "data": {
      "image/png": "[encoded data removed]",
      "text/plain": [
       "<Figure size 640x480 with 2 Axes>"
      ]
     },
     "metadata": {},
     "output_type": "display_data"
    }
   ],
   "source": [
    "# Get the Confusion Matrix for the predicted and CalEnviroScreen4.0 classifications of EJ Communities\n",
    "from sklearn.metrics import classification_report, confusion_matrix, accuracy_score, ConfusionMatrixDisplay\n",
    "ConfusionMatrixDisplay.from_predictions(y_test, y_pred)"
   ]
  },
  {
   "cell_type": "markdown",
   "id": "8f66d234-bb8f-4373-a0e4-2f4fda4e1908",
   "metadata": {},
   "source": [
    "When we use all of the variables from CalEnviroScreen4.0 and the additional variables, only four out of 168 census tracts are classified as Environmental Justice communities by the RandomForest Classifier which are not classified as Environmental Justice communities under CalEnviroScreen4.0 for communities at or above the 75th percentile for their overall scores. The model also fails to classify 13 census tracts as Environmental Justice communities which are classified as disadvantaged by CalEnviroScreen4.0.  "
   ]
  },
  {
   "cell_type": "code",
   "execution_count": 38,
   "id": "040564d5-b9a8-4cd8-85b6-fbfa996c788f",
   "metadata": {},
   "outputs": [
    {
     "data": {
      "text/plain": [
       "Text(0, 0.5, 'Mean decrease in impurity')"
      ]
     },
     "execution_count": 38,
     "metadata": {},
     "output_type": "execute_result"
    },
    {
     "data": {
      "image/png": "[encoded data removed]",
      "text/plain": [
       "<Figure size 640x480 with 1 Axes>"
      ]
     },
     "metadata": {},
     "output_type": "display_data"
    }
   ],
   "source": [
    "import matplotlib.pyplot as plt\n",
    "# Determine which variables are most important for predicting EJ Communities\n",
    "importances = rf.feature_importances_\n",
    "\n",
    "# convert to a series, and give the index labels from our X_train dataframe\n",
    "forest_importances = pd.Series(importances, index=X_train.columns)\n",
    "\n",
    "# get the standard deviations to be able to plot the error bars\n",
    "std = np.std([tree.feature_importances_ for tree in rf.estimators_], axis=0)\n",
    "\n",
    "# sort the importances in descending order\n",
    "forest_importances.sort_values(inplace=True, ascending=False)\n",
    "\n",
    "# Plot the top 10 variables and their importances\n",
    "fig, ax = plt.subplots()\n",
    "forest_importances[:10].plot.bar(yerr=std[:10], ax=ax)\n",
    "ax.set_title(\"Feature importances using MDI\")\n",
    "ax.set_ylabel(\"Mean decrease in impurity\")"
   ]
  },
  {
   "cell_type": "code",
   "execution_count": 39,
   "id": "ebf4c02f-86e6-4525-a68a-f724be1b4fe4",
   "metadata": {},
   "outputs": [
    {
     "data": {
      "text/plain": [
       "<sklearn.inspection._plot.partial_dependence.PartialDependenceDisplay at 0x7f79db5b5de0>"
      ]
     },
     "execution_count": 39,
     "metadata": {},
     "output_type": "execute_result"
    },
    {
     "data": {
      "image/png": "[encoded data removed]",
      "text/plain": [
       "<Figure size 640x480 with 4 Axes>"
      ]
     },
     "metadata": {},
     "output_type": "display_data"
    }
   ],
   "source": [
    "from sklearn.inspection import PartialDependenceDisplay\n",
    "PartialDependenceDisplay.from_estimator(rf, X_test,\n",
    "                                       forest_importances.index[:3])"
   ]
  },
  {
   "cell_type": "code",
   "execution_count": null,
   "id": "3d00fe54-4681-441e-b0a9-bada9bff8429",
   "metadata": {},
   "outputs": [],
   "source": []
  }
 ],
 "metadata": {
  "kernelspec": {
   "display_name": "Python 3 (ipykernel)",
   "language": "python",
   "name": "python3"
  },
  "language_info": {
   "codemirror_mode": {
    "name": "ipython",
    "version": 3
   },
   "file_extension": ".py",
   "mimetype": "text/x-python",
   "name": "python",
   "nbconvert_exporter": "python",
   "pygments_lexer": "ipython3",
   "version": "3.10.10"
  }
 },
 "nbformat": 4,
 "nbformat_minor": 5
}
