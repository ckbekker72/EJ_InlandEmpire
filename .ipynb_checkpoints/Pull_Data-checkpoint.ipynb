{
 "cells": [
  {
   "cell_type": "markdown",
   "id": "8d63ea3c-ebdf-4a92-bd8d-ea01c96f9aa5",
   "metadata": {},
   "source": [
    "Pull in the data for CalEnviroScreen 4.0"
   ]
  },
  {
   "cell_type": "code",
   "execution_count": 1,
   "id": "1a2e73f7-f84f-4a06-8b5b-1f845bb80745",
   "metadata": {},
   "outputs": [],
   "source": [
    "# Change directory to location of CalEnviroScreen data\n",
    "import os\n",
    "os.getcwd()\n",
    "os.chdir('/Users/clairebekker/Documents/GitHub/urbandatascience/lectures/data/CalEnviroScreen/')"
   ]
  },
  {
   "cell_type": "code",
   "execution_count": 3,
   "id": "a1782e47-90d7-4741-8b1a-70069d133354",
   "metadata": {},
   "outputs": [],
   "source": [
    "# Load in CalEnviroScreen Data\n",
    "import geopandas as gpd\n",
    "esGdf = gpd.read_file('CES4 Final Shapefile.shp')"
   ]
  },
  {
   "cell_type": "code",
   "execution_count": 6,
   "id": "5226599e-abab-422e-82f9-9fffd0295489",
   "metadata": {},
   "outputs": [],
   "source": [
    "# Restrict census tracts to Riverside and San Bernardino Counties\n",
    "esGdf_InlandEmpire = esGdf[esGdf['County'].isin(['Riverside', 'San Bernardino'])]"
   ]
  },
  {
   "cell_type": "code",
   "execution_count": 12,
   "id": "6cb5d893-cb82-423b-81f9-0d6e2e3efa4b",
   "metadata": {},
   "outputs": [
    {
     "data": {
      "text/plain": [
       "Index(['Tract', 'ZIP', 'County', 'ApproxLoc', 'TotPop19', 'CIscore',\n",
       "       'CIscoreP', 'Ozone', 'OzoneP', 'PM2_5', 'PM2_5_P', 'DieselPM',\n",
       "       'DieselPM_P', 'Pesticide', 'PesticideP', 'Tox_Rel', 'Tox_Rel_P',\n",
       "       'Traffic', 'TrafficP', 'DrinkWat', 'DrinkWatP', 'Lead', 'Lead_P',\n",
       "       'Cleanup', 'CleanupP', 'GWThreat', 'GWThreatP', 'HazWaste', 'HazWasteP',\n",
       "       'ImpWatBod', 'ImpWatBodP', 'SolWaste', 'SolWasteP', 'PollBurd',\n",
       "       'PolBurdSc', 'PolBurdP', 'Asthma', 'AsthmaP', 'LowBirtWt', 'LowBirWP',\n",
       "       'Cardiovas', 'CardiovasP', 'Educatn', 'EducatP', 'Ling_Isol',\n",
       "       'Ling_IsolP', 'Poverty', 'PovertyP', 'Unempl', 'UnemplP', 'HousBurd',\n",
       "       'HousBurdP', 'PopChar', 'PopCharSc', 'PopCharP', 'Child_10',\n",
       "       'Pop_10_64', 'Elderly65', 'Hispanic', 'White', 'AfricanAm', 'NativeAm',\n",
       "       'OtherMult', 'Shape_Leng', 'Shape_Area', 'AAPI', 'geometry'],\n",
       "      dtype='object')"
      ]
     },
     "execution_count": 12,
     "metadata": {},
     "output_type": "execute_result"
    }
   ],
   "source": [
    "esGdf_InlandEmpire.columns"
   ]
  },
  {
   "cell_type": "code",
   "execution_count": 13,
   "id": "a5265662-37fd-4097-a1de-146e7d245cbc",
   "metadata": {},
   "outputs": [],
   "source": [
    "# Use only raw scores as x-variables\n",
    "# List comprehension to exclude percentile columns and scores\n",
    "cols_to_exclude = [col for col in esGdf_InlandEmpire.columns if col.endswith('P') or col.endswith('score') or col.endswith('Sc')\n",
    "                   or col=='PollBurd' or col=='PopChar']\n",
    "esGdf_InlandEmpire_rawscores = [col for col in esGdf_InlandEmpire.columns if col not in cols_to_exclude]"
   ]
  },
  {
   "cell_type": "markdown",
   "id": "633627fc-2ba4-46e6-b00b-e9f94686490d",
   "metadata": {},
   "source": [
    "Data from 2019 American Community Survey (ACS) "
   ]
  },
  {
   "cell_type": "code",
   "execution_count": 14,
   "id": "d1077770-1753-4677-b5d6-1c9422d2e1be",
   "metadata": {},
   "outputs": [],
   "source": [
    "import cenpy\n",
    "from cenpy import products\n",
    "# create a connection to the American Community Survey\n",
    "acs = cenpy.products.ACS()\n",
    "# Get 2019 ACS Tenure variables and Median Household Income for LA county \n",
    "censusDf_Riverside = products.ACS(2019).from_county('Riverside, CA', level='tract',\n",
    "                                        variables=['B25003_001E', 'B25003_002E', 'B25003_003E', 'B19013_001E'])\n",
    "censusDf_San_Bernardino = products.ACS(2019).from_county('San Bernardino, CA', level='tract',\n",
    "                                        variables=['B25003_001E', 'B25003_002E', 'B25003_003E', 'B19013_001E'])"
   ]
  },
  {
   "cell_type": "code",
   "execution_count": 15,
   "id": "a40fd7b3-b65a-4946-b2d0-be23a2b34768",
   "metadata": {},
   "outputs": [
    {
     "data": {
      "text/html": [
       "<div>\n",
       "<style scoped>\n",
       "    .dataframe tbody tr th:only-of-type {\n",
       "        vertical-align: middle;\n",
       "    }\n",
       "\n",
       "    .dataframe tbody tr th {\n",
       "        vertical-align: top;\n",
       "    }\n",
       "\n",
       "    .dataframe thead th {\n",
       "        text-align: right;\n",
       "    }\n",
       "</style>\n",
       "<table border=\"1\" class=\"dataframe\">\n",
       "  <thead>\n",
       "    <tr style=\"text-align: right;\">\n",
       "      <th></th>\n",
       "      <th>description</th>\n",
       "      <th>columns</th>\n",
       "    </tr>\n",
       "    <tr>\n",
       "      <th>table_name</th>\n",
       "      <th></th>\n",
       "      <th></th>\n",
       "    </tr>\n",
       "  </thead>\n",
       "  <tbody>\n",
       "    <tr>\n",
       "      <th>B01001</th>\n",
       "      <td>SEX BY AGE</td>\n",
       "      <td>[B01001_001E, B01001_002E, B01001_003E, B01001...</td>\n",
       "    </tr>\n",
       "    <tr>\n",
       "      <th>B01002</th>\n",
       "      <td>MEDIAN AGE BY SEX</td>\n",
       "      <td>[B01002_001E, B01002_002E, B01002_003E]</td>\n",
       "    </tr>\n",
       "    <tr>\n",
       "      <th>B01003</th>\n",
       "      <td>TOTAL POPULATION</td>\n",
       "      <td>[B01003_001E]</td>\n",
       "    </tr>\n",
       "    <tr>\n",
       "      <th>B02001</th>\n",
       "      <td>RACE</td>\n",
       "      <td>[B02001_001E, B02001_002E, B02001_003E, B02001...</td>\n",
       "    </tr>\n",
       "    <tr>\n",
       "      <th>B02008</th>\n",
       "      <td>WHITE ALONE OR IN COMBINATION WITH ONE OR MORE...</td>\n",
       "      <td>[B02008_001E]</td>\n",
       "    </tr>\n",
       "  </tbody>\n",
       "</table>\n",
       "</div>"
      ],
      "text/plain": [
       "                                                  description  \\\n",
       "table_name                                                      \n",
       "B01001                                             SEX BY AGE   \n",
       "B01002                                      MEDIAN AGE BY SEX   \n",
       "B01003                                       TOTAL POPULATION   \n",
       "B02001                                                   RACE   \n",
       "B02008      WHITE ALONE OR IN COMBINATION WITH ONE OR MORE...   \n",
       "\n",
       "                                                      columns  \n",
       "table_name                                                     \n",
       "B01001      [B01001_001E, B01001_002E, B01001_003E, B01001...  \n",
       "B01002                [B01002_001E, B01002_002E, B01002_003E]  \n",
       "B01003                                          [B01003_001E]  \n",
       "B02001      [B02001_001E, B02001_002E, B02001_003E, B02001...  \n",
       "B02008                                          [B02008_001E]  "
      ]
     },
     "execution_count": 15,
     "metadata": {},
     "output_type": "execute_result"
    }
   ],
   "source": [
    "# what tables are available?\n",
    "acs.tables.head()"
   ]
  },
  {
   "cell_type": "code",
   "execution_count": null,
   "id": "2a3c15e8-e3b0-4aa1-8c50-87df637d9f94",
   "metadata": {},
   "outputs": [],
   "source": [
    "# Variables = [\n",
    "# Total Population (used to scale for percentages): B01001_001E\n",
    "# Male under 5= B01001_003E, Female under 5= B01001_027E, \n",
    "# Median Household Income = B19013_001E, \n",
    "# 15-17 year-olds Enrolled in public school: B14003_007E, \n",
    "# Estimate!!Total:!!Not enrolled in school: B14001_010E,\n",
    "# Estimate!!Total:!!With an Internet subscription: B28002_002E, Estimate!!Total:!!No fuel used= B25040_010E\t\n",
    "# Estimate!!Total:!!Owner occupied:!!1.01 to 1.50 occupants per room = B25014_005E, \n",
    "# Estimate!!Total:!!Owner occupied:!!1.51 to 2.00 occupants per room = B25014_006E,\n",
    "# Estimate!!Total:!!Owner occupied:!!2.01 or more occupants per room = B25014_007E, \n",
    "# Estimate!!Total:!!Renter occupied:!!1.01 to 1.50 occupants per room = B25014_011E,\n",
    "# Estimate!!Total:!!Renter occupied:!!1.51 to 2.00 occupants per room = B25014_012E,\n",
    "# Estimate!!Total:!!Renter occupied:!!2.01 or more occupants per room = B25014_013E, \n",
    "# Estimate!!Total:!!White alone = B02001_002E"
   ]
  },
  {
   "cell_type": "code",
   "execution_count": null,
   "id": "a9fff375-c4cb-4a8c-b0df-8818fd0b161a",
   "metadata": {},
   "outputs": [],
   "source": []
  }
 ],
 "metadata": {
  "kernelspec": {
   "display_name": "Python 3 (ipykernel)",
   "language": "python",
   "name": "python3"
  },
  "language_info": {
   "codemirror_mode": {
    "name": "ipython",
    "version": 3
   },
   "file_extension": ".py",
   "mimetype": "text/x-python",
   "name": "python",
   "nbconvert_exporter": "python",
   "pygments_lexer": "ipython3",
   "version": "3.10.10"
  }
 },
 "nbformat": 4,
 "nbformat_minor": 5
}
