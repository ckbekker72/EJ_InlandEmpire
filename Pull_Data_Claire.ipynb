{
 "cells": [
  {
   "cell_type": "markdown",
   "id": "5d98ed84-787f-4d25-b01a-83e4ccbc088a",
   "metadata": {},
   "source": [
    "# Data Wrangling: Getting and Cleaning Data, Creating Variables, and Preparing for Joins"
   ]
  },
  {
   "cell_type": "markdown",
   "id": "5092b18a-6e0c-4101-bf2d-8206f4628e3d",
   "metadata": {
    "tags": []
   },
   "source": [
    "## CalEnviroScreen4.0"
   ]
  },
  {
   "cell_type": "markdown",
   "id": "d4b4accf-a75a-4f76-9faf-1b30efb58253",
   "metadata": {},
   "source": [
    "Load data from CalEnviroScreen4.0"
   ]
  },
  {
   "cell_type": "code",
   "execution_count": 2,
   "id": "6b061fee-455d-4174-bab1-253ea31b0de1",
   "metadata": {},
   "outputs": [],
   "source": [
    "# Import os to change directory\n",
    "import os\n",
    "# Import pandas \n",
    "import pandas as pd\n",
    "# Import geopandas\n",
    "import geopandas as gpd\n",
    "# Import numpy\n",
    "import numpy as np\n",
    "# Get mapping to crop raster with shapefile\n",
    "from shapely.geometry import mapping\n",
    "# Importing excel reader\n",
    "import openpyxl"
   ]
  },
  {
   "cell_type": "code",
   "execution_count": 54,
   "id": "1a2e73f7-f84f-4a06-8b5b-1f845bb80745",
   "metadata": {},
   "outputs": [
    {
     "ename": "FileNotFoundError",
     "evalue": "[Errno 2] No such file or directory: 'Data/CalEnviroScreen'",
     "output_type": "error",
     "traceback": [
      "\u001b[0;31m---------------------------------------------------------------------------\u001b[0m",
      "\u001b[0;31mFileNotFoundError\u001b[0m                         Traceback (most recent call last)",
      "Cell \u001b[0;32mIn[54], line 2\u001b[0m\n\u001b[1;32m      1\u001b[0m \u001b[38;5;66;03m# Change directory to location of CalEnviroScreen data\u001b[39;00m\n\u001b[0;32m----> 2\u001b[0m \u001b[43mos\u001b[49m\u001b[38;5;241;43m.\u001b[39;49m\u001b[43mchdir\u001b[49m\u001b[43m(\u001b[49m\u001b[38;5;124;43m'\u001b[39;49m\u001b[38;5;124;43mData/CalEnviroScreen\u001b[39;49m\u001b[38;5;124;43m'\u001b[39;49m\u001b[43m)\u001b[49m\n",
      "\u001b[0;31mFileNotFoundError\u001b[0m: [Errno 2] No such file or directory: 'Data/CalEnviroScreen'"
     ]
    }
   ],
   "source": [
    "# Change directory to location of CalEnviroScreen data\n",
    "os.chdir('Data/CalEnviroScreen')"
   ]
  },
  {
   "cell_type": "code",
   "execution_count": 56,
   "id": "2b3883ae-59c5-4eaa-896a-29dc76b70559",
   "metadata": {},
   "outputs": [
    {
     "data": {
      "text/plain": [
       "'/Users/clairebekker/Documents/GitHub/urbandatascience/EJ_InlandEmpire/Data/CHAT'"
      ]
     },
     "execution_count": 56,
     "metadata": {},
     "output_type": "execute_result"
    }
   ],
   "source": [
    "os.getcwd()"
   ]
  },
  {
   "cell_type": "code",
   "execution_count": 57,
   "id": "055e658c-7277-4d3d-aa44-f151ee7f043f",
   "metadata": {},
   "outputs": [],
   "source": [
    "os.chdir('../CalEnviroScreen')"
   ]
  },
  {
   "cell_type": "code",
   "execution_count": 58,
   "id": "a1782e47-90d7-4741-8b1a-70069d133354",
   "metadata": {
    "tags": []
   },
   "outputs": [],
   "source": [
    "# Load in CalEnviroScreen Data\n",
    "esGdf = gpd.read_file('CES4 Final Shapefile.shp')"
   ]
  },
  {
   "cell_type": "code",
   "execution_count": 59,
   "id": "5226599e-abab-422e-82f9-9fffd0295489",
   "metadata": {},
   "outputs": [],
   "source": [
    "# Restrict census tracts to Riverside and San Bernardino Counties\n",
    "esGdf_InlandEmpire = esGdf[esGdf['County'].isin(['Riverside', 'San Bernardino'])]"
   ]
  },
  {
   "cell_type": "code",
   "execution_count": 62,
   "id": "215ada67-da13-43c7-80c3-86ac2477c59e",
   "metadata": {},
   "outputs": [
    {
     "name": "stderr",
     "output_type": "stream",
     "text": [
      "/Users/clairebekker/anaconda3/envs/uds/lib/python3.10/site-packages/geopandas/geodataframe.py:1443: SettingWithCopyWarning: \n",
      "A value is trying to be set on a copy of a slice from a DataFrame.\n",
      "Try using .loc[row_indexer,col_indexer] = value instead\n",
      "\n",
      "See the caveats in the documentation: https://pandas.pydata.org/pandas-docs/stable/user_guide/indexing.html#returning-a-view-versus-a-copy\n",
      "  super().__setitem__(key, value)\n"
     ]
    }
   ],
   "source": [
    "# Define disadvantaged communities as those with CalEnviroScreen score percentile ≥ 75\n",
    "esGdf_InlandEmpire['CalEnviroScreen_EJ'] = esGdf_InlandEmpire['CIscoreP'].apply(lambda x: True if x >= 75 else False) "
   ]
  },
  {
   "cell_type": "code",
   "execution_count": 7,
   "id": "6cb5d893-cb82-423b-81f9-0d6e2e3efa4b",
   "metadata": {},
   "outputs": [],
   "source": [
    "#esGdf_InlandEmpire.columns"
   ]
  },
  {
   "cell_type": "code",
   "execution_count": 8,
   "id": "a83e0b81-c927-4267-a102-db7879d99ac4",
   "metadata": {},
   "outputs": [],
   "source": [
    "# Use only raw scores as x-variables\n",
    "# List comprehension to exclude percentile columns and scores\n",
    "cols_to_exclude = [col for col in esGdf_InlandEmpire.columns if col.endswith('P') or col.endswith('score') or col.endswith('Sc')\n",
    "                   or col=='PollBurd' or col=='PopChar']\n",
    "esGdf_InlandEmpire_rawscores = [col for col in esGdf_InlandEmpire.columns if col not in cols_to_exclude]\n",
    "\n",
    "# Subset dataframe to only include raw scores\n",
    "esGdf_InlandEmpire= esGdf_InlandEmpire[esGdf_InlandEmpire_rawscores]\n",
    "\n",
    "# Edit tract number to match the GEOID in other datasets\n",
    "esGdf_InlandEmpire['GEOID'] = esGdf_InlandEmpire.Tract.astype(np.int64).astype(str).str.zfill(11)\n",
    "\n",
    "# Set GEOID as index to join with other datasets\n",
    "esGdf_InlandEmpire.set_index('GEOID', inplace=True)"
   ]
  },
  {
   "cell_type": "markdown",
   "id": "6f1d395f-380f-40f4-be24-a965e71ab939",
   "metadata": {},
   "source": [
    "## American Community Survey (2019)"
   ]
  },
  {
   "cell_type": "markdown",
   "id": "d08c1331-dd9b-4965-bf86-e2d61eca7e9c",
   "metadata": {},
   "source": [
    "Use API connection to get data from 2019 American Community Survey (ACS) "
   ]
  },
  {
   "cell_type": "code",
   "execution_count": 9,
   "id": "855d45af-a566-4ef0-aa9d-f8b734f5b065",
   "metadata": {},
   "outputs": [],
   "source": [
    "import cenpy\n",
    "from cenpy import products\n",
    "# create a connection to the American Community Survey\n",
    "acs = cenpy.products.ACS()"
   ]
  },
  {
   "cell_type": "code",
   "execution_count": 10,
   "id": "dddc1c76-41f5-4cce-a2c0-45d161b95175",
   "metadata": {
    "tags": []
   },
   "outputs": [],
   "source": [
    "#pd.set_option('display.max_colwidth', None)\n",
    "#acs.filter_variables('B25014')"
   ]
  },
  {
   "cell_type": "code",
   "execution_count": 11,
   "id": "2a3c15e8-e3b0-4aa1-8c50-87df637d9f94",
   "metadata": {},
   "outputs": [],
   "source": [
    "census_var = ['B01001_001E', 'B01001_003E', 'B01001_027E', 'B01001_044E', 'B01001_045E', 'B01001_046E', 'B01001_047E', 'B01001_048E', 'B01001_049E', 'B01001_020E', 'B01001_021E', 'B01001_022E', 'B01001_023E', 'B01001_024E', 'B01001_025E',\n",
    "              'B19013_001E', 'B14005_001E', 'B14005_007E', 'B14005_021E', 'B28002_002E', 'B25040_010E', 'B25040_001E', 'B25014_001E', 'B25014_005E', 'B25014_006E', 'B25014_007E', 'B25014_011E', 'B25014_012E', 'B25014_013E', 'B02001_002E', \n",
    "              'C18108_001E', 'C18108_003E', 'C18108_004E', 'C18108_007E','C18108_008E', 'C18108_011E', 'C18108_012E', 'B28002_001E', 'B28002_012E', 'B28002_013E', 'B25014H_003E', 'B25044_001E', 'B25044_003E', 'B25044_010E', 'B25044_004E', 'B25044_011E', \n",
    "              'B08301_001E', 'B08301_019E', 'B08301_018E', 'B08303_013E', 'B08303_001E'] \n",
    "# Total Population (used to scale for percentages): B01001_001E\n",
    "# Estimate!!Total:!!White alone = B02001_002E\n",
    "# Male under 5= B01001_003E, Female under 5= B01001_027E, \n",
    "# Older populations: Estimate!!Total:!!Female:!!65 and older = B01001_044E, B01001_045E, B01001_046E, B01001_047E, B01001_048E, B01001_049E\n",
    "# Estimate!!Total:!!Male:!!65 and older = B01001_020E, B01001_021E, B01001_022E, B01001_023E, B01001_024E, B01001_025E,\n",
    "# Median Household Income = B19013_001E,  \n",
    "# Estimate!!Total:!!Male:!!Not Enrolled in school: SEX BY SCHOOL ENROLLMENT BY EDUCATIONAL ATTAINMENT BY EMPLOYMENT STATUS FOR THE POPULATION 16 TO 19 YEARS = B14005_007E,\n",
    "# Estimate!!Total:!!Female:!!Not enrolled in school: SEX BY SCHOOL ENROLLMENT BY EDUCATIONAL ATTAINMENT BY EMPLOYMENT STATUS FOR THE POPULATION 16 TO 19 YEARS = B14005_021E, \n",
    "# Estimate!!Total: SEX BY SCHOOL ENROLLMENT BY EDUCATIONAL ATTAINMENT BY EMPLOYMENT STATUS FOR THE POPULATION 16 TO 19 YEARS = B14005_001E, \n",
    "# Estimate!!Total:!!No Internet access = B28002_013E,\n",
    "# Estimate!!Total:!!Internet access without a subscription = B28002_012E,\n",
    "# Estimate!!Total: PRESENCE AND TYPES OF INTERNET SUBSCRIPTIONS IN HOUSEHOLD = B28002_001E,\n",
    "# Estimate!!Total:!!Under 18 years:!!With one type of disability = C18108_003E\n",
    "# Estimate!!Total:!!Under 18 years:!!With one type of disability = C18108_004E\n",
    "# Estimate!!Total:!!18 to 64 years!!With one type of disability = C18108_007E\n",
    "# Estimate!!Total:!!18 to 64 years:!!With two or more disabilities = C18108_008E \n",
    "# Estimate!!Total:!!65 years and over:!!With one type of disability = C18108_011E\n",
    "# Estimate!!Total:!!65 years and over:!!With two or more disabilities = C18108_012E\n",
    "# Estimate!!Total!! AGE BY NUMBER OF DISABILITIES= C18108_001E\n",
    "# Estimate!!Total:!!No Internet access = B28002_013E\n",
    "# Estimate!!Total:!!1.01 or more occupants per room = B25014H_003E\n",
    "# Estimate!!Total!!Owner occupied!!No vehicle available = B25044_003E \n",
    "# Estimate!!Total!!Renter occupied!!No vehicle available = B25044_010E\n",
    "# Estimate!!Total!!Owner occupied!!1 vehicle available = B25044_004E\n",
    "# Estimate!!Total!!Renter occupied!!1 vehicle available = B25044_011E\n",
    "# Estimate!!Total: TENURE BY VEHICLES AVAILABLE = B25044_001E\n",
    "# Estimate!!Total!! means of transportation to work = B08301_001E\n",
    "# Estimate!!Total!!Walked = B08301_019E\n",
    "# Estimate!!Total!!Bicycle = B08301_018E\n",
    "# Estimate!!Total:!!90 or more minutes time to travel to work = B08303_013E\n",
    "# Estimate!!Total: TRAVEL TIME TO WORK = B08303_001E \n",
    "# Estimate!!Total:!!No fuel used = B25040_010E \n",
    "# Estimate!!Total: HOUSE HEATING FUEL = B25040_001E \n",
    "# Estimate!!Total:!!Owner occupied:!!1.01 to 1.50 occupants per room = B25014_005E, \n",
    "# Estimate!!Total:!!Owner occupied:!!1.51 to 2.00 occupants per room = B25014_006E,\n",
    "# Estimate!!Total:!!Owner occupied:!!2.01 or more occupants per room = B25014_007E, \n",
    "# Estimate!!Total:!!Renter occupied:!!1.01 to 1.50 occupants per room = B25014_011E,\n",
    "# Estimate!!Total:!!Renter occupied:!!1.51 to 2.00 occupants per room = B25014_012E,\n",
    "# Estimate!!Total:!!Renter occupied:!!2.01 or more occupants per room = B25014_013E, \n",
    "# Estimate!!Total: TENURE BY OCCUPANTS PER ROOM = B25014_001E"
   ]
  },
  {
   "cell_type": "code",
   "execution_count": 12,
   "id": "d1077770-1753-4677-b5d6-1c9422d2e1be",
   "metadata": {},
   "outputs": [
    {
     "name": "stderr",
     "output_type": "stream",
     "text": [
      "/Users/clairebekker/anaconda3/envs/uds/lib/python3.10/site-packages/cenpy/products.py:762: FutureWarning: The `op` parameter is deprecated and will be removed in a future release. Please use the `predicate` parameter instead.\n",
      "  return self._from_name(county, variables, level, \"Counties\", **kwargs)\n",
      "/Users/clairebekker/anaconda3/envs/uds/lib/python3.10/site-packages/cenpy/products.py:762: FutureWarning: The `op` parameter is deprecated and will be removed in a future release. Please use the `predicate` parameter instead.\n",
      "  return self._from_name(county, variables, level, \"Counties\", **kwargs)\n"
     ]
    }
   ],
   "source": [
    "# Get 2019 ACS for Riverside and San Bernardino counties\n",
    "censusDf_Riverside = products.ACS(2019).from_county('Riverside, CA', level='tract',\n",
    "                                        variables=census_var)\n",
    "censusDf_San_Bernardino = products.ACS(2019).from_county('San Bernardino, CA', level='tract',\n",
    "                                        variables=census_var)"
   ]
  },
  {
   "cell_type": "code",
   "execution_count": 13,
   "id": "94771c79-06eb-4a8b-a7ce-0cfa414a6525",
   "metadata": {},
   "outputs": [],
   "source": [
    "censusDf_IE = pd.concat((censusDf_Riverside, censusDf_San_Bernardino), axis=0)"
   ]
  },
  {
   "cell_type": "code",
   "execution_count": 14,
   "id": "976a7a75-81d6-4353-8caf-8e5ceafd52b9",
   "metadata": {},
   "outputs": [],
   "source": [
    "# Race\n",
    "censusDf_IE['pct_POC'] = ((censusDf_IE['B01001_001E'] - censusDf_IE['B02001_002E'])/censusDf_IE['B01001_001E'])*100 # (total population - white alone)/total population * 100\n",
    "\n",
    "## SOCIOECONOMIC VULNERABILITY FACTORS ##\n",
    "## Age\n",
    "censusDf_IE['pct_youngchild'] = ((censusDf_IE['B01001_003E'] + censusDf_IE['B01001_027E'])/censusDf_IE['B01001_001E'])*100 # male under 5 + female under 5, divided by total population\n",
    "older_pop = ['B01001_044E', 'B01001_045E', 'B01001_046E', 'B01001_047E', 'B01001_048E', 'B01001_049E', 'B01001_020E', 'B01001_021E', 'B01001_022E', 'B01001_023E', 'B01001_024E', 'B01001_025E'] # All variables for male and female populations greater than 65\n",
    "censusDf_IE['pct_older'] = (censusDf_IE[older_pop].sum(axis=1)/censusDf_IE['B01001_001E'])*100 # Sum all counts of people 65+/total population\n",
    "## Disability\n",
    "disability= ['C18108_003E', 'C18108_004E', 'C18108_007E','C18108_008E', 'C18108_011E', 'C18108_012E']\n",
    "censusDf_IE['pct_disability'] = (censusDf_IE[disability].sum(axis=1)/censusDf_IE['C18108_001E'])*100 # sum number of estimated total of people in each range with one or more disabilities, divide by total polled population\n",
    "# Median Household Income\n",
    "censusDf_IE['med_income']= censusDf_IE['B19013_001E']\n",
    "# Disconnected Youth (16-19 year olds not in school) \n",
    "censusDf_IE['pct_disconnectedyouth']= ((censusDf_IE['B14005_007E'] + censusDf_IE['B14005_021E'])/censusDf_IE['B14005_001E'])*100 # sum number of 16-19 males and females not enrolled in school/population of 16-19 year olds\n",
    "# Internet Access (percentage of households without internet subscription)\n",
    "censusDf_IE['pct_woutinternet'] = ((censusDf_IE['B28002_013E'] + censusDf_IE['B28002_012E'])/censusDf_IE['B28002_001E'])*100 # number of households without any internet or internet subscription/total number of households polled"
   ]
  },
  {
   "cell_type": "code",
   "execution_count": 15,
   "id": "3315702d-8421-4148-9661-1ac3db1f129c",
   "metadata": {},
   "outputs": [],
   "source": [
    "## TRANSPORTION ##   \n",
    "# Vehicle ownership \n",
    "vehicles = ['B25044_003E', 'B25044_010E', 'B25044_004E', 'B25044_011E'] # all owner-occupied (0 or 1 cars) and rental (0 or 1 cars)                                     \n",
    "censusDf_IE['pct_lessthan2vehicles'] = ((censusDf_IE[vehicles].sum(axis=1))/censusDf_IE['B25044_001E'])*100 # sum number of owner-occupied or rental households with 0 or 1 cars/total households polled\n",
    "# Active Commute\n",
    "censusDf_IE['pct_activecommute'] = ((censusDf_IE['B08301_019E'] + censusDf_IE['B08301_018E'])/censusDf_IE['B08301_001E'])*100 # sum of walking and biking commuters/total number of commuters \n",
    "# Extreme Commutes \n",
    "censusDf_IE['pct_extremecommute'] = (censusDf_IE['B08303_013E']/censusDf_IE['B08303_001E'])*100 # proportion of commuters traveling 90+ minutes"
   ]
  },
  {
   "cell_type": "code",
   "execution_count": 16,
   "id": "979705ac-c720-454d-9ab5-1e8b112de1c7",
   "metadata": {},
   "outputs": [],
   "source": [
    "## HOUSING ##\n",
    "# House Heating\n",
    "censusDf_IE['pct_nofuel']= (censusDf_IE['B25040_010E']/censusDf_IE['B25040_001E'])*100 # number of households with no heating fuel/total households\n",
    "# Overcrowding\n",
    "occupants = ['B25014_005E', 'B25014_006E', 'B25014_007E', 'B25014_011E', 'B25014_012E', 'B25014_013E'] # owner and rent-occupied 1+ people per room \n",
    "censusDf_IE['pct_1+occupants']= (censusDf_IE[occupants].sum(axis=1)/censusDf_IE['B25014_001E'])*100 # sum of households with 1+ people per room/total households"
   ]
  },
  {
   "cell_type": "code",
   "execution_count": 17,
   "id": "5d5c0b00-7ff0-403d-ac9b-4275561bc6e4",
   "metadata": {},
   "outputs": [
    {
     "data": {
      "text/html": [
       "<div>\n",
       "<style scoped>\n",
       "    .dataframe tbody tr th:only-of-type {\n",
       "        vertical-align: middle;\n",
       "    }\n",
       "\n",
       "    .dataframe tbody tr th {\n",
       "        vertical-align: top;\n",
       "    }\n",
       "\n",
       "    .dataframe thead th {\n",
       "        text-align: right;\n",
       "    }\n",
       "</style>\n",
       "<table border=\"1\" class=\"dataframe\">\n",
       "  <thead>\n",
       "    <tr style=\"text-align: right;\">\n",
       "      <th></th>\n",
       "      <th>GEOID</th>\n",
       "      <th>geometry</th>\n",
       "      <th>B01001_001E</th>\n",
       "      <th>B01001_003E</th>\n",
       "      <th>B01001_020E</th>\n",
       "      <th>B01001_021E</th>\n",
       "      <th>B01001_022E</th>\n",
       "      <th>B01001_023E</th>\n",
       "      <th>B01001_024E</th>\n",
       "      <th>B01001_025E</th>\n",
       "      <th>...</th>\n",
       "      <th>pct_older</th>\n",
       "      <th>pct_disability</th>\n",
       "      <th>med_income</th>\n",
       "      <th>pct_disconnectedyouth</th>\n",
       "      <th>pct_woutinternet</th>\n",
       "      <th>pct_vehicleowner</th>\n",
       "      <th>pct_activecommute</th>\n",
       "      <th>pct_extremecommute</th>\n",
       "      <th>pct_nofuel</th>\n",
       "      <th>pct_1+occupants</th>\n",
       "    </tr>\n",
       "  </thead>\n",
       "  <tbody>\n",
       "    <tr>\n",
       "      <th>0</th>\n",
       "      <td>06065041904</td>\n",
       "      <td>POLYGON ((-13099233.990 4011396.270, -13099207...</td>\n",
       "      <td>5391.0</td>\n",
       "      <td>168.0</td>\n",
       "      <td>31.0</td>\n",
       "      <td>62.0</td>\n",
       "      <td>13.0</td>\n",
       "      <td>63.0</td>\n",
       "      <td>69.0</td>\n",
       "      <td>15.0</td>\n",
       "      <td>...</td>\n",
       "      <td>9.738453</td>\n",
       "      <td>7.546115</td>\n",
       "      <td>107880.0</td>\n",
       "      <td>6.528190</td>\n",
       "      <td>2.588757</td>\n",
       "      <td>18.491124</td>\n",
       "      <td>1.543210</td>\n",
       "      <td>4.566536</td>\n",
       "      <td>0.517751</td>\n",
       "      <td>11.316568</td>\n",
       "    </tr>\n",
       "    <tr>\n",
       "      <th>1</th>\n",
       "      <td>06065041702</td>\n",
       "      <td>POLYGON ((-13089529.040 4010560.230, -13089521...</td>\n",
       "      <td>5185.0</td>\n",
       "      <td>246.0</td>\n",
       "      <td>60.0</td>\n",
       "      <td>57.0</td>\n",
       "      <td>114.0</td>\n",
       "      <td>63.0</td>\n",
       "      <td>9.0</td>\n",
       "      <td>9.0</td>\n",
       "      <td>...</td>\n",
       "      <td>11.957570</td>\n",
       "      <td>8.502340</td>\n",
       "      <td>79283.0</td>\n",
       "      <td>0.000000</td>\n",
       "      <td>12.636961</td>\n",
       "      <td>18.991965</td>\n",
       "      <td>1.045556</td>\n",
       "      <td>4.661532</td>\n",
       "      <td>1.314828</td>\n",
       "      <td>7.742878</td>\n",
       "    </tr>\n",
       "    <tr>\n",
       "      <th>2</th>\n",
       "      <td>06065041500</td>\n",
       "      <td>POLYGON ((-13096164.800 4014145.990, -13096149...</td>\n",
       "      <td>3263.0</td>\n",
       "      <td>128.0</td>\n",
       "      <td>8.0</td>\n",
       "      <td>9.0</td>\n",
       "      <td>14.0</td>\n",
       "      <td>32.0</td>\n",
       "      <td>8.0</td>\n",
       "      <td>16.0</td>\n",
       "      <td>...</td>\n",
       "      <td>6.282562</td>\n",
       "      <td>9.255287</td>\n",
       "      <td>60735.0</td>\n",
       "      <td>29.230769</td>\n",
       "      <td>10.237660</td>\n",
       "      <td>47.714808</td>\n",
       "      <td>3.950777</td>\n",
       "      <td>4.367968</td>\n",
       "      <td>0.731261</td>\n",
       "      <td>7.952468</td>\n",
       "    </tr>\n",
       "    <tr>\n",
       "      <th>3</th>\n",
       "      <td>06065040809</td>\n",
       "      <td>POLYGON ((-13087670.230 4014380.140, -13087646...</td>\n",
       "      <td>4262.0</td>\n",
       "      <td>183.0</td>\n",
       "      <td>36.0</td>\n",
       "      <td>60.0</td>\n",
       "      <td>50.0</td>\n",
       "      <td>28.0</td>\n",
       "      <td>20.0</td>\n",
       "      <td>7.0</td>\n",
       "      <td>...</td>\n",
       "      <td>8.798686</td>\n",
       "      <td>6.475833</td>\n",
       "      <td>74704.0</td>\n",
       "      <td>0.000000</td>\n",
       "      <td>7.274321</td>\n",
       "      <td>27.519720</td>\n",
       "      <td>0.000000</td>\n",
       "      <td>8.891109</td>\n",
       "      <td>1.314636</td>\n",
       "      <td>14.110429</td>\n",
       "    </tr>\n",
       "    <tr>\n",
       "      <th>4</th>\n",
       "      <td>06065040615</td>\n",
       "      <td>POLYGON ((-13087499.580 4023599.500, -13087495...</td>\n",
       "      <td>10810.0</td>\n",
       "      <td>858.0</td>\n",
       "      <td>63.0</td>\n",
       "      <td>198.0</td>\n",
       "      <td>65.0</td>\n",
       "      <td>38.0</td>\n",
       "      <td>46.0</td>\n",
       "      <td>37.0</td>\n",
       "      <td>...</td>\n",
       "      <td>8.612396</td>\n",
       "      <td>8.602948</td>\n",
       "      <td>138651.0</td>\n",
       "      <td>6.048387</td>\n",
       "      <td>1.447424</td>\n",
       "      <td>12.260536</td>\n",
       "      <td>0.000000</td>\n",
       "      <td>6.352750</td>\n",
       "      <td>0.000000</td>\n",
       "      <td>7.364836</td>\n",
       "    </tr>\n",
       "  </tbody>\n",
       "</table>\n",
       "<p>5 rows × 69 columns</p>\n",
       "</div>"
      ],
      "text/plain": [
       "         GEOID                                           geometry  \\\n",
       "0  06065041904  POLYGON ((-13099233.990 4011396.270, -13099207...   \n",
       "1  06065041702  POLYGON ((-13089529.040 4010560.230, -13089521...   \n",
       "2  06065041500  POLYGON ((-13096164.800 4014145.990, -13096149...   \n",
       "3  06065040809  POLYGON ((-13087670.230 4014380.140, -13087646...   \n",
       "4  06065040615  POLYGON ((-13087499.580 4023599.500, -13087495...   \n",
       "\n",
       "   B01001_001E  B01001_003E  B01001_020E  B01001_021E  B01001_022E  \\\n",
       "0       5391.0        168.0         31.0         62.0         13.0   \n",
       "1       5185.0        246.0         60.0         57.0        114.0   \n",
       "2       3263.0        128.0          8.0          9.0         14.0   \n",
       "3       4262.0        183.0         36.0         60.0         50.0   \n",
       "4      10810.0        858.0         63.0        198.0         65.0   \n",
       "\n",
       "   B01001_023E  B01001_024E  B01001_025E  ...  pct_older  pct_disability  \\\n",
       "0         63.0         69.0         15.0  ...   9.738453        7.546115   \n",
       "1         63.0          9.0          9.0  ...  11.957570        8.502340   \n",
       "2         32.0          8.0         16.0  ...   6.282562        9.255287   \n",
       "3         28.0         20.0          7.0  ...   8.798686        6.475833   \n",
       "4         38.0         46.0         37.0  ...   8.612396        8.602948   \n",
       "\n",
       "   med_income  pct_disconnectedyouth  pct_woutinternet  pct_vehicleowner  \\\n",
       "0    107880.0               6.528190          2.588757         18.491124   \n",
       "1     79283.0               0.000000         12.636961         18.991965   \n",
       "2     60735.0              29.230769         10.237660         47.714808   \n",
       "3     74704.0               0.000000          7.274321         27.519720   \n",
       "4    138651.0               6.048387          1.447424         12.260536   \n",
       "\n",
       "   pct_activecommute  pct_extremecommute  pct_nofuel  pct_1+occupants  \n",
       "0           1.543210            4.566536    0.517751        11.316568  \n",
       "1           1.045556            4.661532    1.314828         7.742878  \n",
       "2           3.950777            4.367968    0.731261         7.952468  \n",
       "3           0.000000            8.891109    1.314636        14.110429  \n",
       "4           0.000000            6.352750    0.000000         7.364836  \n",
       "\n",
       "[5 rows x 69 columns]"
      ]
     },
     "execution_count": 17,
     "metadata": {},
     "output_type": "execute_result"
    }
   ],
   "source": [
    "#pd.set_option('display.max_colwidth', 50)\n",
    "#censusDf_IE.head()"
   ]
  },
  {
   "cell_type": "code",
   "execution_count": 18,
   "id": "3942733d-1732-48d8-a270-f57474858714",
   "metadata": {},
   "outputs": [],
   "source": [
    "# Drop all of the ACS variable names and keep variables we created \n",
    "censusDf_IE =censusDf_IE.drop(labels=['geometry','B01001_001E', 'B01001_003E', 'B01001_027E', 'B01001_044E', 'B01001_045E', 'B01001_046E', 'B01001_047E', 'B01001_048E', 'B01001_049E', 'B01001_020E', 'B01001_021E', 'B01001_022E', 'B01001_023E', 'B01001_024E', 'B01001_025E',\n",
    "              'B19013_001E', 'B14005_001E', 'B14005_007E', 'B14005_021E', 'B28002_002E', 'B25040_010E', 'B25040_001E', 'B25014_001E', 'B25014_005E', 'B25014_006E', 'B25014_007E', 'B25014_011E', 'B25014_012E', 'B25014_013E', 'B02001_002E', \n",
    "              'C18108_001E', 'C18108_003E', 'C18108_004E', 'C18108_007E','C18108_008E', 'C18108_011E', 'C18108_012E', 'B28002_001E', 'B28002_012E', 'B28002_013E', 'B25014H_003E', 'B25044_001E', 'B25044_003E', 'B25044_010E', 'B25044_004E', 'B25044_011E', \n",
    "              'B08301_001E', 'B08301_019E', 'B08301_018E', 'B08303_013E', 'B08303_001E'], axis=1)"
   ]
  },
  {
   "cell_type": "code",
   "execution_count": 19,
   "id": "1ef663de-fb17-4952-896d-97c592844925",
   "metadata": {},
   "outputs": [],
   "source": [
    "# Set index as GEOID to use for joining datasets \n",
    "censusDf_IE.set_index('GEOID', inplace=True)"
   ]
  },
  {
   "cell_type": "markdown",
   "id": "cedbcbac-0a05-4785-b825-26001c42ae53",
   "metadata": {},
   "source": [
    "## US Dept. of Housing and Urban Development (HUD)\n"
   ]
  },
  {
   "cell_type": "markdown",
   "id": "7fc26374-4c35-43a0-a3aa-2382725549a1",
   "metadata": {},
   "source": [
    "Pull in the data from HUD Comprehensive Housing Affordability Strategy (CHAS) 2015-2019\n"
   ]
  },
  {
   "cell_type": "code",
   "execution_count": 20,
   "id": "29ee0393-efab-4b2b-b522-08a75f95028d",
   "metadata": {},
   "outputs": [],
   "source": [
    "os.chdir('../HUD CHAS')\n",
    "hamfiDf = pd.read_csv('Table16.csv')\n",
    "len(hamfiDf)\n",
    "\n",
    "# Select HUD CHAS data for census tracts in the IE\n",
    "hamfiDfIE = hamfiDf[hamfiDf['name'].str.contains(\"Riverside\")|hamfiDf['name'].str.contains(\"San Bernardino\")].reset_index()"
   ]
  },
  {
   "cell_type": "markdown",
   "id": "64023512-a5ec-4244-9bef-a8a4fc615b47",
   "metadata": {},
   "source": [
    "Calculate percentage of households per tract that make 30% or less than the HUD Area Median Family Income (HAMFI)."
   ]
  },
  {
   "cell_type": "code",
   "execution_count": 26,
   "id": "b53b45ff-8933-4952-b120-5da8bbbda033",
   "metadata": {},
   "outputs": [],
   "source": [
    "# Identify percentage of households per tract that make 30% or less than the HUD Area Median Family Income (HAMFI).\n",
    "hamfiDfIE['HAMFI30'] = ((hamfiDf['T16_est3'] + hamfiDf['T16_est88'])/hamfiDf['T16_est1'])*100\n",
    "#hamfiDfIE.head()\n",
    "\n",
    "# Get GEOID for HUD Area Median Family Income data \n",
    "hamfiDfIE['GEOID'] = hamfiDfIE['geoid'].str[7:]\n",
    "\n",
    "# Subset dataframe to only include columns of interest\n",
    "hamfiDfIE= hamfiDfIE[['GEOID', 'HAMFI30']]\n",
    "\n",
    "# Set GEOID as index \n",
    "hamfiDfIE.set_index('GEOID', inplace=True)\n",
    "\n",
    "# Add name to HAMFI series so it can be joined with dataframes\n",
    "hamfiDfIE.name = 'HAMFI'"
   ]
  },
  {
   "cell_type": "markdown",
   "id": "c19e8e28-22b3-475f-829e-50dab3e546fe",
   "metadata": {},
   "source": [
    "## California Natural Resources Agency (CNRA) "
   ]
  },
  {
   "cell_type": "markdown",
   "id": "14e9e89e-dc89-4b5c-aad8-ff7aec1012d9",
   "metadata": {},
   "source": [
    "Pull in the California Natural Resources Agency (CNRA) California\n",
    "Heat Assessment Tool (CHAT) 2015 data"
   ]
  },
  {
   "cell_type": "code",
   "execution_count": 44,
   "id": "b9806c02-1a64-4508-8772-7b3eeacfb2b6",
   "metadata": {},
   "outputs": [],
   "source": [
    "os.chdir('../CHAT')\n",
    "CHATRiversideDf = pd.read_csv('CHAT-Riverside County-projected.csv')\n",
    "CHATSBDf = pd.read_csv('CHAT-San Bernardino County-projected.csv')\n",
    "\n",
    "# Concatenate Riverside and San Bernardino Data\n",
    "CHATIE = pd.concat((CHATRiversideDf, CHATSBDf), axis=0)"
   ]
  },
  {
   "cell_type": "markdown",
   "id": "65a7ed3f-448a-4241-b68a-c4092ec32404",
   "metadata": {},
   "source": [
    "Select time frame as 2021-2040 and time of year as June, July, and August for general population for the 50th percentile of models.  "
   ]
  },
  {
   "cell_type": "code",
   "execution_count": 47,
   "id": "9ed7de5e-eca3-4f27-a105-25c4b8f84ae8",
   "metadata": {},
   "outputs": [
    {
     "name": "stderr",
     "output_type": "stream",
     "text": [
      "/var/folders/bt/zz9p33b12m55w8szgpmyprmr0000gn/T/ipykernel_92030/555908632.py:4: SettingWithCopyWarning: \n",
      "A value is trying to be set on a copy of a slice from a DataFrame.\n",
      "Try using .loc[row_indexer,col_indexer] = value instead\n",
      "\n",
      "See the caveats in the documentation: https://pandas.pydata.org/pandas-docs/stable/user_guide/indexing.html#returning-a-view-versus-a-copy\n",
      "  CHATIE_selected['GEOID'] = CHATIE_selected['geoid_long'].str[9:]\n"
     ]
    }
   ],
   "source": [
    "CHATIE_selected= CHATIE[(CHATIE['projections_time_frame'] == '2021-2040') & (CHATIE['rcp']== 'rcp45') & (CHATIE['socioeconomic_group'] == 'General') & (CHATIE['time_of_year']=='JJA') & (CHATIE['model_percentiles'] == 50)]\n",
    "\n",
    "# Get GEOID for CHAT  \n",
    "CHATIE_selected['GEOID'] = CHATIE_selected['geoid_long'].str[9:]\n",
    "\n",
    "# Select Heat Health Events Max Temperature\n",
    "CHATIE_maxtemp = CHATIE_selected[['proj_avg_tmax', 'GEOID']]\n",
    "\n",
    "# Set GEOID as index to join with other datasets\n",
    "CHATIE_maxtemp.set_index('GEOID', inplace=True)\n",
    "\n",
    "# Add name to CHAT series so it can be joined with dataframes\n",
    "CHATIE_maxtemp.name = 'Max_Temp'"
   ]
  },
  {
   "cell_type": "markdown",
   "id": "6873690c-93f0-44f8-b592-135840be1204",
   "metadata": {},
   "source": [
    "## Romitti et al. 2022: Probability of Residential Air Conditioning"
   ]
  },
  {
   "cell_type": "markdown",
   "id": "250725dd-7fec-4098-abac-2b8df2531389",
   "metadata": {},
   "source": [
    " Load data for probability of residential air conditioning from Romitti et al. csv"
   ]
  },
  {
   "cell_type": "code",
   "execution_count": 28,
   "id": "0aa608ce-b982-4961-83dc-c4473398e768",
   "metadata": {},
   "outputs": [],
   "source": [
    "# Change directory and read in data\n",
    "os.chdir('../AC')\n",
    "ac_data = pd.read_csv('US_metro_ac_prob-1.csv')\n",
    "\n",
    "# Restrict Census Tracts to Riverside and San Bernardino\n",
    "acdata_IE= ac_data[ac_data['NAME'].str.contains(\"Riverside\")|ac_data['NAME'].str.contains(\"San Bernardino\")].reset_index()\n",
    "\n",
    "# Take the inverse of the AC probability to use as a vulnerability metric\n",
    "acdata_IE['inverse_ac_prob']= 1/acdata_IE['ac_prob']\n",
    "\n",
    "# Add leading zero to TRACT_GEOID column to match the other GEOID codes \n",
    "acdata_IE['TRACT_GEOID']= acdata_IE.TRACT_GEOID.astype(str).str.zfill(11)\n",
    "\n",
    "# Select TRACT_GEOID and inverse of AC probability as relevant variables\n",
    "acdata_IE=acdata_IE[['TRACT_GEOID', 'inverse_ac_prob']]\n",
    "\n",
    "# Set TRACT_GEOID as index\n",
    "acdata_IE.set_index('TRACT_GEOID', inplace=True)\n",
    "\n",
    "# Add name to AC data series so it can be joined with dataframes\n",
    "acdata_IE.name = 'AC_Data'"
   ]
  },
  {
   "cell_type": "markdown",
   "id": "89f33ef2-7cba-4e63-baa5-0c5554dd8f69",
   "metadata": {
    "tags": []
   },
   "source": [
    "## USDA: Food Access Research Atlas 2019\n"
   ]
  },
  {
   "cell_type": "markdown",
   "id": "74d176b2-5e0d-4213-9ee3-7cd755f7b740",
   "metadata": {},
   "source": [
    "Load the Data from the Food Access Research Atlas and "
   ]
  },
  {
   "cell_type": "code",
   "execution_count": 29,
   "id": "24c51fee-dd09-4f7a-8879-43ab18b956f2",
   "metadata": {},
   "outputs": [],
   "source": [
    "os.chdir('../Food_Access')\n",
    "\n",
    "# Load Workbook for Food Access Research Atlas and get data worksheet\n",
    "food_access = pd.ExcelFile('FoodAccessResearchAtlasData2019.xlsx')\n",
    "snap_data = pd.read_excel(food_access, 'Food Access Research Atlas')\n",
    "\n",
    "# Select Riverside and San Bernardino counties \n",
    "snap_dataIE= snap_data[snap_data['County'].isin(['Riverside County', 'San Bernardino County'])]\n",
    "\n",
    "# Create variable for percent of households receiving SNAP\n",
    "snap_dataIE['pct_SNAP']= (snap_dataIE['TractSNAP']/snap_dataIE['OHU2010'])*100\n",
    "\n",
    "# Subset the dataframe to include relevant columns\n",
    "snap_dataIE= snap_dataIE[['CensusTract', 'pct_SNAP']]\n",
    "\n",
    "# Add leading zero to TRACT_GEOID column to match the other GEOID codes \n",
    "snap_dataIE['CensusTract']= snap_dataIE.CensusTract.astype(str).str.zfill(11)\n",
    "\n",
    "# Set TRACT_GEOID as index\n",
    "snap_dataIE.set_index('CensusTract', inplace=True)\n",
    "\n",
    "# Add name to SNAP data series so it can be joined with dataframes\n",
    "snap_dataIE.name = 'SNAP_usage'"
   ]
  },
  {
   "cell_type": "markdown",
   "id": "10e8a587-a5ab-476e-84aa-274716c6fc51",
   "metadata": {},
   "source": [
    "## NLCD 2019 (Tree Canopy Coverage 2019)"
   ]
  },
  {
   "cell_type": "code",
   "execution_count": 6,
   "id": "eeb9d789-2934-418b-a1fa-8efc9de60d79",
   "metadata": {},
   "outputs": [],
   "source": [
    "# Load geotiff of Tree Canopy Coverage \n",
    "# for 30m resolution \n",
    "import rasterio\n",
    "import rioxarray as rxr\n",
    "os.chdir('../NLCD')\n",
    "nlcd_trees= rxr.open_rasterio('nlcd_tcc_CONUS_2019_v2021-4/nlcd_tcc_conus_2019_v2021-4.tif')"
   ]
  },
  {
   "cell_type": "code",
   "execution_count": 7,
   "id": "6824d823-357a-4079-ae61-fe31b99b84b3",
   "metadata": {
    "tags": []
   },
   "outputs": [
    {
     "data": {
      "text/plain": [
       "CRS.from_epsg(5070)"
      ]
     },
     "execution_count": 7,
     "metadata": {},
     "output_type": "execute_result"
    }
   ],
   "source": [
    "nlcd_trees.rio.crs"
   ]
  },
  {
   "cell_type": "code",
   "execution_count": null,
   "id": "5fc87f55-69ee-4480-be21-95a2919b0e69",
   "metadata": {},
   "outputs": [],
   "source": [
    "# Crop NLCD tree canopy raster data by CalEnviroScreen4.0 for San Bernardino and Riverside counties \n",
    "nlcd_IE = nlcd_trees.rio.clip(esGdf_InlandEmpire.geometry.apply(mapping),\n",
    "                                      # This is needed if your GDF is in a diff CRS than the raster data\n",
    "                                     esGdf_InlandEmpire.crs)"
   ]
  },
  {
   "cell_type": "markdown",
   "id": "be85690e-2610-401a-bb0f-c60453a72ebb",
   "metadata": {},
   "source": [
    "# Joining Data Sources and Preparing for Modeling"
   ]
  },
  {
   "cell_type": "code",
   "execution_count": 1,
   "id": "582cba0d-d655-4795-ae2f-65838beeaeb9",
   "metadata": {},
   "outputs": [],
   "source": [
    "from functools import reduce"
   ]
  },
  {
   "cell_type": "code",
   "execution_count": 49,
   "id": "8af5f18f-a2cd-4747-b99f-3060e76e77fc",
   "metadata": {},
   "outputs": [],
   "source": [
    "# Create list of all dataframes/Series to join \n",
    "dfs= [esGdf_InlandEmpire, censusDf_IE, hamfiDfIE, CHATIE_maxtemp, acdata_IE, snap_dataIE]\n",
    "# Perform join of all datasets by GEOID as index\n",
    "total_variables = dfs[0].join(dfs[1:])"
   ]
  },
  {
   "cell_type": "code",
   "execution_count": 52,
   "id": "ef4d328b-4040-4836-856b-6e41659df666",
   "metadata": {},
   "outputs": [],
   "source": [
    "# Drop all non-relevant columns, the remaining columns are the variables for the ML model\n",
    "total_variables= total_variables.drop(labels=['Tract', 'County', 'ApproxLoc', 'TotPop19', 'Shape_Leng', 'Shape_Area','geometry', 'state', 'county', 'tract', 'NAME',], axis=1)"
   ]
  },
  {
   "cell_type": "code",
   "execution_count": null,
   "id": "7a77a564-544a-4771-966f-dfa8c178eba5",
   "metadata": {},
   "outputs": [],
   "source": []
  }
 ],
 "metadata": {
  "kernelspec": {
   "display_name": "Python 3 (ipykernel)",
   "language": "python",
   "name": "python3"
  },
  "language_info": {
   "codemirror_mode": {
    "name": "ipython",
    "version": 3
   },
   "file_extension": ".py",
   "mimetype": "text/x-python",
   "name": "python",
   "nbconvert_exporter": "python",
   "pygments_lexer": "ipython3",
   "version": "3.10.10"
  }
 },
 "nbformat": 4,
 "nbformat_minor": 5
}
