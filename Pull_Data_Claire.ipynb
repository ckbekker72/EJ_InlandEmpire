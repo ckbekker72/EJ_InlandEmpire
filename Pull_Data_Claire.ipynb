{
 "cells": [
  {
   "cell_type": "markdown",
   "id": "5d98ed84-787f-4d25-b01a-83e4ccbc088a",
   "metadata": {},
   "source": [
    "# Data Wrangling: Getting and Cleaning Data, Creating Variables, and Preparing for Joins"
   ]
  },
  {
   "cell_type": "markdown",
   "id": "5092b18a-6e0c-4101-bf2d-8206f4628e3d",
   "metadata": {
    "tags": []
   },
   "source": [
    "## CalEnviroScreen4.0"
   ]
  },
  {
   "cell_type": "markdown",
   "id": "d4b4accf-a75a-4f76-9faf-1b30efb58253",
   "metadata": {},
   "source": [
    "Load data from CalEnviroScreen4.0"
   ]
  },
  {
   "cell_type": "code",
   "execution_count": 1,
   "id": "6b061fee-455d-4174-bab1-253ea31b0de1",
   "metadata": {},
   "outputs": [],
   "source": [
    "# Import os to change directory\n",
    "import os\n",
    "# Import pandas \n",
    "import pandas as pd\n",
    "# Import geopandas\n",
    "import geopandas as gpd\n",
    "# Import numpy\n",
    "import numpy as np\n",
    "# Get mapping to crop raster with shapefile\n",
    "from shapely.geometry import mapping\n",
    "# Importing excel reader\n",
    "import openpyxl"
   ]
  },
  {
   "cell_type": "code",
   "execution_count": 2,
   "id": "1a2e73f7-f84f-4a06-8b5b-1f845bb80745",
   "metadata": {},
   "outputs": [],
   "source": [
    "# Change directory to location of CalEnviroScreen data\n",
    "os.chdir('Data/CalEnviroScreen')"
   ]
  },
  {
   "cell_type": "code",
   "execution_count": 5,
   "id": "a1782e47-90d7-4741-8b1a-70069d133354",
   "metadata": {
    "tags": []
   },
   "outputs": [],
   "source": [
    "# Load in CalEnviroScreen Data\n",
    "esGdf = gpd.read_file('CES4 Final Shapefile.shp')"
   ]
  },
  {
   "cell_type": "code",
   "execution_count": 6,
   "id": "5226599e-abab-422e-82f9-9fffd0295489",
   "metadata": {},
   "outputs": [],
   "source": [
    "# Restrict census tracts to Riverside and San Bernardino Counties\n",
    "esGdf_InlandEmpire = esGdf[esGdf['County'].isin(['Riverside', 'San Bernardino'])]"
   ]
  },
  {
   "cell_type": "code",
   "execution_count": 7,
   "id": "215ada67-da13-43c7-80c3-86ac2477c59e",
   "metadata": {},
   "outputs": [
    {
     "name": "stderr",
     "output_type": "stream",
     "text": [
      "/Users/clairebekker/anaconda3/envs/uds/lib/python3.10/site-packages/geopandas/geodataframe.py:1443: SettingWithCopyWarning: \n",
      "A value is trying to be set on a copy of a slice from a DataFrame.\n",
      "Try using .loc[row_indexer,col_indexer] = value instead\n",
      "\n",
      "See the caveats in the documentation: https://pandas.pydata.org/pandas-docs/stable/user_guide/indexing.html#returning-a-view-versus-a-copy\n",
      "  super().__setitem__(key, value)\n"
     ]
    }
   ],
   "source": [
    "# Define disadvantaged communities as those with CalEnviroScreen score percentile ≥ 75\n",
    "esGdf_InlandEmpire['CalEnviroScreen_EJ'] = esGdf_InlandEmpire['CIscoreP'].apply(lambda x: True if x >= 75 else False) "
   ]
  },
  {
   "cell_type": "code",
   "execution_count": 10,
   "id": "6cb5d893-cb82-423b-81f9-0d6e2e3efa4b",
   "metadata": {},
   "outputs": [],
   "source": [
    "#esGdf_InlandEmpire.columns"
   ]
  },
  {
   "cell_type": "code",
   "execution_count": 11,
   "id": "a83e0b81-c927-4267-a102-db7879d99ac4",
   "metadata": {},
   "outputs": [],
   "source": [
    "# Use only raw scores as x-variables\n",
    "# List comprehension to exclude percentile columns and scores\n",
    "cols_to_exclude = [col for col in esGdf_InlandEmpire.columns if col.endswith('P') or col.endswith('score') or col.endswith('Sc')\n",
    "                   or col=='PollBurd' or col=='PopChar']\n",
    "esGdf_InlandEmpire_rawscores = [col for col in esGdf_InlandEmpire.columns if col not in cols_to_exclude]\n",
    "\n",
    "# Subset dataframe to only include raw scores\n",
    "esGdf_InlandEmpire= esGdf_InlandEmpire[esGdf_InlandEmpire_rawscores]\n",
    "\n",
    "# Edit tract number to match the GEOID in other datasets\n",
    "esGdf_InlandEmpire['GEOID'] = esGdf_InlandEmpire.Tract.astype(np.int64).astype(str).str.zfill(11)\n",
    "\n",
    "# Set GEOID as index to join with other datasets\n",
    "esGdf_InlandEmpire.set_index('GEOID', inplace=True)"
   ]
  },
  {
   "cell_type": "markdown",
   "id": "6f1d395f-380f-40f4-be24-a965e71ab939",
   "metadata": {},
   "source": [
    "## American Community Survey (2019)"
   ]
  },
  {
   "cell_type": "markdown",
   "id": "d08c1331-dd9b-4965-bf86-e2d61eca7e9c",
   "metadata": {},
   "source": [
    "Use API connection to get data from 2019 American Community Survey (ACS) "
   ]
  },
  {
   "cell_type": "code",
   "execution_count": 12,
   "id": "855d45af-a566-4ef0-aa9d-f8b734f5b065",
   "metadata": {},
   "outputs": [],
   "source": [
    "import cenpy\n",
    "from cenpy import products\n",
    "# create a connection to the American Community Survey\n",
    "acs = cenpy.products.ACS()"
   ]
  },
  {
   "cell_type": "code",
   "execution_count": 14,
   "id": "2a3c15e8-e3b0-4aa1-8c50-87df637d9f94",
   "metadata": {},
   "outputs": [],
   "source": [
    "census_var = ['B01001_001E', 'B01001_003E', 'B01001_027E', 'B01001_044E', 'B01001_045E', 'B01001_046E', 'B01001_047E', 'B01001_048E', 'B01001_049E', 'B01001_020E', 'B01001_021E', 'B01001_022E', 'B01001_023E', 'B01001_024E', 'B01001_025E',\n",
    "              'B19013_001E', 'B14005_001E', 'B14005_007E', 'B14005_021E', 'B28002_002E', 'B25040_010E', 'B25040_001E', 'B25014_001E', 'B25014_005E', 'B25014_006E', 'B25014_007E', 'B25014_011E', 'B25014_012E', 'B25014_013E', 'B02001_002E', \n",
    "              'C18108_001E', 'C18108_003E', 'C18108_004E', 'C18108_007E','C18108_008E', 'C18108_011E', 'C18108_012E', 'B28002_001E', 'B28002_012E', 'B28002_013E', 'B25014H_003E', 'B25044_001E', 'B25044_003E', 'B25044_010E', 'B25044_004E', 'B25044_011E', \n",
    "              'B08301_001E', 'B08301_019E', 'B08301_018E', 'B08303_013E', 'B08303_001E'] \n",
    "# Total Population (used to scale for percentages): B01001_001E\n",
    "# Estimate!!Total:!!White alone = B02001_002E\n",
    "# Male under 5= B01001_003E, Female under 5= B01001_027E, \n",
    "# Older populations: Estimate!!Total:!!Female:!!65 and older = B01001_044E, B01001_045E, B01001_046E, B01001_047E, B01001_048E, B01001_049E\n",
    "# Estimate!!Total:!!Male:!!65 and older = B01001_020E, B01001_021E, B01001_022E, B01001_023E, B01001_024E, B01001_025E,\n",
    "# Median Household Income = B19013_001E,  \n",
    "# Estimate!!Total:!!Male:!!Not Enrolled in school: SEX BY SCHOOL ENROLLMENT BY EDUCATIONAL ATTAINMENT BY EMPLOYMENT STATUS FOR THE POPULATION 16 TO 19 YEARS = B14005_007E,\n",
    "# Estimate!!Total:!!Female:!!Not enrolled in school: SEX BY SCHOOL ENROLLMENT BY EDUCATIONAL ATTAINMENT BY EMPLOYMENT STATUS FOR THE POPULATION 16 TO 19 YEARS = B14005_021E, \n",
    "# Estimate!!Total: SEX BY SCHOOL ENROLLMENT BY EDUCATIONAL ATTAINMENT BY EMPLOYMENT STATUS FOR THE POPULATION 16 TO 19 YEARS = B14005_001E, \n",
    "# Estimate!!Total:!!No Internet access = B28002_013E,\n",
    "# Estimate!!Total:!!Internet access without a subscription = B28002_012E,\n",
    "# Estimate!!Total: PRESENCE AND TYPES OF INTERNET SUBSCRIPTIONS IN HOUSEHOLD = B28002_001E,\n",
    "# Estimate!!Total:!!Under 18 years:!!With one type of disability = C18108_003E\n",
    "# Estimate!!Total:!!Under 18 years:!!With one type of disability = C18108_004E\n",
    "# Estimate!!Total:!!18 to 64 years!!With one type of disability = C18108_007E\n",
    "# Estimate!!Total:!!18 to 64 years:!!With two or more disabilities = C18108_008E \n",
    "# Estimate!!Total:!!65 years and over:!!With one type of disability = C18108_011E\n",
    "# Estimate!!Total:!!65 years and over:!!With two or more disabilities = C18108_012E\n",
    "# Estimate!!Total!! AGE BY NUMBER OF DISABILITIES= C18108_001E\n",
    "# Estimate!!Total:!!No Internet access = B28002_013E\n",
    "# Estimate!!Total:!!1.01 or more occupants per room = B25014H_003E\n",
    "# Estimate!!Total!!Owner occupied!!No vehicle available = B25044_003E \n",
    "# Estimate!!Total!!Renter occupied!!No vehicle available = B25044_010E\n",
    "# Estimate!!Total!!Owner occupied!!1 vehicle available = B25044_004E\n",
    "# Estimate!!Total!!Renter occupied!!1 vehicle available = B25044_011E\n",
    "# Estimate!!Total: TENURE BY VEHICLES AVAILABLE = B25044_001E\n",
    "# Estimate!!Total!! means of transportation to work = B08301_001E\n",
    "# Estimate!!Total!!Walked = B08301_019E\n",
    "# Estimate!!Total!!Bicycle = B08301_018E\n",
    "# Estimate!!Total:!!90 or more minutes time to travel to work = B08303_013E\n",
    "# Estimate!!Total: TRAVEL TIME TO WORK = B08303_001E \n",
    "# Estimate!!Total:!!No fuel used = B25040_010E \n",
    "# Estimate!!Total: HOUSE HEATING FUEL = B25040_001E \n",
    "# Estimate!!Total:!!Owner occupied:!!1.01 to 1.50 occupants per room = B25014_005E, \n",
    "# Estimate!!Total:!!Owner occupied:!!1.51 to 2.00 occupants per room = B25014_006E,\n",
    "# Estimate!!Total:!!Owner occupied:!!2.01 or more occupants per room = B25014_007E, \n",
    "# Estimate!!Total:!!Renter occupied:!!1.01 to 1.50 occupants per room = B25014_011E,\n",
    "# Estimate!!Total:!!Renter occupied:!!1.51 to 2.00 occupants per room = B25014_012E,\n",
    "# Estimate!!Total:!!Renter occupied:!!2.01 or more occupants per room = B25014_013E, \n",
    "# Estimate!!Total: TENURE BY OCCUPANTS PER ROOM = B25014_001E"
   ]
  },
  {
   "cell_type": "code",
   "execution_count": 15,
   "id": "d1077770-1753-4677-b5d6-1c9422d2e1be",
   "metadata": {},
   "outputs": [
    {
     "name": "stderr",
     "output_type": "stream",
     "text": [
      "/Users/clairebekker/anaconda3/envs/uds/lib/python3.10/site-packages/cenpy/products.py:762: FutureWarning: The `op` parameter is deprecated and will be removed in a future release. Please use the `predicate` parameter instead.\n",
      "  return self._from_name(county, variables, level, \"Counties\", **kwargs)\n",
      "/Users/clairebekker/anaconda3/envs/uds/lib/python3.10/site-packages/cenpy/products.py:762: FutureWarning: The `op` parameter is deprecated and will be removed in a future release. Please use the `predicate` parameter instead.\n",
      "  return self._from_name(county, variables, level, \"Counties\", **kwargs)\n"
     ]
    }
   ],
   "source": [
    "# Get 2019 ACS for Riverside and San Bernardino counties\n",
    "censusDf_Riverside = products.ACS(2019).from_county('Riverside, CA', level='tract',\n",
    "                                        variables=census_var)\n",
    "censusDf_San_Bernardino = products.ACS(2019).from_county('San Bernardino, CA', level='tract',\n",
    "                                        variables=census_var)"
   ]
  },
  {
   "cell_type": "code",
   "execution_count": 17,
   "id": "94771c79-06eb-4a8b-a7ce-0cfa414a6525",
   "metadata": {},
   "outputs": [],
   "source": [
    "censusDf_IE = pd.concat((censusDf_Riverside, censusDf_San_Bernardino), axis=0)"
   ]
  },
  {
   "cell_type": "code",
   "execution_count": 18,
   "id": "976a7a75-81d6-4353-8caf-8e5ceafd52b9",
   "metadata": {},
   "outputs": [],
   "source": [
    "# Race\n",
    "censusDf_IE['pct_POC'] = ((censusDf_IE['B01001_001E'] - censusDf_IE['B02001_002E'])/censusDf_IE['B01001_001E'])*100 # (total population - white alone)/total population * 100\n",
    "\n",
    "## SOCIOECONOMIC VULNERABILITY FACTORS ##\n",
    "## Age\n",
    "censusDf_IE['pct_youngchild'] = ((censusDf_IE['B01001_003E'] + censusDf_IE['B01001_027E'])/censusDf_IE['B01001_001E'])*100 # male under 5 + female under 5, divided by total population\n",
    "older_pop = ['B01001_044E', 'B01001_045E', 'B01001_046E', 'B01001_047E', 'B01001_048E', 'B01001_049E', 'B01001_020E', 'B01001_021E', 'B01001_022E', 'B01001_023E', 'B01001_024E', 'B01001_025E'] # All variables for male and female populations greater than 65\n",
    "censusDf_IE['pct_older'] = (censusDf_IE[older_pop].sum(axis=1)/censusDf_IE['B01001_001E'])*100 # Sum all counts of people 65+/total population\n",
    "## Disability\n",
    "disability= ['C18108_003E', 'C18108_004E', 'C18108_007E','C18108_008E', 'C18108_011E', 'C18108_012E']\n",
    "censusDf_IE['pct_disability'] = (censusDf_IE[disability].sum(axis=1)/censusDf_IE['C18108_001E'])*100 # sum number of estimated total of people in each range with one or more disabilities, divide by total polled population\n",
    "# Median Household Income\n",
    "censusDf_IE['med_income']= censusDf_IE['B19013_001E']\n",
    "# Disconnected Youth (16-19 year olds not in school) \n",
    "censusDf_IE['pct_disconnectedyouth']= ((censusDf_IE['B14005_007E'] + censusDf_IE['B14005_021E'])/censusDf_IE['B14005_001E'])*100 # sum number of 16-19 males and females not enrolled in school/population of 16-19 year olds\n",
    "# Internet Access (percentage of households without internet subscription)\n",
    "censusDf_IE['pct_woutinternet'] = ((censusDf_IE['B28002_013E'] + censusDf_IE['B28002_012E'])/censusDf_IE['B28002_001E'])*100 # number of households without any internet or internet subscription/total number of households polled"
   ]
  },
  {
   "cell_type": "code",
   "execution_count": 19,
   "id": "3315702d-8421-4148-9661-1ac3db1f129c",
   "metadata": {},
   "outputs": [],
   "source": [
    "## TRANSPORTION ##   \n",
    "# Vehicle ownership \n",
    "vehicles = ['B25044_003E', 'B25044_010E', 'B25044_004E', 'B25044_011E'] # all owner-occupied (0 or 1 cars) and rental (0 or 1 cars)                                     \n",
    "censusDf_IE['pct_lessthan2vehicles'] = ((censusDf_IE[vehicles].sum(axis=1))/censusDf_IE['B25044_001E'])*100 # sum number of owner-occupied or rental households with 0 or 1 cars/total households polled\n",
    "# Active Commute\n",
    "censusDf_IE['pct_activecommute'] = ((censusDf_IE['B08301_019E'] + censusDf_IE['B08301_018E'])/censusDf_IE['B08301_001E'])*100 # sum of walking and biking commuters/total number of commuters \n",
    "# Extreme Commutes \n",
    "censusDf_IE['pct_extremecommute'] = (censusDf_IE['B08303_013E']/censusDf_IE['B08303_001E'])*100 # proportion of commuters traveling 90+ minutes"
   ]
  },
  {
   "cell_type": "code",
   "execution_count": 20,
   "id": "979705ac-c720-454d-9ab5-1e8b112de1c7",
   "metadata": {},
   "outputs": [],
   "source": [
    "## HOUSING ##\n",
    "# House Heating\n",
    "censusDf_IE['pct_nofuel']= (censusDf_IE['B25040_010E']/censusDf_IE['B25040_001E'])*100 # number of households with no heating fuel/total households\n",
    "# Overcrowding\n",
    "occupants = ['B25014_005E', 'B25014_006E', 'B25014_007E', 'B25014_011E', 'B25014_012E', 'B25014_013E'] # owner and rent-occupied 1+ people per room \n",
    "censusDf_IE['pct_1+occupants']= (censusDf_IE[occupants].sum(axis=1)/censusDf_IE['B25014_001E'])*100 # sum of households with 1+ people per room/total households"
   ]
  },
  {
   "cell_type": "code",
   "execution_count": 21,
   "id": "5d5c0b00-7ff0-403d-ac9b-4275561bc6e4",
   "metadata": {},
   "outputs": [],
   "source": [
    "#pd.set_option('display.max_colwidth', 50)\n",
    "#censusDf_IE.head()"
   ]
  },
  {
   "cell_type": "code",
   "execution_count": 22,
   "id": "3942733d-1732-48d8-a270-f57474858714",
   "metadata": {},
   "outputs": [],
   "source": [
    "# Drop all of the ACS variable names and keep variables we created \n",
    "censusDf_IE =censusDf_IE.drop(labels=['geometry','B01001_001E', 'B01001_003E', 'B01001_027E', 'B01001_044E', 'B01001_045E', 'B01001_046E', 'B01001_047E', 'B01001_048E', 'B01001_049E', 'B01001_020E', 'B01001_021E', 'B01001_022E', 'B01001_023E', 'B01001_024E', 'B01001_025E',\n",
    "              'B19013_001E', 'B14005_001E', 'B14005_007E', 'B14005_021E', 'B28002_002E', 'B25040_010E', 'B25040_001E', 'B25014_001E', 'B25014_005E', 'B25014_006E', 'B25014_007E', 'B25014_011E', 'B25014_012E', 'B25014_013E', 'B02001_002E', \n",
    "              'C18108_001E', 'C18108_003E', 'C18108_004E', 'C18108_007E','C18108_008E', 'C18108_011E', 'C18108_012E', 'B28002_001E', 'B28002_012E', 'B28002_013E', 'B25014H_003E', 'B25044_001E', 'B25044_003E', 'B25044_010E', 'B25044_004E', 'B25044_011E', \n",
    "              'B08301_001E', 'B08301_019E', 'B08301_018E', 'B08303_013E', 'B08303_001E'], axis=1)"
   ]
  },
  {
   "cell_type": "code",
   "execution_count": 23,
   "id": "1ef663de-fb17-4952-896d-97c592844925",
   "metadata": {},
   "outputs": [],
   "source": [
    "# Set index as GEOID to use for joining datasets \n",
    "censusDf_IE.set_index('GEOID', inplace=True)"
   ]
  },
  {
   "cell_type": "markdown",
   "id": "cedbcbac-0a05-4785-b825-26001c42ae53",
   "metadata": {},
   "source": [
    "## US Dept. of Housing and Urban Development (HUD)\n"
   ]
  },
  {
   "cell_type": "markdown",
   "id": "7fc26374-4c35-43a0-a3aa-2382725549a1",
   "metadata": {},
   "source": [
    "Pull in the data from HUD Comprehensive Housing Affordability Strategy (CHAS) 2015-2019\n"
   ]
  },
  {
   "cell_type": "code",
   "execution_count": 24,
   "id": "29ee0393-efab-4b2b-b522-08a75f95028d",
   "metadata": {},
   "outputs": [],
   "source": [
    "os.chdir('../HUD CHAS')\n",
    "hamfiDf = pd.read_csv('Table16.csv')\n",
    "len(hamfiDf)\n",
    "\n",
    "# Select HUD CHAS data for census tracts in the IE\n",
    "hamfiDfIE = hamfiDf[hamfiDf['name'].str.contains(\"Riverside\")|hamfiDf['name'].str.contains(\"San Bernardino\")].reset_index()"
   ]
  },
  {
   "cell_type": "markdown",
   "id": "64023512-a5ec-4244-9bef-a8a4fc615b47",
   "metadata": {},
   "source": [
    "Calculate percentage of households per tract that make 30% or less than the HUD Area Median Family Income (HAMFI)."
   ]
  },
  {
   "cell_type": "code",
   "execution_count": 25,
   "id": "b53b45ff-8933-4952-b120-5da8bbbda033",
   "metadata": {},
   "outputs": [],
   "source": [
    "# Identify percentage of households per tract that make 30% or less than the HUD Area Median Family Income (HAMFI).\n",
    "hamfiDfIE['HAMFI30'] = ((hamfiDf['T16_est3'] + hamfiDf['T16_est88'])/hamfiDf['T16_est1'])*100\n",
    "#hamfiDfIE.head()\n",
    "\n",
    "# Get GEOID for HUD Area Median Family Income data \n",
    "hamfiDfIE['GEOID'] = hamfiDfIE['geoid'].str[7:]\n",
    "\n",
    "# Subset dataframe to only include columns of interest\n",
    "hamfiDfIE= hamfiDfIE[['GEOID', 'HAMFI30']]\n",
    "\n",
    "# Set GEOID as index \n",
    "hamfiDfIE.set_index('GEOID', inplace=True)\n",
    "\n",
    "# Add name to HAMFI series so it can be joined with dataframes\n",
    "hamfiDfIE.name = 'HAMFI'"
   ]
  },
  {
   "cell_type": "markdown",
   "id": "c19e8e28-22b3-475f-829e-50dab3e546fe",
   "metadata": {},
   "source": [
    "## California Natural Resources Agency (CNRA) "
   ]
  },
  {
   "cell_type": "markdown",
   "id": "14e9e89e-dc89-4b5c-aad8-ff7aec1012d9",
   "metadata": {},
   "source": [
    "Pull in the California Natural Resources Agency (CNRA) California\n",
    "Heat Assessment Tool (CHAT) 2015 data"
   ]
  },
  {
   "cell_type": "code",
   "execution_count": 26,
   "id": "b9806c02-1a64-4508-8772-7b3eeacfb2b6",
   "metadata": {},
   "outputs": [],
   "source": [
    "os.chdir('../CHAT')\n",
    "CHATRiversideDf = pd.read_csv('CHAT-Riverside County-projected.csv')\n",
    "CHATSBDf = pd.read_csv('CHAT-San Bernardino County-projected.csv')\n",
    "\n",
    "# Concatenate Riverside and San Bernardino Data\n",
    "CHATIE = pd.concat((CHATRiversideDf, CHATSBDf), axis=0)"
   ]
  },
  {
   "cell_type": "markdown",
   "id": "65a7ed3f-448a-4241-b68a-c4092ec32404",
   "metadata": {},
   "source": [
    "Select time frame as 2021-2040 and time of year as June, July, and August for general population for the 50th percentile of models.  "
   ]
  },
  {
   "cell_type": "code",
   "execution_count": 27,
   "id": "9ed7de5e-eca3-4f27-a105-25c4b8f84ae8",
   "metadata": {},
   "outputs": [
    {
     "name": "stderr",
     "output_type": "stream",
     "text": [
      "/var/folders/bt/zz9p33b12m55w8szgpmyprmr0000gn/T/ipykernel_95332/555908632.py:4: SettingWithCopyWarning: \n",
      "A value is trying to be set on a copy of a slice from a DataFrame.\n",
      "Try using .loc[row_indexer,col_indexer] = value instead\n",
      "\n",
      "See the caveats in the documentation: https://pandas.pydata.org/pandas-docs/stable/user_guide/indexing.html#returning-a-view-versus-a-copy\n",
      "  CHATIE_selected['GEOID'] = CHATIE_selected['geoid_long'].str[9:]\n"
     ]
    }
   ],
   "source": [
    "CHATIE_selected= CHATIE[(CHATIE['projections_time_frame'] == '2021-2040') & (CHATIE['rcp']== 'rcp45') & (CHATIE['socioeconomic_group'] == 'General') & (CHATIE['time_of_year']=='JJA') & (CHATIE['model_percentiles'] == 50)]\n",
    "\n",
    "# Get GEOID for CHAT  \n",
    "CHATIE_selected['GEOID'] = CHATIE_selected['geoid_long'].str[9:]\n",
    "\n",
    "# Select Heat Health Events Max Temperature\n",
    "CHATIE_maxtemp = CHATIE_selected[['proj_avg_tmax', 'GEOID']]\n",
    "\n",
    "# Set GEOID as index to join with other datasets\n",
    "CHATIE_maxtemp.set_index('GEOID', inplace=True)\n",
    "\n",
    "# Add name to CHAT series so it can be joined with dataframes\n",
    "CHATIE_maxtemp.name = 'Max_Temp'"
   ]
  },
  {
   "cell_type": "markdown",
   "id": "6873690c-93f0-44f8-b592-135840be1204",
   "metadata": {},
   "source": [
    "## Romitti et al. 2022: Probability of Residential Air Conditioning"
   ]
  },
  {
   "cell_type": "markdown",
   "id": "250725dd-7fec-4098-abac-2b8df2531389",
   "metadata": {},
   "source": [
    " Load data for probability of residential air conditioning from Romitti et al. csv"
   ]
  },
  {
   "cell_type": "code",
   "execution_count": 28,
   "id": "0aa608ce-b982-4961-83dc-c4473398e768",
   "metadata": {},
   "outputs": [],
   "source": [
    "# Change directory and read in data\n",
    "os.chdir('../AC')\n",
    "ac_data = pd.read_csv('US_metro_ac_prob-1.csv')\n",
    "\n",
    "# Restrict Census Tracts to Riverside and San Bernardino\n",
    "acdata_IE= ac_data[ac_data['NAME'].str.contains(\"Riverside\")|ac_data['NAME'].str.contains(\"San Bernardino\")].reset_index()\n",
    "\n",
    "# Take the inverse of the AC probability to use as a vulnerability metric\n",
    "acdata_IE['inverse_ac_prob']= 1/acdata_IE['ac_prob']\n",
    "\n",
    "# Add leading zero to TRACT_GEOID column to match the other GEOID codes \n",
    "acdata_IE['TRACT_GEOID']= acdata_IE.TRACT_GEOID.astype(str).str.zfill(11)\n",
    "\n",
    "# Select TRACT_GEOID and inverse of AC probability as relevant variables\n",
    "acdata_IE=acdata_IE[['TRACT_GEOID', 'inverse_ac_prob']]\n",
    "\n",
    "# Set TRACT_GEOID as index\n",
    "acdata_IE.set_index('TRACT_GEOID', inplace=True)\n",
    "\n",
    "# Add name to AC data series so it can be joined with dataframes\n",
    "acdata_IE.name = 'AC_Data'"
   ]
  },
  {
   "cell_type": "markdown",
   "id": "89f33ef2-7cba-4e63-baa5-0c5554dd8f69",
   "metadata": {
    "tags": []
   },
   "source": [
    "## USDA: Food Access Research Atlas 2019\n"
   ]
  },
  {
   "cell_type": "markdown",
   "id": "74d176b2-5e0d-4213-9ee3-7cd755f7b740",
   "metadata": {},
   "source": [
    "Load the Data from the Food Access Research Atlas and "
   ]
  },
  {
   "cell_type": "code",
   "execution_count": 29,
   "id": "24c51fee-dd09-4f7a-8879-43ab18b956f2",
   "metadata": {},
   "outputs": [
    {
     "name": "stderr",
     "output_type": "stream",
     "text": [
      "/var/folders/bt/zz9p33b12m55w8szgpmyprmr0000gn/T/ipykernel_95332/1298737373.py:11: SettingWithCopyWarning: \n",
      "A value is trying to be set on a copy of a slice from a DataFrame.\n",
      "Try using .loc[row_indexer,col_indexer] = value instead\n",
      "\n",
      "See the caveats in the documentation: https://pandas.pydata.org/pandas-docs/stable/user_guide/indexing.html#returning-a-view-versus-a-copy\n",
      "  snap_dataIE['pct_SNAP']= (snap_dataIE['TractSNAP']/snap_dataIE['OHU2010'])*100\n"
     ]
    }
   ],
   "source": [
    "os.chdir('../Food_Access')\n",
    "\n",
    "# Load Workbook for Food Access Research Atlas and get data worksheet\n",
    "food_access = pd.ExcelFile('FoodAccessResearchAtlasData2019.xlsx')\n",
    "snap_data = pd.read_excel(food_access, 'Food Access Research Atlas')\n",
    "\n",
    "# Select Riverside and San Bernardino counties \n",
    "snap_dataIE= snap_data[snap_data['County'].isin(['Riverside County', 'San Bernardino County'])]\n",
    "\n",
    "# Create variable for percent of households receiving SNAP\n",
    "snap_dataIE['pct_SNAP']= (snap_dataIE['TractSNAP']/snap_dataIE['OHU2010'])*100\n",
    "\n",
    "# Subset the dataframe to include relevant columns\n",
    "snap_dataIE= snap_dataIE[['CensusTract', 'pct_SNAP']]\n",
    "\n",
    "# Add leading zero to TRACT_GEOID column to match the other GEOID codes \n",
    "snap_dataIE['CensusTract']= snap_dataIE.CensusTract.astype(str).str.zfill(11)\n",
    "\n",
    "# Set TRACT_GEOID as index\n",
    "snap_dataIE.set_index('CensusTract', inplace=True)\n",
    "\n",
    "# Add name to SNAP data series so it can be joined with dataframes\n",
    "snap_dataIE.name = 'SNAP_usage'"
   ]
  },
  {
   "cell_type": "markdown",
   "id": "10e8a587-a5ab-476e-84aa-274716c6fc51",
   "metadata": {},
   "source": [
    "## NLCD 2019 (Tree Canopy Coverage 2019)"
   ]
  },
  {
   "cell_type": "code",
   "execution_count": 6,
   "id": "eeb9d789-2934-418b-a1fa-8efc9de60d79",
   "metadata": {},
   "outputs": [],
   "source": [
    "# Load geotiff of Tree Canopy Coverage \n",
    "# for 30m resolution \n",
    "import rasterio\n",
    "import rioxarray as rxr\n",
    "os.chdir('../NLCD')\n",
    "nlcd_trees= rxr.open_rasterio('nlcd_tcc_CONUS_2019_v2021-4/nlcd_tcc_conus_2019_v2021-4.tif')"
   ]
  },
  {
   "cell_type": "code",
   "execution_count": 7,
   "id": "6824d823-357a-4079-ae61-fe31b99b84b3",
   "metadata": {
    "tags": []
   },
   "outputs": [
    {
     "data": {
      "text/plain": [
       "CRS.from_epsg(5070)"
      ]
     },
     "execution_count": 7,
     "metadata": {},
     "output_type": "execute_result"
    }
   ],
   "source": [
    "nlcd_trees.rio.crs"
   ]
  },
  {
   "cell_type": "code",
   "execution_count": null,
   "id": "5fc87f55-69ee-4480-be21-95a2919b0e69",
   "metadata": {},
   "outputs": [],
   "source": [
    "# Crop NLCD tree canopy raster data by CalEnviroScreen4.0 for San Bernardino and Riverside counties \n",
    "nlcd_IE = nlcd_trees.rio.clip(esGdf_InlandEmpire.geometry.apply(mapping),\n",
    "                                      # This is needed if your GDF is in a diff CRS than the raster data\n",
    "                                     esGdf_InlandEmpire.crs)"
   ]
  },
  {
   "cell_type": "markdown",
   "id": "be85690e-2610-401a-bb0f-c60453a72ebb",
   "metadata": {},
   "source": [
    "# Joining Data Sources and Preparing for Modeling"
   ]
  },
  {
   "cell_type": "code",
   "execution_count": 30,
   "id": "8af5f18f-a2cd-4747-b99f-3060e76e77fc",
   "metadata": {},
   "outputs": [],
   "source": [
    "# Create list of all dataframes/Series to join \n",
    "dfs= [esGdf_InlandEmpire, censusDf_IE, hamfiDfIE, CHATIE_maxtemp, acdata_IE, snap_dataIE]\n",
    "# Perform join of all datasets by GEOID as index\n",
    "total_variables = dfs[0].join(dfs[1:])"
   ]
  },
  {
   "cell_type": "code",
   "execution_count": 61,
   "id": "5b336d85-fcd9-4f7f-90a1-7af9c3ffac6c",
   "metadata": {},
   "outputs": [
    {
     "data": {
      "text/html": [
       "<div>\n",
       "<style scoped>\n",
       "    .dataframe tbody tr th:only-of-type {\n",
       "        vertical-align: middle;\n",
       "    }\n",
       "\n",
       "    .dataframe tbody tr th {\n",
       "        vertical-align: top;\n",
       "    }\n",
       "\n",
       "    .dataframe thead th {\n",
       "        text-align: right;\n",
       "    }\n",
       "</style>\n",
       "<table border=\"1\" class=\"dataframe\">\n",
       "  <thead>\n",
       "    <tr style=\"text-align: right;\">\n",
       "      <th></th>\n",
       "      <th>Hispanic</th>\n",
       "      <th>White</th>\n",
       "      <th>AfricanAm</th>\n",
       "      <th>NativeAm</th>\n",
       "      <th>OtherMult</th>\n",
       "      <th>AAPI</th>\n",
       "      <th>pct_POC</th>\n",
       "    </tr>\n",
       "    <tr>\n",
       "      <th>GEOID</th>\n",
       "      <th></th>\n",
       "      <th></th>\n",
       "      <th></th>\n",
       "      <th></th>\n",
       "      <th></th>\n",
       "      <th></th>\n",
       "      <th></th>\n",
       "    </tr>\n",
       "  </thead>\n",
       "  <tbody>\n",
       "    <tr>\n",
       "      <th>06071009908</th>\n",
       "      <td>53.5374</td>\n",
       "      <td>31.0047</td>\n",
       "      <td>11.6656</td>\n",
       "      <td>0.0000</td>\n",
       "      <td>1.5746</td>\n",
       "      <td>2.2178</td>\n",
       "      <td>23.331116</td>\n",
       "    </tr>\n",
       "    <tr>\n",
       "      <th>06071009910</th>\n",
       "      <td>61.5621</td>\n",
       "      <td>22.5432</td>\n",
       "      <td>10.2547</td>\n",
       "      <td>0.0000</td>\n",
       "      <td>2.8200</td>\n",
       "      <td>2.8200</td>\n",
       "      <td>25.602461</td>\n",
       "    </tr>\n",
       "    <tr>\n",
       "      <th>06071009118</th>\n",
       "      <td>51.7347</td>\n",
       "      <td>25.8836</td>\n",
       "      <td>15.0620</td>\n",
       "      <td>0.0046</td>\n",
       "      <td>3.4601</td>\n",
       "      <td>3.8549</td>\n",
       "      <td>34.039292</td>\n",
       "    </tr>\n",
       "    <tr>\n",
       "      <th>06071009911</th>\n",
       "      <td>56.3211</td>\n",
       "      <td>21.9139</td>\n",
       "      <td>12.0330</td>\n",
       "      <td>0.1218</td>\n",
       "      <td>6.4023</td>\n",
       "      <td>3.2079</td>\n",
       "      <td>29.710341</td>\n",
       "    </tr>\n",
       "    <tr>\n",
       "      <th>06071009906</th>\n",
       "      <td>50.6782</td>\n",
       "      <td>23.9434</td>\n",
       "      <td>15.9033</td>\n",
       "      <td>0.0000</td>\n",
       "      <td>3.0666</td>\n",
       "      <td>6.4085</td>\n",
       "      <td>41.203067</td>\n",
       "    </tr>\n",
       "    <tr>\n",
       "      <th>...</th>\n",
       "      <td>...</td>\n",
       "      <td>...</td>\n",
       "      <td>...</td>\n",
       "      <td>...</td>\n",
       "      <td>...</td>\n",
       "      <td>...</td>\n",
       "      <td>...</td>\n",
       "    </tr>\n",
       "    <tr>\n",
       "      <th>06065043307</th>\n",
       "      <td>38.7788</td>\n",
       "      <td>42.3862</td>\n",
       "      <td>11.7238</td>\n",
       "      <td>0.0000</td>\n",
       "      <td>0.7688</td>\n",
       "      <td>6.3424</td>\n",
       "      <td>25.192194</td>\n",
       "    </tr>\n",
       "    <tr>\n",
       "      <th>06065043313</th>\n",
       "      <td>54.1770</td>\n",
       "      <td>29.7825</td>\n",
       "      <td>6.4261</td>\n",
       "      <td>2.7187</td>\n",
       "      <td>3.4849</td>\n",
       "      <td>3.4108</td>\n",
       "      <td>33.860603</td>\n",
       "    </tr>\n",
       "    <tr>\n",
       "      <th>06065043703</th>\n",
       "      <td>43.3068</td>\n",
       "      <td>48.3307</td>\n",
       "      <td>5.2782</td>\n",
       "      <td>0.1908</td>\n",
       "      <td>1.8124</td>\n",
       "      <td>1.0811</td>\n",
       "      <td>27.090620</td>\n",
       "    </tr>\n",
       "    <tr>\n",
       "      <th>06065043405</th>\n",
       "      <td>52.0389</td>\n",
       "      <td>35.4171</td>\n",
       "      <td>10.8052</td>\n",
       "      <td>0.0000</td>\n",
       "      <td>1.7388</td>\n",
       "      <td>0.0000</td>\n",
       "      <td>25.522666</td>\n",
       "    </tr>\n",
       "    <tr>\n",
       "      <th>06065043306</th>\n",
       "      <td>47.5885</td>\n",
       "      <td>42.5904</td>\n",
       "      <td>2.8977</td>\n",
       "      <td>1.1669</td>\n",
       "      <td>2.7032</td>\n",
       "      <td>3.0533</td>\n",
       "      <td>21.528588</td>\n",
       "    </tr>\n",
       "  </tbody>\n",
       "</table>\n",
       "<p>822 rows × 7 columns</p>\n",
       "</div>"
      ],
      "text/plain": [
       "             Hispanic    White  AfricanAm  NativeAm  OtherMult    AAPI  \\\n",
       "GEOID                                                                    \n",
       "06071009908   53.5374  31.0047    11.6656    0.0000     1.5746  2.2178   \n",
       "06071009910   61.5621  22.5432    10.2547    0.0000     2.8200  2.8200   \n",
       "06071009118   51.7347  25.8836    15.0620    0.0046     3.4601  3.8549   \n",
       "06071009911   56.3211  21.9139    12.0330    0.1218     6.4023  3.2079   \n",
       "06071009906   50.6782  23.9434    15.9033    0.0000     3.0666  6.4085   \n",
       "...               ...      ...        ...       ...        ...     ...   \n",
       "06065043307   38.7788  42.3862    11.7238    0.0000     0.7688  6.3424   \n",
       "06065043313   54.1770  29.7825     6.4261    2.7187     3.4849  3.4108   \n",
       "06065043703   43.3068  48.3307     5.2782    0.1908     1.8124  1.0811   \n",
       "06065043405   52.0389  35.4171    10.8052    0.0000     1.7388  0.0000   \n",
       "06065043306   47.5885  42.5904     2.8977    1.1669     2.7032  3.0533   \n",
       "\n",
       "               pct_POC  \n",
       "GEOID                   \n",
       "06071009908  23.331116  \n",
       "06071009910  25.602461  \n",
       "06071009118  34.039292  \n",
       "06071009911  29.710341  \n",
       "06071009906  41.203067  \n",
       "...                ...  \n",
       "06065043307  25.192194  \n",
       "06065043313  33.860603  \n",
       "06065043703  27.090620  \n",
       "06065043405  25.522666  \n",
       "06065043306  21.528588  \n",
       "\n",
       "[822 rows x 7 columns]"
      ]
     },
     "execution_count": 61,
     "metadata": {},
     "output_type": "execute_result"
    }
   ],
   "source": [
    "total_variables[['Hispanic', 'White', 'AfricanAm', 'NativeAm', 'OtherMult', 'AAPI', 'pct_POC']]"
   ]
  },
  {
   "cell_type": "code",
   "execution_count": 58,
   "id": "c2dc1bce-ed03-46c5-9efb-e0df707c20af",
   "metadata": {},
   "outputs": [
    {
     "data": {
      "text/plain": [
       "Index(['Ozone', 'PM2_5', 'DieselPM', 'Pesticide', 'Tox_Rel', 'Traffic',\n",
       "       'DrinkWat', 'Lead', 'Cleanup', 'GWThreat', 'HazWaste', 'ImpWatBod',\n",
       "       'SolWaste', 'Asthma', 'LowBirtWt', 'Cardiovas', 'Educatn', 'Ling_Isol',\n",
       "       'Poverty', 'Unempl', 'HousBurd', 'Child_10', 'Pop_10_64', 'Elderly65',\n",
       "       'Hispanic', 'White', 'AfricanAm', 'NativeAm', 'OtherMult', 'AAPI',\n",
       "       'CalEnviroScreen_EJ', 'pct_POC', 'pct_youngchild', 'pct_older',\n",
       "       'pct_disability', 'med_income', 'pct_disconnectedyouth',\n",
       "       'pct_woutinternet', 'pct_lessthan2vehicles', 'pct_activecommute',\n",
       "       'pct_extremecommute', 'pct_nofuel', 'pct_1+occupants', 'HAMFI30',\n",
       "       'proj_avg_tmax', 'inverse_ac_prob', 'pct_SNAP'],\n",
       "      dtype='object')"
      ]
     },
     "execution_count": 58,
     "metadata": {},
     "output_type": "execute_result"
    }
   ],
   "source": [
    "total_variables.columns"
   ]
  },
  {
   "cell_type": "code",
   "execution_count": 31,
   "id": "ef4d328b-4040-4836-856b-6e41659df666",
   "metadata": {},
   "outputs": [],
   "source": [
    "# Drop all non-relevant columns, the remaining columns are the variables for the ML model\n",
    "total_variables= total_variables.drop(labels=['Tract', 'County', 'ApproxLoc', 'TotPop19', 'White','Shape_Leng', 'Shape_Area','geometry', 'state', 'county', 'tract', 'NAME',], axis=1)"
   ]
  },
  {
   "cell_type": "markdown",
   "id": "4d608eb8-82ac-44cb-9ed9-328c46750b69",
   "metadata": {},
   "source": [
    "# RandomForest Model for Predicting EJ Communities"
   ]
  },
  {
   "cell_type": "code",
   "execution_count": 16,
   "id": "9891d247-c99f-45d0-87d0-a024235a1941",
   "metadata": {},
   "outputs": [],
   "source": [
    "from sklearn.model_selection import train_test_split"
   ]
  },
  {
   "cell_type": "code",
   "execution_count": 34,
   "id": "eaacbe68-3545-4f1d-b572-86ca74eab744",
   "metadata": {},
   "outputs": [],
   "source": [
    "xvars = [col for col in total_variables.columns if col != 'CalEnviroScreen_EJ']\n",
    "yvar = 'CalEnviroScreen_EJ'"
   ]
  },
  {
   "cell_type": "code",
   "execution_count": 35,
   "id": "0c273a83-e2b1-43ea-b4e8-8db50d7e570a",
   "metadata": {},
   "outputs": [
    {
     "name": "stdout",
     "output_type": "stream",
     "text": [
      "501 501\n",
      "168 168\n"
     ]
    }
   ],
   "source": [
    "# create a dataframe with no NaNs\n",
    "df_to_fit = total_variables[xvars+[yvar]].dropna()\n",
    "\n",
    "X_train, X_test, y_train, y_test = train_test_split(\n",
    "    df_to_fit[xvars], df_to_fit[yvar], test_size = 0.25, random_state = 1)\n",
    "\n",
    "# check we have a reasonable split\n",
    "print(len(X_train), len(y_train))\n",
    "print(len(X_test), len(y_test))"
   ]
  },
  {
   "cell_type": "code",
   "execution_count": 36,
   "id": "4ede7c7d-0846-4d80-bbbe-0e36729c6dc9",
   "metadata": {},
   "outputs": [
    {
     "data": {
      "text/html": [
       "<style>#sk-container-id-1 {color: black;background-color: white;}#sk-container-id-1 pre{padding: 0;}#sk-container-id-1 div.sk-toggleable {background-color: white;}#sk-container-id-1 label.sk-toggleable__label {cursor: pointer;display: block;width: 100%;margin-bottom: 0;padding: 0.3em;box-sizing: border-box;text-align: center;}#sk-container-id-1 label.sk-toggleable__label-arrow:before {content: \"▸\";float: left;margin-right: 0.25em;color: #696969;}#sk-container-id-1 label.sk-toggleable__label-arrow:hover:before {color: black;}#sk-container-id-1 div.sk-estimator:hover label.sk-toggleable__label-arrow:before {color: black;}#sk-container-id-1 div.sk-toggleable__content {max-height: 0;max-width: 0;overflow: hidden;text-align: left;background-color: #f0f8ff;}#sk-container-id-1 div.sk-toggleable__content pre {margin: 0.2em;color: black;border-radius: 0.25em;background-color: #f0f8ff;}#sk-container-id-1 input.sk-toggleable__control:checked~div.sk-toggleable__content {max-height: 200px;max-width: 100%;overflow: auto;}#sk-container-id-1 input.sk-toggleable__control:checked~label.sk-toggleable__label-arrow:before {content: \"▾\";}#sk-container-id-1 div.sk-estimator input.sk-toggleable__control:checked~label.sk-toggleable__label {background-color: #d4ebff;}#sk-container-id-1 div.sk-label input.sk-toggleable__control:checked~label.sk-toggleable__label {background-color: #d4ebff;}#sk-container-id-1 input.sk-hidden--visually {border: 0;clip: rect(1px 1px 1px 1px);clip: rect(1px, 1px, 1px, 1px);height: 1px;margin: -1px;overflow: hidden;padding: 0;position: absolute;width: 1px;}#sk-container-id-1 div.sk-estimator {font-family: monospace;background-color: #f0f8ff;border: 1px dotted black;border-radius: 0.25em;box-sizing: border-box;margin-bottom: 0.5em;}#sk-container-id-1 div.sk-estimator:hover {background-color: #d4ebff;}#sk-container-id-1 div.sk-parallel-item::after {content: \"\";width: 100%;border-bottom: 1px solid gray;flex-grow: 1;}#sk-container-id-1 div.sk-label:hover label.sk-toggleable__label {background-color: #d4ebff;}#sk-container-id-1 div.sk-serial::before {content: \"\";position: absolute;border-left: 1px solid gray;box-sizing: border-box;top: 0;bottom: 0;left: 50%;z-index: 0;}#sk-container-id-1 div.sk-serial {display: flex;flex-direction: column;align-items: center;background-color: white;padding-right: 0.2em;padding-left: 0.2em;position: relative;}#sk-container-id-1 div.sk-item {position: relative;z-index: 1;}#sk-container-id-1 div.sk-parallel {display: flex;align-items: stretch;justify-content: center;background-color: white;position: relative;}#sk-container-id-1 div.sk-item::before, #sk-container-id-1 div.sk-parallel-item::before {content: \"\";position: absolute;border-left: 1px solid gray;box-sizing: border-box;top: 0;bottom: 0;left: 50%;z-index: -1;}#sk-container-id-1 div.sk-parallel-item {display: flex;flex-direction: column;z-index: 1;position: relative;background-color: white;}#sk-container-id-1 div.sk-parallel-item:first-child::after {align-self: flex-end;width: 50%;}#sk-container-id-1 div.sk-parallel-item:last-child::after {align-self: flex-start;width: 50%;}#sk-container-id-1 div.sk-parallel-item:only-child::after {width: 0;}#sk-container-id-1 div.sk-dashed-wrapped {border: 1px dashed gray;margin: 0 0.4em 0.5em 0.4em;box-sizing: border-box;padding-bottom: 0.4em;background-color: white;}#sk-container-id-1 div.sk-label label {font-family: monospace;font-weight: bold;display: inline-block;line-height: 1.2em;}#sk-container-id-1 div.sk-label-container {text-align: center;}#sk-container-id-1 div.sk-container {/* jupyter's `normalize.less` sets `[hidden] { display: none; }` but bootstrap.min.css set `[hidden] { display: none !important; }` so we also need the `!important` here to be able to override the default hidden behavior on the sphinx rendered scikit-learn.org. See: https://github.com/scikit-learn/scikit-learn/issues/21755 */display: inline-block !important;position: relative;}#sk-container-id-1 div.sk-text-repr-fallback {display: none;}</style><div id=\"sk-container-id-1\" class=\"sk-top-container\"><div class=\"sk-text-repr-fallback\"><pre>RandomForestClassifier(random_state=1)</pre><b>In a Jupyter environment, please rerun this cell to show the HTML representation or trust the notebook. <br />On GitHub, the HTML representation is unable to render, please try loading this page with nbviewer.org.</b></div><div class=\"sk-container\" hidden><div class=\"sk-item\"><div class=\"sk-estimator sk-toggleable\"><input class=\"sk-toggleable__control sk-hidden--visually\" id=\"sk-estimator-id-1\" type=\"checkbox\" checked><label for=\"sk-estimator-id-1\" class=\"sk-toggleable__label sk-toggleable__label-arrow\">RandomForestClassifier</label><div class=\"sk-toggleable__content\"><pre>RandomForestClassifier(random_state=1)</pre></div></div></div></div></div>"
      ],
      "text/plain": [
       "RandomForestClassifier(random_state=1)"
      ]
     },
     "execution_count": 36,
     "metadata": {},
     "output_type": "execute_result"
    }
   ],
   "source": [
    "from sklearn.ensemble import RandomForestClassifier \n",
    "\n",
    "# initialize the random forest classifer object\n",
    "rf = RandomForestClassifier(n_estimators = 100, random_state = 1)\n",
    "\n",
    "# now fit the model\n",
    "rf.fit(X_train, y_train)"
   ]
  },
  {
   "cell_type": "code",
   "execution_count": 37,
   "id": "59564f7b-4e0f-4ace-b5b6-dc26cd6fda1d",
   "metadata": {},
   "outputs": [],
   "source": [
    "# Apply the predictions to the test dataset\n",
    "y_pred = rf.predict(X_test)"
   ]
  },
  {
   "cell_type": "code",
   "execution_count": 38,
   "id": "be00b14c-b931-49b5-9f72-3105de2b3dc8",
   "metadata": {},
   "outputs": [
    {
     "name": "stdout",
     "output_type": "stream",
     "text": [
      "Predicted fraction True: 0.2262. Actual fraction True: 0.2500\n"
     ]
    }
   ],
   "source": [
    "# Look at predicted true in each sample\n",
    "print('Predicted fraction True: {:.4f}. Actual fraction True: {:.4f}'.format(\n",
    "    y_pred.mean(), y_test.mean()))"
   ]
  },
  {
   "cell_type": "code",
   "execution_count": 39,
   "id": "4d1a87f4-791a-4356-afa0-95323d9d6261",
   "metadata": {},
   "outputs": [
    {
     "data": {
      "text/plain": [
       "<sklearn.metrics._plot.confusion_matrix.ConfusionMatrixDisplay at 0x7fe806653b80>"
      ]
     },
     "execution_count": 39,
     "metadata": {},
     "output_type": "execute_result"
    },
    {
     "data": {
      "image/png": "[encoded data removed]",
      "text/plain": [
       "<Figure size 640x480 with 2 Axes>"
      ]
     },
     "metadata": {},
     "output_type": "display_data"
    }
   ],
   "source": [
    "# Get the Confusion Matrix for the predicted and CalEnviroScreen4.0 classifications of EJ Communities\n",
    "from sklearn.metrics import classification_report, confusion_matrix, accuracy_score, ConfusionMatrixDisplay\n",
    "ConfusionMatrixDisplay.from_predictions(y_test, y_pred)"
   ]
  },
  {
   "cell_type": "markdown",
   "id": "8f66d234-bb8f-4373-a0e4-2f4fda4e1908",
   "metadata": {},
   "source": [
    "When we use all of the variables from CalEnviroScreen4.0 and the additional variables, only four out of 168 census tracts are classified as Environmental Justice communities by the RandomForest Classifier which are not classified as Environmental Justice communities under CalEnviroScreen4.0 for communities at or above the 75th percentile for their overall scores. The model also fails to classify 8 census tracts as Environmental Justice communities which are classified as disadvantaged by CalEnviroScreen4.0.  "
   ]
  },
  {
   "cell_type": "code",
   "execution_count": 57,
   "id": "040564d5-b9a8-4cd8-85b6-fbfa996c788f",
   "metadata": {},
   "outputs": [
    {
     "data": {
      "text/plain": [
       "Text(0, 0.5, 'Mean decrease in impurity')"
      ]
     },
     "execution_count": 57,
     "metadata": {},
     "output_type": "execute_result"
    },
    {
     "data": {
      "image/png": "[encoded data removed]",
      "text/plain": [
       "<Figure size 640x480 with 1 Axes>"
      ]
     },
     "metadata": {},
     "output_type": "display_data"
    }
   ],
   "source": [
    "import matplotlib.pyplot as plt\n",
    "# Determine which variables are most important for predicting EJ Communities\n",
    "importances = rf.feature_importances_\n",
    "\n",
    "# convert to a series, and give the index labels from our X_train dataframe\n",
    "forest_importances = pd.Series(importances, index=X_train.columns)\n",
    "\n",
    "# get the standard deviations to be able to plot the error bars\n",
    "std = np.std([tree.feature_importances_ for tree in rf.estimators_], axis=0)\n",
    "\n",
    "# sort the importances in descending order\n",
    "forest_importances.sort_values(inplace=True, ascending=False)\n",
    "\n",
    "# Plot the top 10 variables and their importances\n",
    "fig, ax = plt.subplots()\n",
    "forest_importances[:10].plot.bar(yerr=std[:10], ax=ax)\n",
    "ax.set_title(\"Feature importances using MDI\")\n",
    "ax.set_ylabel(\"Mean decrease in impurity\")"
   ]
  },
  {
   "cell_type": "code",
   "execution_count": 64,
   "id": "ebf4c02f-86e6-4525-a68a-f724be1b4fe4",
   "metadata": {},
   "outputs": [
    {
     "data": {
      "text/plain": [
       "<sklearn.inspection._plot.partial_dependence.PartialDependenceDisplay at 0x7fe812f96050>"
      ]
     },
     "execution_count": 64,
     "metadata": {},
     "output_type": "execute_result"
    },
    {
     "data": {
      "image/png": "[encoded data removed]",
      "text/plain": [
       "<Figure size 640x480 with 4 Axes>"
      ]
     },
     "metadata": {},
     "output_type": "display_data"
    }
   ],
   "source": [
    "from sklearn.inspection import PartialDependenceDisplay\n",
    "PartialDependenceDisplay.from_estimator(rf, X_test,\n",
    "                                       forest_importances.index[:3])"
   ]
  },
  {
   "cell_type": "code",
   "execution_count": null,
   "id": "3d00fe54-4681-441e-b0a9-bada9bff8429",
   "metadata": {},
   "outputs": [],
   "source": []
  }
 ],
 "metadata": {
  "kernelspec": {
   "display_name": "Python 3 (ipykernel)",
   "language": "python",
   "name": "python3"
  },
  "language_info": {
   "codemirror_mode": {
    "name": "ipython",
    "version": 3
   },
   "file_extension": ".py",
   "mimetype": "text/x-python",
   "name": "python",
   "nbconvert_exporter": "python",
   "pygments_lexer": "ipython3",
   "version": "3.10.10"
  }
 },
 "nbformat": 4,
 "nbformat_minor": 5
}
