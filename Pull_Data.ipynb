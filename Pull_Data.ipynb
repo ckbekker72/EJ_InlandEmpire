{
 "cells": [
  {
   "cell_type": "markdown",
   "id": "8d63ea3c-ebdf-4a92-bd8d-ea01c96f9aa5",
   "metadata": {},
   "source": [
    "Pull in the data for CalEnviroScreen 4.0"
   ]
  },
  {
   "cell_type": "markdown",
   "id": "5d98ed84-787f-4d25-b01a-83e4ccbc088a",
   "metadata": {},
   "source": [
    "# Data Wrangling: Getting and Cleaning Data, Creating Variables, and Preparing for Joins"
   ]
  },
  {
   "cell_type": "markdown",
   "id": "5092b18a-6e0c-4101-bf2d-8206f4628e3d",
   "metadata": {},
   "source": [
    "## CalEnviroScreen4.0"
   ]
  },
  {
   "cell_type": "code",
   "execution_count": 61,
   "id": "6b061fee-455d-4174-bab1-253ea31b0de1",
   "metadata": {},
   "outputs": [],
   "source": [
    "import os\n",
    "os.chdir('/Users/clairebekker/Documents/GitHub/urbandatascience/EJ_InlandEmpire')"
   ]
  },
  {
   "cell_type": "code",
   "execution_count": 62,
   "id": "1a2e73f7-f84f-4a06-8b5b-1f845bb80745",
   "metadata": {},
   "outputs": [],
   "source": [
    "# Change directory to location of CalEnviroScreen data\n",
    "os.chdir('Data/CalEnviroScreen')"
   ]
  },
  {
   "cell_type": "code",
   "execution_count": 107,
   "id": "b054073e-f24c-4186-88a9-5f971b7913cf",
   "metadata": {},
   "outputs": [],
   "source": [
    "# Import pandas \n",
    "import pandas as pd\n",
    "# Import geopandas\n",
    "import geopandas as gpd\n",
    "# Import numpy\n",
    "import numpy as np"
   ]
  },
  {
   "cell_type": "code",
   "execution_count": 64,
   "id": "a1782e47-90d7-4741-8b1a-70069d133354",
   "metadata": {
    "tags": []
   },
   "outputs": [],
   "source": [
    "# Load in CalEnviroScreen Data\n",
    "esGdf = gpd.read_file('CES4 Final Shapefile.shp')"
   ]
  },
  {
   "cell_type": "code",
   "execution_count": 65,
   "id": "5226599e-abab-422e-82f9-9fffd0295489",
   "metadata": {},
   "outputs": [],
   "source": [
    "# Restrict census tracts to Riverside and San Bernardino Counties\n",
    "esGdf_InlandEmpire = esGdf[esGdf['County'].isin(['Riverside', 'San Bernardino'])]"
   ]
  },
  {
   "cell_type": "code",
   "execution_count": 66,
   "id": "6cb5d893-cb82-423b-81f9-0d6e2e3efa4b",
   "metadata": {},
   "outputs": [
    {
     "data": {
      "text/plain": [
       "Index(['Tract', 'ZIP', 'County', 'ApproxLoc', 'TotPop19', 'CIscore',\n",
       "       'CIscoreP', 'Ozone', 'OzoneP', 'PM2_5', 'PM2_5_P', 'DieselPM',\n",
       "       'DieselPM_P', 'Pesticide', 'PesticideP', 'Tox_Rel', 'Tox_Rel_P',\n",
       "       'Traffic', 'TrafficP', 'DrinkWat', 'DrinkWatP', 'Lead', 'Lead_P',\n",
       "       'Cleanup', 'CleanupP', 'GWThreat', 'GWThreatP', 'HazWaste', 'HazWasteP',\n",
       "       'ImpWatBod', 'ImpWatBodP', 'SolWaste', 'SolWasteP', 'PollBurd',\n",
       "       'PolBurdSc', 'PolBurdP', 'Asthma', 'AsthmaP', 'LowBirtWt', 'LowBirWP',\n",
       "       'Cardiovas', 'CardiovasP', 'Educatn', 'EducatP', 'Ling_Isol',\n",
       "       'Ling_IsolP', 'Poverty', 'PovertyP', 'Unempl', 'UnemplP', 'HousBurd',\n",
       "       'HousBurdP', 'PopChar', 'PopCharSc', 'PopCharP', 'Child_10',\n",
       "       'Pop_10_64', 'Elderly65', 'Hispanic', 'White', 'AfricanAm', 'NativeAm',\n",
       "       'OtherMult', 'Shape_Leng', 'Shape_Area', 'AAPI', 'geometry'],\n",
       "      dtype='object')"
      ]
     },
     "execution_count": 66,
     "metadata": {},
     "output_type": "execute_result"
    }
   ],
   "source": [
    "#esGdf_InlandEmpire.columns"
   ]
  },
  {
   "cell_type": "code",
   "execution_count": 110,
   "id": "a83e0b81-c927-4267-a102-db7879d99ac4",
   "metadata": {},
   "outputs": [],
   "source": [
    "# Use only raw scores as x-variables\n",
    "# List comprehension to exclude percentile columns and scores\n",
    "cols_to_exclude = [col for col in esGdf_InlandEmpire.columns if col.endswith('P') or col.endswith('score') or col.endswith('Sc')\n",
    "                   or col=='PollBurd' or col=='PopChar']\n",
    "esGdf_InlandEmpire_rawscores = [col for col in esGdf_InlandEmpire.columns if col not in cols_to_exclude]\n",
    "# Subset dataframe to only include raw scores\n",
    "esGdf_InlandEmpire= esGdf_InlandEmpire[esGdf_InlandEmpire_rawscores]\n",
    "\n",
    "# Edit tract number to match the GEOID in other datasets\n",
    "esGdf_InlandEmpire['GEOID'] = esGdf_InlandEmpire.Tract.astype(np.int64).astype(str).str.zfill(11)\n",
    "\n",
    "# Set GEOID as index to join with other datasets\n",
    "esGdf_InlandEmpire.set_index('GEOID', inplace=True)"
   ]
  },
  {
   "cell_type": "markdown",
   "id": "633627fc-2ba4-46e6-b00b-e9f94686490d",
   "metadata": {},
   "source": [
    "Data from 2019 American Community Survey (ACS) "
   ]
  },
  {
   "cell_type": "markdown",
   "id": "6f1d395f-380f-40f4-be24-a965e71ab939",
   "metadata": {},
   "source": [
    "## American Community Survey (2019)"
   ]
  },
  {
   "cell_type": "code",
   "execution_count": 68,
   "id": "855d45af-a566-4ef0-aa9d-f8b734f5b065",
   "metadata": {},
   "outputs": [],
   "source": [
    "import cenpy\n",
    "from cenpy import products\n",
    "# create a connection to the American Community Survey\n",
    "acs = cenpy.products.ACS()"
   ]
  },
  {
   "cell_type": "code",
   "execution_count": 69,
   "id": "dddc1c76-41f5-4cce-a2c0-45d161b95175",
   "metadata": {
    "tags": []
   },
   "outputs": [],
   "source": [
    "#pd.set_option('display.max_colwidth', None)\n",
    "#acs.filter_variables('B25014')"
   ]
  },
  {
   "cell_type": "code",
   "execution_count": 70,
   "id": "2a3c15e8-e3b0-4aa1-8c50-87df637d9f94",
   "metadata": {},
   "outputs": [],
   "source": [
    "census_var = ['B01001_001E', 'B01001_003E', 'B01001_027E', 'B01001_044E', 'B01001_045E', 'B01001_046E', 'B01001_047E', 'B01001_048E', 'B01001_049E', 'B01001_020E', 'B01001_021E', 'B01001_022E', 'B01001_023E', 'B01001_024E', 'B01001_025E',\n",
    "              'B19013_001E', 'B14005_001E', 'B14005_007E', 'B14005_021E', 'B28002_002E', 'B25040_010E', 'B25040_001E', 'B25014_001E', 'B25014_005E', 'B25014_006E', 'B25014_007E', 'B25014_011E', 'B25014_012E', 'B25014_013E', 'B02001_002E', \n",
    "              'C18108_001E', 'C18108_003E', 'C18108_004E', 'C18108_007E','C18108_008E', 'C18108_011E', 'C18108_012E', 'B28002_001E', 'B28002_012E', 'B28002_013E', 'B25014H_003E', 'B25044_001E', 'B25044_003E', 'B25044_010E', 'B25044_004E', 'B25044_011E', \n",
    "              'B08301_001E', 'B08301_019E', 'B08301_018E', 'B08303_013E', 'B08303_001E'] \n",
    "# Total Population (used to scale for percentages): B01001_001E\n",
    "# Estimate!!Total:!!White alone = B02001_002E\n",
    "# Male under 5= B01001_003E, Female under 5= B01001_027E, \n",
    "# Older populations: Estimate!!Total:!!Female:!!65 and older = B01001_044E, B01001_045E, B01001_046E, B01001_047E, B01001_048E, B01001_049E\n",
    "# Estimate!!Total:!!Male:!!65 and older = B01001_020E, B01001_021E, B01001_022E, B01001_023E, B01001_024E, B01001_025E,\n",
    "# Median Household Income = B19013_001E,  \n",
    "# Estimate!!Total:!!Male:!!Not Enrolled in school: SEX BY SCHOOL ENROLLMENT BY EDUCATIONAL ATTAINMENT BY EMPLOYMENT STATUS FOR THE POPULATION 16 TO 19 YEARS = B14005_007E,\n",
    "# Estimate!!Total:!!Female:!!Not enrolled in school: SEX BY SCHOOL ENROLLMENT BY EDUCATIONAL ATTAINMENT BY EMPLOYMENT STATUS FOR THE POPULATION 16 TO 19 YEARS = B14005_021E, \n",
    "# Estimate!!Total: SEX BY SCHOOL ENROLLMENT BY EDUCATIONAL ATTAINMENT BY EMPLOYMENT STATUS FOR THE POPULATION 16 TO 19 YEARS = B14005_001E, \n",
    "# Estimate!!Total:!!No Internet access = B28002_013E,\n",
    "# Estimate!!Total:!!Internet access without a subscription = B28002_012E,\n",
    "# Estimate!!Total: PRESENCE AND TYPES OF INTERNET SUBSCRIPTIONS IN HOUSEHOLD = B28002_001E,\n",
    "# Estimate!!Total:!!Under 18 years:!!With one type of disability = C18108_003E\n",
    "# Estimate!!Total:!!Under 18 years:!!With one type of disability = C18108_004E\n",
    "# Estimate!!Total:!!18 to 64 years!!With one type of disability = C18108_007E\n",
    "# Estimate!!Total:!!18 to 64 years:!!With two or more disabilities = C18108_008E \n",
    "# Estimate!!Total:!!65 years and over:!!With one type of disability = C18108_011E\n",
    "# Estimate!!Total:!!65 years and over:!!With two or more disabilities = C18108_012E\n",
    "# Estimate!!Total!! AGE BY NUMBER OF DISABILITIES= C18108_001E\n",
    "# Estimate!!Total:!!No Internet access = B28002_013E\n",
    "# Estimate!!Total:!!1.01 or more occupants per room = B25014H_003E\n",
    "# Estimate!!Total!!Owner occupied!!No vehicle available = B25044_003E \n",
    "# Estimate!!Total!!Renter occupied!!No vehicle available = B25044_010E\n",
    "# Estimate!!Total!!Owner occupied!!1 vehicle available = B25044_004E\n",
    "# Estimate!!Total!!Renter occupied!!1 vehicle available = B25044_011E\n",
    "# Estimate!!Total: TENURE BY VEHICLES AVAILABLE = B25044_001E\n",
    "# Estimate!!Total!! means of transportation to work = B08301_001E\n",
    "# Estimate!!Total!!Walked = B08301_019E\n",
    "# Estimate!!Total!!Bicycle = B08301_018E\n",
    "# Estimate!!Total:!!90 or more minutes time to travel to work = B08303_013E\n",
    "# Estimate!!Total: TRAVEL TIME TO WORK = B08303_001E \n",
    "# Estimate!!Total:!!No fuel used = B25040_010E \n",
    "# Estimate!!Total: HOUSE HEATING FUEL = B25040_001E \n",
    "# Estimate!!Total:!!Owner occupied:!!1.01 to 1.50 occupants per room = B25014_005E, \n",
    "# Estimate!!Total:!!Owner occupied:!!1.51 to 2.00 occupants per room = B25014_006E,\n",
    "# Estimate!!Total:!!Owner occupied:!!2.01 or more occupants per room = B25014_007E, \n",
    "# Estimate!!Total:!!Renter occupied:!!1.01 to 1.50 occupants per room = B25014_011E,\n",
    "# Estimate!!Total:!!Renter occupied:!!1.51 to 2.00 occupants per room = B25014_012E,\n",
    "# Estimate!!Total:!!Renter occupied:!!2.01 or more occupants per room = B25014_013E, \n",
    "# Estimate!!Total: TENURE BY OCCUPANTS PER ROOM = B25014_001E"
   ]
  },
  {
   "cell_type": "code",
   "execution_count": 71,
   "id": "d1077770-1753-4677-b5d6-1c9422d2e1be",
   "metadata": {},
   "outputs": [
    {
     "name": "stderr",
     "output_type": "stream",
     "text": [
      "/Users/clairebekker/anaconda3/envs/uds/lib/python3.10/site-packages/cenpy/products.py:762: FutureWarning: The `op` parameter is deprecated and will be removed in a future release. Please use the `predicate` parameter instead.\n",
      "  return self._from_name(county, variables, level, \"Counties\", **kwargs)\n",
      "/Users/clairebekker/anaconda3/envs/uds/lib/python3.10/site-packages/cenpy/products.py:762: FutureWarning: The `op` parameter is deprecated and will be removed in a future release. Please use the `predicate` parameter instead.\n",
      "  return self._from_name(county, variables, level, \"Counties\", **kwargs)\n"
     ]
    }
   ],
   "source": [
    "# Get 2019 ACS for Riverside and San Bernardino counties\n",
    "censusDf_Riverside = products.ACS(2019).from_county('Riverside, CA', level='tract',\n",
    "                                        variables=census_var)\n",
    "censusDf_San_Bernardino = products.ACS(2019).from_county('San Bernardino, CA', level='tract',\n",
    "                                        variables=census_var)"
   ]
  },
  {
   "cell_type": "code",
   "execution_count": 72,
   "id": "94771c79-06eb-4a8b-a7ce-0cfa414a6525",
   "metadata": {},
   "outputs": [],
   "source": [
    "censusDf_IE = pd.concat((censusDf_Riverside, censusDf_San_Bernardino), axis=0)"
   ]
  },
  {
   "cell_type": "code",
   "execution_count": 78,
   "id": "976a7a75-81d6-4353-8caf-8e5ceafd52b9",
   "metadata": {},
   "outputs": [],
   "source": [
    "# Race\n",
    "censusDf_IE['pct_POC'] = ((censusDf_IE['B01001_001E'] - censusDf_IE['B02001_002E'])/censusDf_IE['B01001_001E'])*100 # (total population - white alone)/total population * 100\n",
    "\n",
    "## SOCIOECONOMIC VULNERABILITY FACTORS ##\n",
    "## Age\n",
    "censusDf_IE['pct_youngchild'] = ((censusDf_IE['B01001_003E'] + censusDf_IE['B01001_027E'])/censusDf_IE['B01001_001E'])*100 # male under 5 + female under 5, divided by total population\n",
    "older_pop = ['B01001_044E', 'B01001_045E', 'B01001_046E', 'B01001_047E', 'B01001_048E', 'B01001_049E', 'B01001_020E', 'B01001_021E', 'B01001_022E', 'B01001_023E', 'B01001_024E', 'B01001_025E'] # All variables for male and female populations greater than 65\n",
    "censusDf_IE['pct_older'] = (censusDf_IE[older_pop].sum(axis=1)/censusDf_IE['B01001_001E'])*100 # Sum all counts of people 65+/total population\n",
    "## Disability\n",
    "disability= ['C18108_003E', 'C18108_004E', 'C18108_007E','C18108_008E', 'C18108_011E', 'C18108_012E']\n",
    "censusDf_IE['pct_disability'] = (censusDf_IE[disability].sum(axis=1)/censusDf_IE['C18108_001E'])*100 # sum number of estimated total of people in each range with one or more disabilities, divide by total polled population\n",
    "# Median Household Income\n",
    "censusDf_IE['med_income']= censusDf_IE['B19013_001E']\n",
    "# Disconnected Youth (16-19 year olds not in school) \n",
    "censusDf_IE['pct_disconnectedyouth']= ((censusDf_IE['B14005_007E'] + censusDf_IE['B14005_021E'])/censusDf_IE['B14005_001E'])*100 # sum number of 16-19 males and females not enrolled in school/population of 16-19 year olds\n",
    "# Internet Access (percentage of households without internet subscription)\n",
    "censusDf_IE['pct_woutinternet'] = ((censusDf_IE['B28002_013E'] + censusDf_IE['B28002_012E'])/censusDf_IE['B28002_001E'])*100 # number of households without any internet or internet subscription/total number of households polled"
   ]
  },
  {
   "cell_type": "code",
   "execution_count": 79,
   "id": "3315702d-8421-4148-9661-1ac3db1f129c",
   "metadata": {},
   "outputs": [],
   "source": [
    "## TRANSPORTION ##   \n",
    "# Vehicle ownership \n",
    "vehicles = ['B25044_003E', 'B25044_010E', 'B25044_004E', 'B25044_011E'] # all owner-occupied (0 or 1 cars) and rental (0 or 1 cars)                                     \n",
    "censusDf_IE['pct_vehicleowner'] = ((censusDf_IE[vehicles].sum(axis=1))/censusDf_IE['B25044_001E'])*100 # sum number of owner-occupied or rental households with 0 or 1 cars/total households polled\n",
    "# Active Commute\n",
    "censusDf_IE['pct_activecommute'] = ((censusDf_IE['B08301_019E'] + censusDf_IE['B08301_018E'])/censusDf_IE['B08301_001E'])*100 # sum of walking and biking commuters/total number of commuters \n",
    "# Extreme Commutes \n",
    "censusDf_IE['pct_extremecommute'] = (censusDf_IE['B08303_013E']/censusDf_IE['B08303_001E'])*100 # proportion of commuters traveling 90+ minutes"
   ]
  },
  {
   "cell_type": "code",
   "execution_count": 80,
   "id": "979705ac-c720-454d-9ab5-1e8b112de1c7",
   "metadata": {},
   "outputs": [],
   "source": [
    "## HOUSING ##\n",
    "# House Heating\n",
    "censusDf_IE['pct_nofuel']= (censusDf_IE['B25040_010E']/censusDf_IE['B25040_001E'])*100 # number of households with no heating fuel/total households\n",
    "# Overcrowding\n",
    "occupants = ['B25014_005E', 'B25014_006E', 'B25014_007E', 'B25014_011E', 'B25014_012E', 'B25014_013E'] # owner and rent-occupied 1+ people per room \n",
    "censusDf_IE['pct_1+occupants']= (censusDf_IE[occupants].sum(axis=1)/censusDf_IE['B25014_001E'])*100 # sum of households with 1+ people per room/total households"
   ]
  },
  {
   "cell_type": "code",
   "execution_count": 81,
   "id": "5d5c0b00-7ff0-403d-ac9b-4275561bc6e4",
   "metadata": {},
   "outputs": [
    {
     "data": {
      "text/html": [
       "<div>\n",
       "<style scoped>\n",
       "    .dataframe tbody tr th:only-of-type {\n",
       "        vertical-align: middle;\n",
       "    }\n",
       "\n",
       "    .dataframe tbody tr th {\n",
       "        vertical-align: top;\n",
       "    }\n",
       "\n",
       "    .dataframe thead th {\n",
       "        text-align: right;\n",
       "    }\n",
       "</style>\n",
       "<table border=\"1\" class=\"dataframe\">\n",
       "  <thead>\n",
       "    <tr style=\"text-align: right;\">\n",
       "      <th></th>\n",
       "      <th>GEOID</th>\n",
       "      <th>geometry</th>\n",
       "      <th>B01001_001E</th>\n",
       "      <th>B01001_003E</th>\n",
       "      <th>B01001_020E</th>\n",
       "      <th>B01001_021E</th>\n",
       "      <th>B01001_022E</th>\n",
       "      <th>B01001_023E</th>\n",
       "      <th>B01001_024E</th>\n",
       "      <th>B01001_025E</th>\n",
       "      <th>...</th>\n",
       "      <th>pct_older</th>\n",
       "      <th>pct_disability</th>\n",
       "      <th>pct_disconnectedyouth</th>\n",
       "      <th>pct_woutinternet</th>\n",
       "      <th>pct_vehicleowner</th>\n",
       "      <th>pct_activecommute</th>\n",
       "      <th>pct_extremecommute</th>\n",
       "      <th>pct_nofuel</th>\n",
       "      <th>pct_1+occupants</th>\n",
       "      <th>med_income</th>\n",
       "    </tr>\n",
       "  </thead>\n",
       "  <tbody>\n",
       "    <tr>\n",
       "      <th>0</th>\n",
       "      <td>06065041904</td>\n",
       "      <td>POLYGON ((-13099233.990 4011396.270, -13099207...</td>\n",
       "      <td>5391.0</td>\n",
       "      <td>168.0</td>\n",
       "      <td>31.0</td>\n",
       "      <td>62.0</td>\n",
       "      <td>13.0</td>\n",
       "      <td>63.0</td>\n",
       "      <td>69.0</td>\n",
       "      <td>15.0</td>\n",
       "      <td>...</td>\n",
       "      <td>9.738453</td>\n",
       "      <td>7.546115</td>\n",
       "      <td>6.528190</td>\n",
       "      <td>2.588757</td>\n",
       "      <td>18.491124</td>\n",
       "      <td>1.543210</td>\n",
       "      <td>4.566536</td>\n",
       "      <td>0.517751</td>\n",
       "      <td>11.316568</td>\n",
       "      <td>107880.0</td>\n",
       "    </tr>\n",
       "    <tr>\n",
       "      <th>1</th>\n",
       "      <td>06065041702</td>\n",
       "      <td>POLYGON ((-13089529.040 4010560.230, -13089521...</td>\n",
       "      <td>5185.0</td>\n",
       "      <td>246.0</td>\n",
       "      <td>60.0</td>\n",
       "      <td>57.0</td>\n",
       "      <td>114.0</td>\n",
       "      <td>63.0</td>\n",
       "      <td>9.0</td>\n",
       "      <td>9.0</td>\n",
       "      <td>...</td>\n",
       "      <td>11.957570</td>\n",
       "      <td>8.502340</td>\n",
       "      <td>0.000000</td>\n",
       "      <td>12.636961</td>\n",
       "      <td>18.991965</td>\n",
       "      <td>1.045556</td>\n",
       "      <td>4.661532</td>\n",
       "      <td>1.314828</td>\n",
       "      <td>7.742878</td>\n",
       "      <td>79283.0</td>\n",
       "    </tr>\n",
       "    <tr>\n",
       "      <th>2</th>\n",
       "      <td>06065041500</td>\n",
       "      <td>POLYGON ((-13096164.800 4014145.990, -13096149...</td>\n",
       "      <td>3263.0</td>\n",
       "      <td>128.0</td>\n",
       "      <td>8.0</td>\n",
       "      <td>9.0</td>\n",
       "      <td>14.0</td>\n",
       "      <td>32.0</td>\n",
       "      <td>8.0</td>\n",
       "      <td>16.0</td>\n",
       "      <td>...</td>\n",
       "      <td>6.282562</td>\n",
       "      <td>9.255287</td>\n",
       "      <td>29.230769</td>\n",
       "      <td>10.237660</td>\n",
       "      <td>47.714808</td>\n",
       "      <td>3.950777</td>\n",
       "      <td>4.367968</td>\n",
       "      <td>0.731261</td>\n",
       "      <td>7.952468</td>\n",
       "      <td>60735.0</td>\n",
       "    </tr>\n",
       "    <tr>\n",
       "      <th>3</th>\n",
       "      <td>06065040809</td>\n",
       "      <td>POLYGON ((-13087670.230 4014380.140, -13087646...</td>\n",
       "      <td>4262.0</td>\n",
       "      <td>183.0</td>\n",
       "      <td>36.0</td>\n",
       "      <td>60.0</td>\n",
       "      <td>50.0</td>\n",
       "      <td>28.0</td>\n",
       "      <td>20.0</td>\n",
       "      <td>7.0</td>\n",
       "      <td>...</td>\n",
       "      <td>8.798686</td>\n",
       "      <td>6.475833</td>\n",
       "      <td>0.000000</td>\n",
       "      <td>7.274321</td>\n",
       "      <td>27.519720</td>\n",
       "      <td>0.000000</td>\n",
       "      <td>8.891109</td>\n",
       "      <td>1.314636</td>\n",
       "      <td>14.110429</td>\n",
       "      <td>74704.0</td>\n",
       "    </tr>\n",
       "    <tr>\n",
       "      <th>4</th>\n",
       "      <td>06065040615</td>\n",
       "      <td>POLYGON ((-13087499.580 4023599.500, -13087495...</td>\n",
       "      <td>10810.0</td>\n",
       "      <td>858.0</td>\n",
       "      <td>63.0</td>\n",
       "      <td>198.0</td>\n",
       "      <td>65.0</td>\n",
       "      <td>38.0</td>\n",
       "      <td>46.0</td>\n",
       "      <td>37.0</td>\n",
       "      <td>...</td>\n",
       "      <td>8.612396</td>\n",
       "      <td>8.602948</td>\n",
       "      <td>6.048387</td>\n",
       "      <td>1.447424</td>\n",
       "      <td>12.260536</td>\n",
       "      <td>0.000000</td>\n",
       "      <td>6.352750</td>\n",
       "      <td>0.000000</td>\n",
       "      <td>7.364836</td>\n",
       "      <td>138651.0</td>\n",
       "    </tr>\n",
       "  </tbody>\n",
       "</table>\n",
       "<p>5 rows × 69 columns</p>\n",
       "</div>"
      ],
      "text/plain": [
       "         GEOID                                           geometry  \\\n",
       "0  06065041904  POLYGON ((-13099233.990 4011396.270, -13099207...   \n",
       "1  06065041702  POLYGON ((-13089529.040 4010560.230, -13089521...   \n",
       "2  06065041500  POLYGON ((-13096164.800 4014145.990, -13096149...   \n",
       "3  06065040809  POLYGON ((-13087670.230 4014380.140, -13087646...   \n",
       "4  06065040615  POLYGON ((-13087499.580 4023599.500, -13087495...   \n",
       "\n",
       "   B01001_001E  B01001_003E  B01001_020E  B01001_021E  B01001_022E  \\\n",
       "0       5391.0        168.0         31.0         62.0         13.0   \n",
       "1       5185.0        246.0         60.0         57.0        114.0   \n",
       "2       3263.0        128.0          8.0          9.0         14.0   \n",
       "3       4262.0        183.0         36.0         60.0         50.0   \n",
       "4      10810.0        858.0         63.0        198.0         65.0   \n",
       "\n",
       "   B01001_023E  B01001_024E  B01001_025E  ...  pct_older  pct_disability  \\\n",
       "0         63.0         69.0         15.0  ...   9.738453        7.546115   \n",
       "1         63.0          9.0          9.0  ...  11.957570        8.502340   \n",
       "2         32.0          8.0         16.0  ...   6.282562        9.255287   \n",
       "3         28.0         20.0          7.0  ...   8.798686        6.475833   \n",
       "4         38.0         46.0         37.0  ...   8.612396        8.602948   \n",
       "\n",
       "   pct_disconnectedyouth  pct_woutinternet  pct_vehicleowner  \\\n",
       "0               6.528190          2.588757         18.491124   \n",
       "1               0.000000         12.636961         18.991965   \n",
       "2              29.230769         10.237660         47.714808   \n",
       "3               0.000000          7.274321         27.519720   \n",
       "4               6.048387          1.447424         12.260536   \n",
       "\n",
       "   pct_activecommute  pct_extremecommute  pct_nofuel  pct_1+occupants  \\\n",
       "0           1.543210            4.566536    0.517751        11.316568   \n",
       "1           1.045556            4.661532    1.314828         7.742878   \n",
       "2           3.950777            4.367968    0.731261         7.952468   \n",
       "3           0.000000            8.891109    1.314636        14.110429   \n",
       "4           0.000000            6.352750    0.000000         7.364836   \n",
       "\n",
       "   med_income  \n",
       "0    107880.0  \n",
       "1     79283.0  \n",
       "2     60735.0  \n",
       "3     74704.0  \n",
       "4    138651.0  \n",
       "\n",
       "[5 rows x 69 columns]"
      ]
     },
     "execution_count": 81,
     "metadata": {},
     "output_type": "execute_result"
    }
   ],
   "source": [
    "pd.set_option('display.max_colwidth', 50)\n",
    "censusDf_IE.head()"
   ]
  },
  {
   "cell_type": "code",
   "execution_count": 82,
   "id": "3942733d-1732-48d8-a270-f57474858714",
   "metadata": {},
   "outputs": [],
   "source": [
    "# Drop all of the ACS variable names and keep variables we created \n",
    "censusDf_IE =censusDf_IE.drop(labels=['B01001_001E', 'B01001_003E', 'B01001_027E', 'B01001_044E', 'B01001_045E', 'B01001_046E', 'B01001_047E', 'B01001_048E', 'B01001_049E', 'B01001_020E', 'B01001_021E', 'B01001_022E', 'B01001_023E', 'B01001_024E', 'B01001_025E',\n",
    "              'B19013_001E', 'B14005_001E', 'B14005_007E', 'B14005_021E', 'B28002_002E', 'B25040_010E', 'B25040_001E', 'B25014_001E', 'B25014_005E', 'B25014_006E', 'B25014_007E', 'B25014_011E', 'B25014_012E', 'B25014_013E', 'B02001_002E', \n",
    "              'C18108_001E', 'C18108_003E', 'C18108_004E', 'C18108_007E','C18108_008E', 'C18108_011E', 'C18108_012E', 'B28002_001E', 'B28002_012E', 'B28002_013E', 'B25014H_003E', 'B25044_001E', 'B25044_003E', 'B25044_010E', 'B25044_004E', 'B25044_011E', \n",
    "              'B08301_001E', 'B08301_019E', 'B08301_018E', 'B08303_013E', 'B08303_001E'], axis=1)"
   ]
  },
  {
   "cell_type": "code",
   "execution_count": 109,
   "id": "1ef663de-fb17-4952-896d-97c592844925",
   "metadata": {},
   "outputs": [],
   "source": [
    "# Set index as GEOID to use for joining datasets \n",
    "censusDf_IE.set_index('GEOID', inplace=True)"
   ]
  },
  {
   "cell_type": "markdown",
   "id": "d40a4999-2ca5-4513-9231-007e068a3072",
   "metadata": {},
   "source": [
    "Pull in the data from HUD CHAS"
   ]
  },
  {
   "cell_type": "markdown",
   "id": "cedbcbac-0a05-4785-b825-26001c42ae53",
   "metadata": {},
   "source": [
    "## US Dept. of Housing and Urban Development (HUD)\n"
   ]
  },
  {
   "cell_type": "code",
   "execution_count": 119,
   "id": "2fa5376e-f929-4cef-84dc-0fd5e31f16d1",
   "metadata": {},
   "outputs": [
    {
     "data": {
      "text/plain": [
       "74001"
      ]
     },
     "execution_count": 119,
     "metadata": {},
     "output_type": "execute_result"
    }
   ],
   "source": [
    "os.chdir('../HUD CHAS')\n",
    "hamfiDf = pd.read_csv('Table16.csv')\n",
    "len(hamfiDf)"
   ]
  },
  {
   "cell_type": "code",
   "execution_count": 120,
   "id": "d125bfe8-1d29-463c-9c7b-0e095865b9ed",
   "metadata": {},
   "outputs": [],
   "source": [
    "# Select HUD CHAS data for census tracts in the IE\n",
    "hamfiDfIE = hamfiDf[hamfiDf['name'].str.contains(\"Riverside\")|hamfiDf['name'].str.contains(\"San Bernardino\")].reset_index()"
   ]
  },
  {
   "cell_type": "markdown",
   "id": "64023512-a5ec-4244-9bef-a8a4fc615b47",
   "metadata": {},
   "source": [
    "Calculate percentage of households per tract that make 30% or less than the HUD Area Median Family Income (HAMFI)."
   ]
  },
  {
   "cell_type": "code",
   "execution_count": 125,
   "id": "b0710113-12c1-4003-bb63-9ebac90642eb",
   "metadata": {},
   "outputs": [],
   "source": [
    "# Identify percentage of households per tract that make 30% or less than the HUD Area Median Family Income (HAMFI).\n",
    "hamfiDfIE['HAMFI30'] = ((hamfiDf['T16_est3'] + hamfiDf['T16_est88'])/hamfiDf['T16_est1'])*100\n",
    "#hamfiDfIE.head()\n",
    "\n",
    "# Get GEOID for HUD Area Median Family Income data \n",
    "hamfiDfIE['GEOID'] = hamfiDfIE['geoid'].str[7:]\n",
    "\n",
    "# Subset dataframe to only include columns of interest\n",
    "hamfiDfIE= hamfiDfIE[['GEOID', 'HAMFI30']]\n",
    "\n",
    "# Set GEOID as index \n",
    "hamfiDfIE.set_index('GEOID', inplace=True)"
   ]
  },
  {
   "cell_type": "markdown",
   "id": "c19e8e28-22b3-475f-829e-50dab3e546fe",
   "metadata": {},
   "source": [
    "## California Natural Resources Agency (CNRA) "
   ]
  },
  {
   "cell_type": "markdown",
   "id": "14e9e89e-dc89-4b5c-aad8-ff7aec1012d9",
   "metadata": {},
   "source": [
    "Pull in the California Natural Resources Agency (CNRA) California\n",
    "Heat Assessment Tool (CHAT) 2015 data"
   ]
  },
  {
   "cell_type": "code",
   "execution_count": 127,
   "id": "03f30360-e4db-4259-83ad-0fb109a5e05b",
   "metadata": {},
   "outputs": [],
   "source": [
    "os.chdir('../CHAT')\n",
    "CHATRiversideDf = pd.read_csv('CHAT-Riverside County-projected.csv')\n",
    "CHATSBDf = pd.read_csv('CHAT-San Bernardino County-projected.csv')"
   ]
  },
  {
   "cell_type": "code",
   "execution_count": 128,
   "id": "8087accd-e70f-4215-8e2d-19b4102428d6",
   "metadata": {},
   "outputs": [
    {
     "data": {
      "text/html": [
       "<div>\n",
       "<style scoped>\n",
       "    .dataframe tbody tr th:only-of-type {\n",
       "        vertical-align: middle;\n",
       "    }\n",
       "\n",
       "    .dataframe tbody tr th {\n",
       "        vertical-align: top;\n",
       "    }\n",
       "\n",
       "    .dataframe thead th {\n",
       "        text-align: right;\n",
       "    }\n",
       "</style>\n",
       "<table border=\"1\" class=\"dataframe\">\n",
       "  <thead>\n",
       "    <tr style=\"text-align: right;\">\n",
       "      <th></th>\n",
       "      <th>geoid_long</th>\n",
       "      <th>rcp</th>\n",
       "      <th>projections_ct</th>\n",
       "      <th>census_county</th>\n",
       "      <th>census_city</th>\n",
       "      <th>projections_time_frame</th>\n",
       "      <th>socioeconomic_group</th>\n",
       "      <th>time_of_year</th>\n",
       "      <th>model_percentiles</th>\n",
       "      <th>proj_ann_num_events</th>\n",
       "      <th>proj_avg_tmax</th>\n",
       "      <th>proj_avg_tmin</th>\n",
       "      <th>proj_avg_duration</th>\n",
       "      <th>proj_avg_rhmax</th>\n",
       "      <th>proj_avg_rhmin</th>\n",
       "      <th>ann_freq_rel_chg_perc</th>\n",
       "      <th>dur_rel_chg_perc</th>\n",
       "    </tr>\n",
       "  </thead>\n",
       "  <tbody>\n",
       "    <tr>\n",
       "      <th>0</th>\n",
       "      <td>1400000US06065030101</td>\n",
       "      <td>rcp45</td>\n",
       "      <td>2147483647</td>\n",
       "      <td>Riverside County</td>\n",
       "      <td>Riverside</td>\n",
       "      <td>2011-2030</td>\n",
       "      <td>2006 HW</td>\n",
       "      <td>Total</td>\n",
       "      <td>5</td>\n",
       "      <td>0.00</td>\n",
       "      <td>NaN</td>\n",
       "      <td>NaN</td>\n",
       "      <td>NaN</td>\n",
       "      <td>NaN</td>\n",
       "      <td>NaN</td>\n",
       "      <td>NaN</td>\n",
       "      <td>NaN</td>\n",
       "    </tr>\n",
       "    <tr>\n",
       "      <th>1</th>\n",
       "      <td>1400000US06065030101</td>\n",
       "      <td>rcp45</td>\n",
       "      <td>2147483647</td>\n",
       "      <td>Riverside County</td>\n",
       "      <td>Riverside</td>\n",
       "      <td>2011-2030</td>\n",
       "      <td>Vulnerable</td>\n",
       "      <td>Total</td>\n",
       "      <td>5</td>\n",
       "      <td>1.55</td>\n",
       "      <td>104.81</td>\n",
       "      <td>67.97</td>\n",
       "      <td>4.94</td>\n",
       "      <td>59.94</td>\n",
       "      <td>16.27</td>\n",
       "      <td>-21.19</td>\n",
       "      <td>2.90</td>\n",
       "    </tr>\n",
       "    <tr>\n",
       "      <th>2</th>\n",
       "      <td>1400000US06065030101</td>\n",
       "      <td>rcp45</td>\n",
       "      <td>2147483647</td>\n",
       "      <td>Riverside County</td>\n",
       "      <td>Riverside</td>\n",
       "      <td>2011-2030</td>\n",
       "      <td>General</td>\n",
       "      <td>AM</td>\n",
       "      <td>5</td>\n",
       "      <td>0.15</td>\n",
       "      <td>95.31</td>\n",
       "      <td>61.25</td>\n",
       "      <td>4.33</td>\n",
       "      <td>57.35</td>\n",
       "      <td>17.52</td>\n",
       "      <td>-35.71</td>\n",
       "      <td>1.11</td>\n",
       "    </tr>\n",
       "    <tr>\n",
       "      <th>3</th>\n",
       "      <td>1400000US06065030101</td>\n",
       "      <td>rcp45</td>\n",
       "      <td>2147483647</td>\n",
       "      <td>Riverside County</td>\n",
       "      <td>Riverside</td>\n",
       "      <td>2011-2030</td>\n",
       "      <td>General</td>\n",
       "      <td>JJA</td>\n",
       "      <td>5</td>\n",
       "      <td>0.10</td>\n",
       "      <td>104.03</td>\n",
       "      <td>68.97</td>\n",
       "      <td>4.00</td>\n",
       "      <td>68.38</td>\n",
       "      <td>17.69</td>\n",
       "      <td>-25.00</td>\n",
       "      <td>-30.43</td>\n",
       "    </tr>\n",
       "    <tr>\n",
       "      <th>4</th>\n",
       "      <td>1400000US06065030101</td>\n",
       "      <td>rcp45</td>\n",
       "      <td>2147483647</td>\n",
       "      <td>Riverside County</td>\n",
       "      <td>Riverside</td>\n",
       "      <td>2011-2030</td>\n",
       "      <td>General</td>\n",
       "      <td>SO</td>\n",
       "      <td>5</td>\n",
       "      <td>0.00</td>\n",
       "      <td>NaN</td>\n",
       "      <td>NaN</td>\n",
       "      <td>NaN</td>\n",
       "      <td>NaN</td>\n",
       "      <td>NaN</td>\n",
       "      <td>-100.00</td>\n",
       "      <td>NaN</td>\n",
       "    </tr>\n",
       "  </tbody>\n",
       "</table>\n",
       "</div>"
      ],
      "text/plain": [
       "             geoid_long    rcp  projections_ct     census_county census_city  \\\n",
       "0  1400000US06065030101  rcp45      2147483647  Riverside County   Riverside   \n",
       "1  1400000US06065030101  rcp45      2147483647  Riverside County   Riverside   \n",
       "2  1400000US06065030101  rcp45      2147483647  Riverside County   Riverside   \n",
       "3  1400000US06065030101  rcp45      2147483647  Riverside County   Riverside   \n",
       "4  1400000US06065030101  rcp45      2147483647  Riverside County   Riverside   \n",
       "\n",
       "  projections_time_frame socioeconomic_group time_of_year  model_percentiles  \\\n",
       "0              2011-2030             2006 HW        Total                  5   \n",
       "1              2011-2030          Vulnerable        Total                  5   \n",
       "2              2011-2030             General           AM                  5   \n",
       "3              2011-2030             General          JJA                  5   \n",
       "4              2011-2030             General           SO                  5   \n",
       "\n",
       "   proj_ann_num_events  proj_avg_tmax  proj_avg_tmin  proj_avg_duration  \\\n",
       "0                 0.00            NaN            NaN                NaN   \n",
       "1                 1.55         104.81          67.97               4.94   \n",
       "2                 0.15          95.31          61.25               4.33   \n",
       "3                 0.10         104.03          68.97               4.00   \n",
       "4                 0.00            NaN            NaN                NaN   \n",
       "\n",
       "   proj_avg_rhmax  proj_avg_rhmin  ann_freq_rel_chg_perc  dur_rel_chg_perc  \n",
       "0             NaN             NaN                    NaN               NaN  \n",
       "1           59.94           16.27                 -21.19              2.90  \n",
       "2           57.35           17.52                 -35.71              1.11  \n",
       "3           68.38           17.69                 -25.00            -30.43  \n",
       "4             NaN             NaN                -100.00               NaN  "
      ]
     },
     "execution_count": 128,
     "metadata": {},
     "output_type": "execute_result"
    }
   ],
   "source": [
    "# Concatenate Riverside and San Bernardino Data\n",
    "CHATIE = pd.concat((CHATRiversideDf, CHATSBDf), axis=0)\n",
    "CHATIE.head()"
   ]
  },
  {
   "cell_type": "markdown",
   "id": "65a7ed3f-448a-4241-b68a-c4092ec32404",
   "metadata": {},
   "source": [
    "Select time frame as 2021-2040 and time of year as June, July, and August, or September and October for general population and also total for Vulnerable SE group"
   ]
  },
  {
   "cell_type": "code",
   "execution_count": 130,
   "id": "23a119e0-64ad-481a-8885-735c84814926",
   "metadata": {},
   "outputs": [
    {
     "data": {
      "text/plain": [
       "0         2011-2030\n",
       "1         2011-2030\n",
       "2         2011-2030\n",
       "3         2011-2030\n",
       "4         2011-2030\n",
       "            ...    \n",
       "147595    2081-2099\n",
       "147596    2081-2099\n",
       "147597    2081-2099\n",
       "147598    2081-2099\n",
       "147599    2081-2099\n",
       "Name: projections_time_frame, Length: 328800, dtype: object"
      ]
     },
     "execution_count": 130,
     "metadata": {},
     "output_type": "execute_result"
    }
   ],
   "source": [
    "CHATIE.projections_time_frame"
   ]
  },
  {
   "cell_type": "code",
   "execution_count": 134,
   "id": "463adf68-2fd9-422f-81a9-dcf79ec1a8b3",
   "metadata": {},
   "outputs": [
    {
     "ename": "SyntaxError",
     "evalue": "invalid syntax (1982789631.py, line 1)",
     "output_type": "error",
     "traceback": [
      "\u001b[0;36m  Cell \u001b[0;32mIn[134], line 1\u001b[0;36m\u001b[0m\n\u001b[0;31m    CHATIE = CHATIE[CHATIE['projections_time_frame']== '2021-2040' & (if CHATIE['socioeconomic_group']== 'General': CHATIE['time_of_year'].isin(['JJA', 'SO'])==True)]\u001b[0m\n\u001b[0m                                                                      ^\u001b[0m\n\u001b[0;31mSyntaxError\u001b[0m\u001b[0;31m:\u001b[0m invalid syntax\n"
     ]
    }
   ],
   "source": [
    "CHATIE = CHATIE[CHATIE['projections_time_frame']== '2021-2040' & (CHATIE['time_of_year'].isin(['JJA', 'SO'])==True)]"
   ]
  },
  {
   "cell_type": "code",
   "execution_count": null,
   "id": "55d48a6d-2f9e-4e5e-92bf-039c6eef2fd4",
   "metadata": {},
   "outputs": [],
   "source": []
  },
  {
   "cell_type": "code",
   "execution_count": 14,
   "id": "c31f359b-2534-4b4c-bf39-8fdb19a3aa69",
   "metadata": {},
   "outputs": [
    {
     "data": {
      "text/plain": [
       "geoid_long\n",
       "1400000US06065030101       NaN\n",
       "1400000US06065030101    104.81\n",
       "1400000US06065030101     95.31\n",
       "1400000US06065030101    104.03\n",
       "1400000US06065030101       NaN\n",
       "Name: proj_avg_tmax, dtype: float64"
      ]
     },
     "execution_count": 14,
     "metadata": {},
     "output_type": "execute_result"
    }
   ],
   "source": [
    "# Select Heat Health Events Max Temperature\n",
    "CHATIE_maxtemp = CHATIE['proj_avg_tmax']\n",
    "CHATIE_maxtemp.head()"
   ]
  },
  {
   "cell_type": "code",
   "execution_count": null,
   "id": "b5601751-0fdc-4beb-a2f8-42b600bf389c",
   "metadata": {},
   "outputs": [],
   "source": []
  }
 ],
 "metadata": {
  "kernelspec": {
   "display_name": "Python 3 (ipykernel)",
   "language": "python",
   "name": "python3"
  },
  "language_info": {
   "codemirror_mode": {
    "name": "ipython",
    "version": 3
   },
   "file_extension": ".py",
   "mimetype": "text/x-python",
   "name": "python",
   "nbconvert_exporter": "python",
   "pygments_lexer": "ipython3",
   "version": "3.10.10"
  }
 },
 "nbformat": 4,
 "nbformat_minor": 5
}
