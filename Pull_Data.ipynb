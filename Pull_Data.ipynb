{
 "cells": [
  {
   "cell_type": "markdown",
   "id": "8d63ea3c-ebdf-4a92-bd8d-ea01c96f9aa5",
   "metadata": {},
   "source": [
    "Pull in the data for CalEnviroScreen 4.0"
   ]
  },
  {
   "cell_type": "code",
   "execution_count": 18,
   "id": "1a2e73f7-f84f-4a06-8b5b-1f845bb80745",
   "metadata": {},
   "outputs": [],
   "source": [
    "# Change directory to location of CalEnviroScreen data\n",
    "import os\n",
    "os.getcwd()\n",
    "os.chdir('CalEnviroScreen')"
   ]
  },
  {
   "cell_type": "code",
   "execution_count": 6,
   "id": "b054073e-f24c-4186-88a9-5f971b7913cf",
   "metadata": {},
   "outputs": [],
   "source": [
    "# Import pandas \n",
    "import pandas as pd"
   ]
  },
  {
   "cell_type": "code",
   "execution_count": 19,
   "id": "a1782e47-90d7-4741-8b1a-70069d133354",
   "metadata": {},
   "outputs": [],
   "source": [
    "# Load in CalEnviroScreen Data\n",
    "import geopandas as gpd\n",
    "esGdf = gpd.read_file('CES4 Final Shapefile.shp')"
   ]
  },
  {
   "cell_type": "code",
   "execution_count": 4,
   "id": "5226599e-abab-422e-82f9-9fffd0295489",
   "metadata": {},
   "outputs": [],
   "source": [
    "# Restrict census tracts to Riverside and San Bernardino Counties\n",
    "esGdf_InlandEmpire = esGdf[esGdf['County'].isin(['Riverside', 'San Bernardino'])]"
   ]
  },
  {
   "cell_type": "code",
   "execution_count": 5,
   "id": "6cb5d893-cb82-423b-81f9-0d6e2e3efa4b",
   "metadata": {},
   "outputs": [
    {
     "data": {
      "text/plain": [
       "Index(['Tract', 'ZIP', 'County', 'ApproxLoc', 'TotPop19', 'CIscore',\n",
       "       'CIscoreP', 'Ozone', 'OzoneP', 'PM2_5', 'PM2_5_P', 'DieselPM',\n",
       "       'DieselPM_P', 'Pesticide', 'PesticideP', 'Tox_Rel', 'Tox_Rel_P',\n",
       "       'Traffic', 'TrafficP', 'DrinkWat', 'DrinkWatP', 'Lead', 'Lead_P',\n",
       "       'Cleanup', 'CleanupP', 'GWThreat', 'GWThreatP', 'HazWaste', 'HazWasteP',\n",
       "       'ImpWatBod', 'ImpWatBodP', 'SolWaste', 'SolWasteP', 'PollBurd',\n",
       "       'PolBurdSc', 'PolBurdP', 'Asthma', 'AsthmaP', 'LowBirtWt', 'LowBirWP',\n",
       "       'Cardiovas', 'CardiovasP', 'Educatn', 'EducatP', 'Ling_Isol',\n",
       "       'Ling_IsolP', 'Poverty', 'PovertyP', 'Unempl', 'UnemplP', 'HousBurd',\n",
       "       'HousBurdP', 'PopChar', 'PopCharSc', 'PopCharP', 'Child_10',\n",
       "       'Pop_10_64', 'Elderly65', 'Hispanic', 'White', 'AfricanAm', 'NativeAm',\n",
       "       'OtherMult', 'Shape_Leng', 'Shape_Area', 'AAPI', 'geometry'],\n",
       "      dtype='object')"
      ]
     },
     "execution_count": 5,
     "metadata": {},
     "output_type": "execute_result"
    }
   ],
   "source": [
    "esGdf_InlandEmpire.columns"
   ]
  },
  {
   "cell_type": "code",
   "execution_count": 13,
   "id": "a5265662-37fd-4097-a1de-146e7d245cbc",
   "metadata": {},
   "outputs": [],
   "source": [
    "# Use only raw scores as x-variables\n",
    "# List comprehension to exclude percentile columns and scores\n",
    "cols_to_exclude = [col for col in esGdf_InlandEmpire.columns if col.endswith('P') or col.endswith('score') or col.endswith('Sc')\n",
    "                   or col=='PollBurd' or col=='PopChar']\n",
    "esGdf_InlandEmpire_rawscores = [col for col in esGdf_InlandEmpire.columns if col not in cols_to_exclude]"
   ]
  },
  {
   "cell_type": "markdown",
   "id": "633627fc-2ba4-46e6-b00b-e9f94686490d",
   "metadata": {},
   "source": [
    "Data from 2019 American Community Survey (ACS) "
   ]
  },
  {
   "cell_type": "code",
   "execution_count": 52,
   "id": "d1077770-1753-4677-b5d6-1c9422d2e1be",
   "metadata": {},
   "outputs": [
    {
     "name": "stderr",
     "output_type": "stream",
     "text": [
      "/Users/samanthasmithies/anaconda3/envs/uds/lib/python3.9/site-packages/cenpy/products.py:762: FutureWarning: The `op` parameter is deprecated and will be removed in a future release. Please use the `predicate` parameter instead.\n",
      "  return self._from_name(county, variables, level, \"Counties\", **kwargs)\n",
      "/Users/samanthasmithies/anaconda3/envs/uds/lib/python3.9/site-packages/cenpy/products.py:762: FutureWarning: The `op` parameter is deprecated and will be removed in a future release. Please use the `predicate` parameter instead.\n",
      "  return self._from_name(county, variables, level, \"Counties\", **kwargs)\n"
     ]
    }
   ],
   "source": [
    "import cenpy\n",
    "from cenpy import products\n",
    "# create a connection to the American Community Survey\n",
    "acs = cenpy.products.ACS()\n",
    "# Get 2019 ACS Tenure variables and Median Household Income for LA county \n",
    "censusDf_Riverside = products.ACS(2019).from_county('Riverside, CA', level='tract',\n",
    "                                        variables=['B25003_001E', 'B25003_002E', 'B25003_003E', 'B19013_001E'])\n",
    "censusDf_San_Bernardino = products.ACS(2019).from_county('San Bernardino, CA', level='tract',\n",
    "                                        variables=['B25003_001E', 'B25003_002E', 'B25003_003E', 'B19013_001E'])"
   ]
  },
  {
   "cell_type": "code",
   "execution_count": 53,
   "id": "a40fd7b3-b65a-4946-b2d0-be23a2b34768",
   "metadata": {},
   "outputs": [
    {
     "data": {
      "text/html": [
       "<div>\n",
       "<style scoped>\n",
       "    .dataframe tbody tr th:only-of-type {\n",
       "        vertical-align: middle;\n",
       "    }\n",
       "\n",
       "    .dataframe tbody tr th {\n",
       "        vertical-align: top;\n",
       "    }\n",
       "\n",
       "    .dataframe thead th {\n",
       "        text-align: right;\n",
       "    }\n",
       "</style>\n",
       "<table border=\"1\" class=\"dataframe\">\n",
       "  <thead>\n",
       "    <tr style=\"text-align: right;\">\n",
       "      <th></th>\n",
       "      <th>description</th>\n",
       "      <th>columns</th>\n",
       "    </tr>\n",
       "    <tr>\n",
       "      <th>table_name</th>\n",
       "      <th></th>\n",
       "      <th></th>\n",
       "    </tr>\n",
       "  </thead>\n",
       "  <tbody>\n",
       "    <tr>\n",
       "      <th>B01001</th>\n",
       "      <td>SEX BY AGE</td>\n",
       "      <td>[B01001_001E, B01001_002E, B01001_003E, B01001...</td>\n",
       "    </tr>\n",
       "    <tr>\n",
       "      <th>B01002</th>\n",
       "      <td>MEDIAN AGE BY SEX</td>\n",
       "      <td>[B01002_001E, B01002_002E, B01002_003E]</td>\n",
       "    </tr>\n",
       "    <tr>\n",
       "      <th>B01003</th>\n",
       "      <td>TOTAL POPULATION</td>\n",
       "      <td>[B01003_001E]</td>\n",
       "    </tr>\n",
       "    <tr>\n",
       "      <th>B02001</th>\n",
       "      <td>RACE</td>\n",
       "      <td>[B02001_001E, B02001_002E, B02001_003E, B02001...</td>\n",
       "    </tr>\n",
       "    <tr>\n",
       "      <th>B02008</th>\n",
       "      <td>WHITE ALONE OR IN COMBINATION WITH ONE OR MORE...</td>\n",
       "      <td>[B02008_001E]</td>\n",
       "    </tr>\n",
       "  </tbody>\n",
       "</table>\n",
       "</div>"
      ],
      "text/plain": [
       "                                                  description  \\\n",
       "table_name                                                      \n",
       "B01001                                             SEX BY AGE   \n",
       "B01002                                      MEDIAN AGE BY SEX   \n",
       "B01003                                       TOTAL POPULATION   \n",
       "B02001                                                   RACE   \n",
       "B02008      WHITE ALONE OR IN COMBINATION WITH ONE OR MORE...   \n",
       "\n",
       "                                                      columns  \n",
       "table_name                                                     \n",
       "B01001      [B01001_001E, B01001_002E, B01001_003E, B01001...  \n",
       "B01002                [B01002_001E, B01002_002E, B01002_003E]  \n",
       "B01003                                          [B01003_001E]  \n",
       "B02001      [B02001_001E, B02001_002E, B02001_003E, B02001...  \n",
       "B02008                                          [B02008_001E]  "
      ]
     },
     "execution_count": 53,
     "metadata": {},
     "output_type": "execute_result"
    }
   ],
   "source": [
    "# what tables are available?\n",
    "acs.tables.head()"
   ]
  },
  {
   "cell_type": "code",
   "execution_count": null,
   "id": "2a3c15e8-e3b0-4aa1-8c50-87df637d9f94",
   "metadata": {},
   "outputs": [],
   "source": [
    "# Variables = [\n",
    "# Total Population (used to scale for percentages): B01001_001E\n",
    "# Male under 5= B01001_003E, Female under 5= B01001_027E, \n",
    "# Median Household Income = B19013_001E, \n",
    "# 15-17 year-olds Enrolled in public school: B14003_007E, \n",
    "# Estimate!!Total:!!Not enrolled in school: B14001_010E,\n",
    "# Estimate!!Total:!!With an Internet subscription: B28002_002E, Estimate!!Total:!!No fuel used= B25040_010E\t\n",
    "# Estimate!!Total:!!Owner occupied:!!1.01 to 1.50 occupants per room = B25014_005E, \n",
    "# Estimate!!Total:!!Owner occupied:!!1.51 to 2.00 occupants per room = B25014_006E,\n",
    "# Estimate!!Total:!!Owner occupied:!!2.01 or more occupants per room = B25014_007E, \n",
    "# Estimate!!Total:!!Renter occupied:!!1.01 to 1.50 occupants per room = B25014_011E,\n",
    "# Estimate!!Total:!!Renter occupied:!!1.51 to 2.00 occupants per room = B25014_012E,\n",
    "# Estimate!!Total:!!Renter occupied:!!2.01 or more occupants per room = B25014_013E, \n",
    "# Estimate!!Total:!!White alone = B02001_002E\n",
    "# Estimate!!Total:!!18 to 64 years!!With one type of disability = C18108_007E\n",
    "# Estimate!!Total:!!Under 18 years:!!With one type of disability = C18108_003E\n",
    "# Estimate!!Total:!!65 years and over:!!With one type of disability = C18108_0011E\n",
    "# Estimate!!Total:!!No Internet access = B28002_013E\n",
    "# Estimate!!Total:!!No fuel used = B25040_010E\n",
    "# Estimate!!Total:!!1.01 or more occupants per room = B25014H_003E"
   ]
  },
  {
   "cell_type": "markdown",
   "id": "d40a4999-2ca5-4513-9231-007e068a3072",
   "metadata": {},
   "source": [
    "Pull in the data from HUD CHAS"
   ]
  },
  {
   "cell_type": "code",
   "execution_count": 24,
   "id": "2fa5376e-f929-4cef-84dc-0fd5e31f16d1",
   "metadata": {},
   "outputs": [
    {
     "data": {
      "text/html": [
       "<div>\n",
       "<style scoped>\n",
       "    .dataframe tbody tr th:only-of-type {\n",
       "        vertical-align: middle;\n",
       "    }\n",
       "\n",
       "    .dataframe tbody tr th {\n",
       "        vertical-align: top;\n",
       "    }\n",
       "\n",
       "    .dataframe thead th {\n",
       "        text-align: right;\n",
       "    }\n",
       "</style>\n",
       "<table border=\"1\" class=\"dataframe\">\n",
       "  <thead>\n",
       "    <tr style=\"text-align: right;\">\n",
       "      <th></th>\n",
       "      <th>source</th>\n",
       "      <th>sumlevel</th>\n",
       "      <th>geoid</th>\n",
       "      <th>name</th>\n",
       "      <th>st</th>\n",
       "      <th>cnty</th>\n",
       "      <th>tract</th>\n",
       "      <th>T16_est1</th>\n",
       "      <th>T16_est2</th>\n",
       "      <th>T16_est3</th>\n",
       "      <th>...</th>\n",
       "      <th>T16_moe162</th>\n",
       "      <th>T16_moe163</th>\n",
       "      <th>T16_moe164</th>\n",
       "      <th>T16_moe165</th>\n",
       "      <th>T16_moe166</th>\n",
       "      <th>T16_moe167</th>\n",
       "      <th>T16_moe168</th>\n",
       "      <th>T16_moe169</th>\n",
       "      <th>T16_moe170</th>\n",
       "      <th>T16_moe171</th>\n",
       "    </tr>\n",
       "  </thead>\n",
       "  <tbody>\n",
       "  </tbody>\n",
       "</table>\n",
       "<p>0 rows × 349 columns</p>\n",
       "</div>"
      ],
      "text/plain": [
       "Empty DataFrame\n",
       "Columns: [source, sumlevel, geoid, name, st, cnty, tract, T16_est1, T16_est2, T16_est3, T16_est4, T16_est5, T16_est6, T16_est7, T16_est8, T16_est9, T16_est10, T16_est11, T16_est12, T16_est13, T16_est14, T16_est15, T16_est16, T16_est17, T16_est18, T16_est19, T16_est20, T16_est21, T16_est22, T16_est23, T16_est24, T16_est25, T16_est26, T16_est27, T16_est28, T16_est29, T16_est30, T16_est31, T16_est32, T16_est33, T16_est34, T16_est35, T16_est36, T16_est37, T16_est38, T16_est39, T16_est40, T16_est41, T16_est42, T16_est43, T16_est44, T16_est45, T16_est46, T16_est47, T16_est48, T16_est49, T16_est50, T16_est51, T16_est52, T16_est53, T16_est54, T16_est55, T16_est56, T16_est57, T16_est58, T16_est59, T16_est60, T16_est61, T16_est62, T16_est63, T16_est64, T16_est65, T16_est66, T16_est67, T16_est68, T16_est69, T16_est70, T16_est71, T16_est72, T16_est73, T16_est74, T16_est75, T16_est76, T16_est77, T16_est78, T16_est79, T16_est80, T16_est81, T16_est82, T16_est83, T16_est84, T16_est85, T16_est86, T16_est87, T16_est88, T16_est89, T16_est90, T16_est91, T16_est92, T16_est93, ...]\n",
       "Index: []\n",
       "\n",
       "[0 rows x 349 columns]"
      ]
     },
     "execution_count": 24,
     "metadata": {},
     "output_type": "execute_result"
    }
   ],
   "source": [
    "os.chdir('../HUD CHAS')\n",
    "hamfiDf = pd.read_csv('Table16.csv')\n",
    "len(hamfiDf)"
   ]
  },
  {
   "cell_type": "code",
   "execution_count": 47,
   "id": "d125bfe8-1d29-463c-9c7b-0e095865b9ed",
   "metadata": {},
   "outputs": [],
   "source": [
    "# Select HUD CHAS data for census tracts in the IE\n",
    "hamfiDfIE = hamfiDf[hamfiDf['name'].str.contains(\"Riverside\")|hamfiDf['name'].str.contains(\"San Bernardino\")]"
   ]
  },
  {
   "cell_type": "markdown",
   "id": "64023512-a5ec-4244-9bef-a8a4fc615b47",
   "metadata": {},
   "source": [
    "Calculate percentage of households per tract that make 30% or less than the HUD Area Median Family Income (HAMFI)."
   ]
  },
  {
   "cell_type": "code",
   "execution_count": 50,
   "id": "87b32948-1432-4691-8add-50fb5fff72fb",
   "metadata": {},
   "outputs": [
    {
     "name": "stderr",
     "output_type": "stream",
     "text": [
      "/var/folders/nt/pqtkb2xn7dv92qdv8m3dc9380000gn/T/ipykernel_4329/3931544881.py:3: SettingWithCopyWarning: \n",
      "A value is trying to be set on a copy of a slice from a DataFrame.\n",
      "Try using .loc[row_indexer,col_indexer] = value instead\n",
      "\n",
      "See the caveats in the documentation: https://pandas.pydata.org/pandas-docs/stable/user_guide/indexing.html#returning-a-view-versus-a-copy\n",
      "  hamfiDfIE['hamfi30'] = ((hamfiDf['T16_est3'] + hamfiDf['T16_est88'])/hamfiDf['T16_est1'])*100\n"
     ]
    },
    {
     "data": {
      "text/plain": [
       "8068     9.589041\n",
       "8069    20.833333\n",
       "8070     9.042553\n",
       "8071     6.779661\n",
       "8072    32.721713\n",
       "Name: hamfi30, dtype: float64"
      ]
     },
     "execution_count": 50,
     "metadata": {},
     "output_type": "execute_result"
    }
   ],
   "source": [
    "# Identify percentage of households per tract that make 30% or less than the HUD Area Median Family Income (HAMFI).\n",
    "\n",
    "hamfiDfIE['hamfi30'] = ((hamfiDf['T16_est3'] + hamfiDf['T16_est88'])/hamfiDf['T16_est1'])*100\n",
    "hamfiDfIE['hamfi30'].head()\n"
   ]
  }
 ],
 "metadata": {
  "kernelspec": {
   "display_name": "Python 3 (ipykernel)",
   "language": "python",
   "name": "python3"
  },
  "language_info": {
   "codemirror_mode": {
    "name": "ipython",
    "version": 3
   },
   "file_extension": ".py",
   "mimetype": "text/x-python",
   "name": "python",
   "nbconvert_exporter": "python",
   "pygments_lexer": "ipython3",
   "version": "3.9.16"
  }
 },
 "nbformat": 4,
 "nbformat_minor": 5
}
