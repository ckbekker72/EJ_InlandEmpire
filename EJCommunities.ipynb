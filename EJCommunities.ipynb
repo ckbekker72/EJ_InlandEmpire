{
 "cells": [
  {
   "cell_type": "markdown",
   "id": "dd60a875-e573-4863-948a-73b39f711071",
   "metadata": {},
   "source": [
    "Identifying EJ Communities in the Inland Empire"
   ]
  },
  {
   "cell_type": "markdown",
   "id": "34fd1490-18f9-49e4-8802-e7deb28f7233",
   "metadata": {},
   "source": [
    "1. In addition to the CalEnviroScreen4.0 Pollution Burden and Population Characteristics variables, we will “incorporate and analyze community-specific data and examine for additional pollution burden and health risk factors” as x-variables. The predicted y-variable will be classifications of census tracts as EJ communities currently defined by CalEnviroScreen4.0. \n"
   ]
  },
  {
   "cell_type": "markdown",
   "id": "b05fdb81-25d2-46e2-90ed-b122a6ae34d6",
   "metadata": {},
   "source": [
    "2. Divide training (75%) and testing (25%) census tracts. Run a Random Forest Classifier model. "
   ]
  },
  {
   "cell_type": "markdown",
   "id": "dc9f327b-a479-4e8a-9121-8c74f5831f9c",
   "metadata": {},
   "source": [
    "3. Compare the ML classification scheme and CalEnviroScreen4.0 indexing approach with Confusion Matrix. "
   ]
  },
  {
   "cell_type": "markdown",
   "id": "99a3451c-5cc3-4de3-8f3b-eb32bed7cf9a",
   "metadata": {},
   "source": [
    "4. Map the communities identified as EJ by ML but not CalEnviroScreen4.0 and calculate mean statistics for these communities. Why weren't they identified as EJ by CalEnviroScreen and are there good arguments why they should be classified as EJ?"
   ]
  }
 ],
 "metadata": {
  "kernelspec": {
   "display_name": "Python 3 (ipykernel)",
   "language": "python",
   "name": "python3"
  },
  "language_info": {
   "codemirror_mode": {
    "name": "ipython",
    "version": 3
   },
   "file_extension": ".py",
   "mimetype": "text/x-python",
   "name": "python",
   "nbconvert_exporter": "python",
   "pygments_lexer": "ipython3",
   "version": "3.9.16"
  }
 },
 "nbformat": 4,
 "nbformat_minor": 5
}
